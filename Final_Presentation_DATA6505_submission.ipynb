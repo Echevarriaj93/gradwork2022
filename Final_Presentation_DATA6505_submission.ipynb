{
  "nbformat": 4,
  "nbformat_minor": 0,
  "metadata": {
    "colab": {
      "provenance": [],
      "collapsed_sections": [
        "_dQjIM2UKyj1",
        "eEQMK9TWraMp",
        "xcx_ucI3rl3j",
        "392RmUz8s8QU",
        "0hIZpc14qtC0",
        "6qhpn6ZQaR5f"
      ]
    },
    "kernelspec": {
      "name": "python3",
      "display_name": "Python 3"
    },
    "language_info": {
      "name": "python"
    }
  },
  "cells": [
    {
      "cell_type": "code",
      "source": [
        "from google.colab import drive\n",
        "drive.mount('/content/drive')"
      ],
      "metadata": {
        "id": "A4jXDm5JSf2w",
        "colab": {
          "base_uri": "https://localhost:8080/"
        },
        "outputId": "7e2d4316-1ad3-4466-c9e1-a56a45879f17"
      },
      "execution_count": 3,
      "outputs": [
        {
          "output_type": "stream",
          "name": "stdout",
          "text": [
            "Mounted at /content/drive\n"
          ]
        }
      ]
    },
    {
      "cell_type": "markdown",
      "source": [
        "# **USA Craig's List Housing Listings**\n",
        "\n",
        "\n",
        "## In this project we observe and analyze the USA housing Listings (rentals) dataset from Kaggle. We formulate questions that interest us about the data and factors that influence price, some general knowledge about the properties and testing against two scenarios to determine the best living spaces that fit two theoretical client's needs.\n",
        "\n",
        "\n",
        "\n",
        "**Details form Kaggle:**\n",
        "\n",
        "About Dataset\n",
        "Context\n",
        "Craigslist is the world's largest collection of privately sold housing options, yet it's very difficult to collect all of them in the same place. I built this dataset as a means in by which to perform experimental analysis on the United States states as a whole instead of isolated urban housing markets.\n",
        "\n",
        "Content\n",
        "This data is scraped every few months, it contains most all relevant information that Craigslist provides on retail sales\n",
        "\n",
        "Source: https://www.kaggle.com/datasets/austinreese/usa-housing-listings\n"
      ],
      "metadata": {
        "id": "gHxGKNSsVlZv"
      }
    },
    {
      "cell_type": "markdown",
      "source": [
        "# **Investigation**\n",
        "\n",
        "1. Where can you get the best bang for your buck as a single person living in the United States looking for a place to rent?\n",
        "\n",
        "2. Where can you get the most out of a rental for a married couple with 2 kids?\n",
        "\n",
        "## **Assumptions**\n",
        "- Min Budget is 15% of Salary and Max Budget is 30%.\n",
        "- 70k dollars Median salary for single person. \n",
        "- 130k dollars Married couple Median salary. \n"
      ],
      "metadata": {
        "id": "EaKVF0sygq-V"
      }
    },
    {
      "cell_type": "code",
      "execution_count": 4,
      "metadata": {
        "id": "42Gxr1zqVbmz"
      },
      "outputs": [],
      "source": [
        "#@title Importing packages \n",
        "#importing dependencies\n",
        "\n",
        "import pandas as pd\n",
        "import numpy as np\n",
        "import matplotlib.pyplot as plt\n",
        "import seaborn as sns\n",
        "\n",
        "\n"
      ]
    },
    {
      "cell_type": "markdown",
      "source": [
        "# **Importing the Data**"
      ],
      "metadata": {
        "id": "qjonn8xbW25D"
      }
    },
    {
      "cell_type": "code",
      "source": [
        "#@title Importing CSV\n",
        "#importing as csv\n",
        "\n",
        "data = pd.read_csv('/content/drive/MyDrive/Data6505 Final Project/housing.csv') #Jose\n",
        "\n",
        "#data = pd.read_csv('')# Riccardo\n",
        "\n",
        "# data = pd.read_csv('/content/drive/MyDrive/Real Estate project/housing.csv') #Arman\n",
        "\n",
        "data.head()"
      ],
      "metadata": {
        "id": "f7wGnrGYWxDy",
        "colab": {
          "base_uri": "https://localhost:8080/",
          "height": 508
        },
        "outputId": "3c107899-13a4-4377-b0f9-e86f50558db2"
      },
      "execution_count": 5,
      "outputs": [
        {
          "output_type": "execute_result",
          "data": {
            "text/plain": [
              "           id                                                url  \\\n",
              "0  7049044568  https://reno.craigslist.org/apa/d/reno-beautif...   \n",
              "1  7049047186  https://reno.craigslist.org/apa/d/reno-reduced...   \n",
              "2  7043634882  https://reno.craigslist.org/apa/d/sparks-state...   \n",
              "3  7049045324  https://reno.craigslist.org/apa/d/reno-1x1-fir...   \n",
              "4  7049043759  https://reno.craigslist.org/apa/d/reno-no-long...   \n",
              "\n",
              "         region                   region_url  price       type  sqfeet  beds  \\\n",
              "0  reno / tahoe  https://reno.craigslist.org   1148  apartment    1078     3   \n",
              "1  reno / tahoe  https://reno.craigslist.org   1200      condo    1001     2   \n",
              "2  reno / tahoe  https://reno.craigslist.org   1813  apartment    1683     2   \n",
              "3  reno / tahoe  https://reno.craigslist.org   1095  apartment     708     1   \n",
              "4  reno / tahoe  https://reno.craigslist.org    289  apartment     250     0   \n",
              "\n",
              "   baths  cats_allowed  ...  wheelchair_access  electric_vehicle_charge  \\\n",
              "0    2.0             1  ...                  0                        0   \n",
              "1    2.0             0  ...                  0                        0   \n",
              "2    2.0             1  ...                  0                        0   \n",
              "3    1.0             1  ...                  0                        0   \n",
              "4    1.0             1  ...                  1                        0   \n",
              "\n",
              "   comes_furnished  laundry_options  parking_options  \\\n",
              "0                0      w/d in unit          carport   \n",
              "1                0      w/d hookups          carport   \n",
              "2                0      w/d in unit  attached garage   \n",
              "3                0      w/d in unit          carport   \n",
              "4                1  laundry on site              NaN   \n",
              "\n",
              "                                           image_url  \\\n",
              "0  https://images.craigslist.org/01616_daghmBUvTC...   \n",
              "1  https://images.craigslist.org/00V0V_5va0MkgO9q...   \n",
              "2  https://images.craigslist.org/00t0t_erYqC6LgB8...   \n",
              "3  https://images.craigslist.org/00303_3HSJz75zlI...   \n",
              "4  https://images.craigslist.org/01616_fALAWFV8zQ...   \n",
              "\n",
              "                                         description      lat     long  state  \n",
              "0  Ridgeview by Vintage is where you will find al...  39.5483 -119.796     ca  \n",
              "1  Conveniently located in the middle town of Ren...  39.5026 -119.789     ca  \n",
              "2  2BD | 2BA | 1683SQFTDiscover exceptional servi...  39.6269 -119.708     ca  \n",
              "3  MOVE IN SPECIAL FREE WASHER/DRYER WITH 6 OR 12...  39.4477 -119.771     ca  \n",
              "4  Move In Today: Reno Low-Cost, Clean & Furnishe...  39.5357 -119.805     ca  \n",
              "\n",
              "[5 rows x 22 columns]"
            ],
            "text/html": [
              "\n",
              "  <div id=\"df-1822ba7e-4201-4f22-9c85-c9ce823f1e85\">\n",
              "    <div class=\"colab-df-container\">\n",
              "      <div>\n",
              "<style scoped>\n",
              "    .dataframe tbody tr th:only-of-type {\n",
              "        vertical-align: middle;\n",
              "    }\n",
              "\n",
              "    .dataframe tbody tr th {\n",
              "        vertical-align: top;\n",
              "    }\n",
              "\n",
              "    .dataframe thead th {\n",
              "        text-align: right;\n",
              "    }\n",
              "</style>\n",
              "<table border=\"1\" class=\"dataframe\">\n",
              "  <thead>\n",
              "    <tr style=\"text-align: right;\">\n",
              "      <th></th>\n",
              "      <th>id</th>\n",
              "      <th>url</th>\n",
              "      <th>region</th>\n",
              "      <th>region_url</th>\n",
              "      <th>price</th>\n",
              "      <th>type</th>\n",
              "      <th>sqfeet</th>\n",
              "      <th>beds</th>\n",
              "      <th>baths</th>\n",
              "      <th>cats_allowed</th>\n",
              "      <th>...</th>\n",
              "      <th>wheelchair_access</th>\n",
              "      <th>electric_vehicle_charge</th>\n",
              "      <th>comes_furnished</th>\n",
              "      <th>laundry_options</th>\n",
              "      <th>parking_options</th>\n",
              "      <th>image_url</th>\n",
              "      <th>description</th>\n",
              "      <th>lat</th>\n",
              "      <th>long</th>\n",
              "      <th>state</th>\n",
              "    </tr>\n",
              "  </thead>\n",
              "  <tbody>\n",
              "    <tr>\n",
              "      <th>0</th>\n",
              "      <td>7049044568</td>\n",
              "      <td>https://reno.craigslist.org/apa/d/reno-beautif...</td>\n",
              "      <td>reno / tahoe</td>\n",
              "      <td>https://reno.craigslist.org</td>\n",
              "      <td>1148</td>\n",
              "      <td>apartment</td>\n",
              "      <td>1078</td>\n",
              "      <td>3</td>\n",
              "      <td>2.0</td>\n",
              "      <td>1</td>\n",
              "      <td>...</td>\n",
              "      <td>0</td>\n",
              "      <td>0</td>\n",
              "      <td>0</td>\n",
              "      <td>w/d in unit</td>\n",
              "      <td>carport</td>\n",
              "      <td>https://images.craigslist.org/01616_daghmBUvTC...</td>\n",
              "      <td>Ridgeview by Vintage is where you will find al...</td>\n",
              "      <td>39.5483</td>\n",
              "      <td>-119.796</td>\n",
              "      <td>ca</td>\n",
              "    </tr>\n",
              "    <tr>\n",
              "      <th>1</th>\n",
              "      <td>7049047186</td>\n",
              "      <td>https://reno.craigslist.org/apa/d/reno-reduced...</td>\n",
              "      <td>reno / tahoe</td>\n",
              "      <td>https://reno.craigslist.org</td>\n",
              "      <td>1200</td>\n",
              "      <td>condo</td>\n",
              "      <td>1001</td>\n",
              "      <td>2</td>\n",
              "      <td>2.0</td>\n",
              "      <td>0</td>\n",
              "      <td>...</td>\n",
              "      <td>0</td>\n",
              "      <td>0</td>\n",
              "      <td>0</td>\n",
              "      <td>w/d hookups</td>\n",
              "      <td>carport</td>\n",
              "      <td>https://images.craigslist.org/00V0V_5va0MkgO9q...</td>\n",
              "      <td>Conveniently located in the middle town of Ren...</td>\n",
              "      <td>39.5026</td>\n",
              "      <td>-119.789</td>\n",
              "      <td>ca</td>\n",
              "    </tr>\n",
              "    <tr>\n",
              "      <th>2</th>\n",
              "      <td>7043634882</td>\n",
              "      <td>https://reno.craigslist.org/apa/d/sparks-state...</td>\n",
              "      <td>reno / tahoe</td>\n",
              "      <td>https://reno.craigslist.org</td>\n",
              "      <td>1813</td>\n",
              "      <td>apartment</td>\n",
              "      <td>1683</td>\n",
              "      <td>2</td>\n",
              "      <td>2.0</td>\n",
              "      <td>1</td>\n",
              "      <td>...</td>\n",
              "      <td>0</td>\n",
              "      <td>0</td>\n",
              "      <td>0</td>\n",
              "      <td>w/d in unit</td>\n",
              "      <td>attached garage</td>\n",
              "      <td>https://images.craigslist.org/00t0t_erYqC6LgB8...</td>\n",
              "      <td>2BD | 2BA | 1683SQFTDiscover exceptional servi...</td>\n",
              "      <td>39.6269</td>\n",
              "      <td>-119.708</td>\n",
              "      <td>ca</td>\n",
              "    </tr>\n",
              "    <tr>\n",
              "      <th>3</th>\n",
              "      <td>7049045324</td>\n",
              "      <td>https://reno.craigslist.org/apa/d/reno-1x1-fir...</td>\n",
              "      <td>reno / tahoe</td>\n",
              "      <td>https://reno.craigslist.org</td>\n",
              "      <td>1095</td>\n",
              "      <td>apartment</td>\n",
              "      <td>708</td>\n",
              "      <td>1</td>\n",
              "      <td>1.0</td>\n",
              "      <td>1</td>\n",
              "      <td>...</td>\n",
              "      <td>0</td>\n",
              "      <td>0</td>\n",
              "      <td>0</td>\n",
              "      <td>w/d in unit</td>\n",
              "      <td>carport</td>\n",
              "      <td>https://images.craigslist.org/00303_3HSJz75zlI...</td>\n",
              "      <td>MOVE IN SPECIAL FREE WASHER/DRYER WITH 6 OR 12...</td>\n",
              "      <td>39.4477</td>\n",
              "      <td>-119.771</td>\n",
              "      <td>ca</td>\n",
              "    </tr>\n",
              "    <tr>\n",
              "      <th>4</th>\n",
              "      <td>7049043759</td>\n",
              "      <td>https://reno.craigslist.org/apa/d/reno-no-long...</td>\n",
              "      <td>reno / tahoe</td>\n",
              "      <td>https://reno.craigslist.org</td>\n",
              "      <td>289</td>\n",
              "      <td>apartment</td>\n",
              "      <td>250</td>\n",
              "      <td>0</td>\n",
              "      <td>1.0</td>\n",
              "      <td>1</td>\n",
              "      <td>...</td>\n",
              "      <td>1</td>\n",
              "      <td>0</td>\n",
              "      <td>1</td>\n",
              "      <td>laundry on site</td>\n",
              "      <td>NaN</td>\n",
              "      <td>https://images.craigslist.org/01616_fALAWFV8zQ...</td>\n",
              "      <td>Move In Today: Reno Low-Cost, Clean &amp; Furnishe...</td>\n",
              "      <td>39.5357</td>\n",
              "      <td>-119.805</td>\n",
              "      <td>ca</td>\n",
              "    </tr>\n",
              "  </tbody>\n",
              "</table>\n",
              "<p>5 rows × 22 columns</p>\n",
              "</div>\n",
              "      <button class=\"colab-df-convert\" onclick=\"convertToInteractive('df-1822ba7e-4201-4f22-9c85-c9ce823f1e85')\"\n",
              "              title=\"Convert this dataframe to an interactive table.\"\n",
              "              style=\"display:none;\">\n",
              "        \n",
              "  <svg xmlns=\"http://www.w3.org/2000/svg\" height=\"24px\"viewBox=\"0 0 24 24\"\n",
              "       width=\"24px\">\n",
              "    <path d=\"M0 0h24v24H0V0z\" fill=\"none\"/>\n",
              "    <path d=\"M18.56 5.44l.94 2.06.94-2.06 2.06-.94-2.06-.94-.94-2.06-.94 2.06-2.06.94zm-11 1L8.5 8.5l.94-2.06 2.06-.94-2.06-.94L8.5 2.5l-.94 2.06-2.06.94zm10 10l.94 2.06.94-2.06 2.06-.94-2.06-.94-.94-2.06-.94 2.06-2.06.94z\"/><path d=\"M17.41 7.96l-1.37-1.37c-.4-.4-.92-.59-1.43-.59-.52 0-1.04.2-1.43.59L10.3 9.45l-7.72 7.72c-.78.78-.78 2.05 0 2.83L4 21.41c.39.39.9.59 1.41.59.51 0 1.02-.2 1.41-.59l7.78-7.78 2.81-2.81c.8-.78.8-2.07 0-2.86zM5.41 20L4 18.59l7.72-7.72 1.47 1.35L5.41 20z\"/>\n",
              "  </svg>\n",
              "      </button>\n",
              "      \n",
              "  <style>\n",
              "    .colab-df-container {\n",
              "      display:flex;\n",
              "      flex-wrap:wrap;\n",
              "      gap: 12px;\n",
              "    }\n",
              "\n",
              "    .colab-df-convert {\n",
              "      background-color: #E8F0FE;\n",
              "      border: none;\n",
              "      border-radius: 50%;\n",
              "      cursor: pointer;\n",
              "      display: none;\n",
              "      fill: #1967D2;\n",
              "      height: 32px;\n",
              "      padding: 0 0 0 0;\n",
              "      width: 32px;\n",
              "    }\n",
              "\n",
              "    .colab-df-convert:hover {\n",
              "      background-color: #E2EBFA;\n",
              "      box-shadow: 0px 1px 2px rgba(60, 64, 67, 0.3), 0px 1px 3px 1px rgba(60, 64, 67, 0.15);\n",
              "      fill: #174EA6;\n",
              "    }\n",
              "\n",
              "    [theme=dark] .colab-df-convert {\n",
              "      background-color: #3B4455;\n",
              "      fill: #D2E3FC;\n",
              "    }\n",
              "\n",
              "    [theme=dark] .colab-df-convert:hover {\n",
              "      background-color: #434B5C;\n",
              "      box-shadow: 0px 1px 3px 1px rgba(0, 0, 0, 0.15);\n",
              "      filter: drop-shadow(0px 1px 2px rgba(0, 0, 0, 0.3));\n",
              "      fill: #FFFFFF;\n",
              "    }\n",
              "  </style>\n",
              "\n",
              "      <script>\n",
              "        const buttonEl =\n",
              "          document.querySelector('#df-1822ba7e-4201-4f22-9c85-c9ce823f1e85 button.colab-df-convert');\n",
              "        buttonEl.style.display =\n",
              "          google.colab.kernel.accessAllowed ? 'block' : 'none';\n",
              "\n",
              "        async function convertToInteractive(key) {\n",
              "          const element = document.querySelector('#df-1822ba7e-4201-4f22-9c85-c9ce823f1e85');\n",
              "          const dataTable =\n",
              "            await google.colab.kernel.invokeFunction('convertToInteractive',\n",
              "                                                     [key], {});\n",
              "          if (!dataTable) return;\n",
              "\n",
              "          const docLinkHtml = 'Like what you see? Visit the ' +\n",
              "            '<a target=\"_blank\" href=https://colab.research.google.com/notebooks/data_table.ipynb>data table notebook</a>'\n",
              "            + ' to learn more about interactive tables.';\n",
              "          element.innerHTML = '';\n",
              "          dataTable['output_type'] = 'display_data';\n",
              "          await google.colab.output.renderOutput(dataTable, element);\n",
              "          const docLink = document.createElement('div');\n",
              "          docLink.innerHTML = docLinkHtml;\n",
              "          element.appendChild(docLink);\n",
              "        }\n",
              "      </script>\n",
              "    </div>\n",
              "  </div>\n",
              "  "
            ]
          },
          "metadata": {},
          "execution_count": 5
        }
      ]
    },
    {
      "cell_type": "markdown",
      "source": [
        "## **Initial Observations**"
      ],
      "metadata": {
        "id": "1ePS_5AqcmKw"
      }
    },
    {
      "cell_type": "code",
      "source": [
        "#@title Viewing the columns and data types\n",
        "#understanding the data\n",
        "data.info()"
      ],
      "metadata": {
        "id": "vea5mi8OxtPb",
        "colab": {
          "base_uri": "https://localhost:8080/"
        },
        "outputId": "3f8c81a2-c3a6-4a1c-c997-5610aac91dbb"
      },
      "execution_count": 6,
      "outputs": [
        {
          "output_type": "stream",
          "name": "stdout",
          "text": [
            "<class 'pandas.core.frame.DataFrame'>\n",
            "RangeIndex: 384977 entries, 0 to 384976\n",
            "Data columns (total 22 columns):\n",
            " #   Column                   Non-Null Count   Dtype  \n",
            "---  ------                   --------------   -----  \n",
            " 0   id                       384977 non-null  int64  \n",
            " 1   url                      384977 non-null  object \n",
            " 2   region                   384977 non-null  object \n",
            " 3   region_url               384977 non-null  object \n",
            " 4   price                    384977 non-null  int64  \n",
            " 5   type                     384977 non-null  object \n",
            " 6   sqfeet                   384977 non-null  int64  \n",
            " 7   beds                     384977 non-null  int64  \n",
            " 8   baths                    384977 non-null  float64\n",
            " 9   cats_allowed             384977 non-null  int64  \n",
            " 10  dogs_allowed             384977 non-null  int64  \n",
            " 11  smoking_allowed          384977 non-null  int64  \n",
            " 12  wheelchair_access        384977 non-null  int64  \n",
            " 13  electric_vehicle_charge  384977 non-null  int64  \n",
            " 14  comes_furnished          384977 non-null  int64  \n",
            " 15  laundry_options          305951 non-null  object \n",
            " 16  parking_options          244290 non-null  object \n",
            " 17  image_url                384977 non-null  object \n",
            " 18  description              384975 non-null  object \n",
            " 19  lat                      383059 non-null  float64\n",
            " 20  long                     383059 non-null  float64\n",
            " 21  state                    384977 non-null  object \n",
            "dtypes: float64(3), int64(10), object(9)\n",
            "memory usage: 64.6+ MB\n"
          ]
        }
      ]
    },
    {
      "cell_type": "markdown",
      "source": [
        "### The dataset shows some valuable information about living spaces and their features such as laundry, parking, square footage, bedrooms, pets allowed etc.\n",
        "\n"
      ],
      "metadata": {
        "id": "4sNvGPWcdQl8"
      }
    },
    {
      "cell_type": "code",
      "source": [
        "#@title 384977 rows, 22 columns\n",
        "#Rows and columns\n",
        "\n",
        "data.shape #384977 rows, 22 columns"
      ],
      "metadata": {
        "id": "QanfR0g-cMtv",
        "colab": {
          "base_uri": "https://localhost:8080/"
        },
        "outputId": "2b689378-ca7d-4b71-ab7e-95b57eb996b3"
      },
      "execution_count": 7,
      "outputs": [
        {
          "output_type": "execute_result",
          "data": {
            "text/plain": [
              "(384977, 22)"
            ]
          },
          "metadata": {},
          "execution_count": 7
        }
      ]
    },
    {
      "cell_type": "code",
      "source": [
        "#@title Viewing the columns in DF\n",
        "data.columns"
      ],
      "metadata": {
        "id": "1PXHz4gSF-2E",
        "colab": {
          "base_uri": "https://localhost:8080/"
        },
        "outputId": "54bbf4b8-f1c0-4adb-ed6b-a8d85a6ed088"
      },
      "execution_count": 8,
      "outputs": [
        {
          "output_type": "execute_result",
          "data": {
            "text/plain": [
              "Index(['id', 'url', 'region', 'region_url', 'price', 'type', 'sqfeet', 'beds',\n",
              "       'baths', 'cats_allowed', 'dogs_allowed', 'smoking_allowed',\n",
              "       'wheelchair_access', 'electric_vehicle_charge', 'comes_furnished',\n",
              "       'laundry_options', 'parking_options', 'image_url', 'description', 'lat',\n",
              "       'long', 'state'],\n",
              "      dtype='object')"
            ]
          },
          "metadata": {},
          "execution_count": 8
        }
      ]
    },
    {
      "cell_type": "code",
      "source": [
        "#@title Summary Statistics\n",
        "\n",
        "#Summary Statistics\n",
        "\n",
        "data.describe()\n"
      ],
      "metadata": {
        "id": "9tqCF3eutd77",
        "cellView": "form",
        "colab": {
          "base_uri": "https://localhost:8080/",
          "height": 364
        },
        "outputId": "93fdc5f0-ecfc-4c6b-f3ba-df02b0b485f1"
      },
      "execution_count": 9,
      "outputs": [
        {
          "output_type": "execute_result",
          "data": {
            "text/plain": [
              "                 id         price        sqfeet           beds          baths  \\\n",
              "count  3.849770e+05  3.849770e+05  3.849770e+05  384977.000000  384977.000000   \n",
              "mean   7.040982e+09  8.825722e+03  1.059900e+03       1.905345       1.480718   \n",
              "std    8.800376e+06  4.462200e+06  1.915076e+04       3.494572       0.618061   \n",
              "min    7.003808e+09  0.000000e+00  0.000000e+00       0.000000       0.000000   \n",
              "25%    7.035979e+09  8.050000e+02  7.500000e+02       1.000000       1.000000   \n",
              "50%    7.043320e+09  1.036000e+03  9.490000e+02       2.000000       1.000000   \n",
              "75%    7.048426e+09  1.395000e+03  1.150000e+03       2.000000       2.000000   \n",
              "max    7.051292e+09  2.768307e+09  8.388607e+06    1100.000000      75.000000   \n",
              "\n",
              "        cats_allowed   dogs_allowed  smoking_allowed  wheelchair_access  \\\n",
              "count  384977.000000  384977.000000    384977.000000      384977.000000   \n",
              "mean        0.726890       0.707918         0.731771           0.082111   \n",
              "std         0.445557       0.454721         0.443038           0.274535   \n",
              "min         0.000000       0.000000         0.000000           0.000000   \n",
              "25%         0.000000       0.000000         0.000000           0.000000   \n",
              "50%         1.000000       1.000000         1.000000           0.000000   \n",
              "75%         1.000000       1.000000         1.000000           0.000000   \n",
              "max         1.000000       1.000000         1.000000           1.000000   \n",
              "\n",
              "       electric_vehicle_charge  comes_furnished            lat           long  \n",
              "count            384977.000000    384977.000000  383059.000000  383059.000000  \n",
              "mean                  0.012871         0.048128      37.233487     -92.700631  \n",
              "std                   0.112718         0.214036       5.546171      16.531980  \n",
              "min                   0.000000         0.000000     -43.533300    -163.894000  \n",
              "25%                   0.000000         0.000000      33.454700    -100.775000  \n",
              "50%                   0.000000         0.000000      37.647800     -87.745100  \n",
              "75%                   0.000000         0.000000      41.138300     -81.179600  \n",
              "max                   1.000000         1.000000     102.036000     172.633000  "
            ],
            "text/html": [
              "\n",
              "  <div id=\"df-f6066f46-aec2-4fdc-bffd-8d9c2738354b\">\n",
              "    <div class=\"colab-df-container\">\n",
              "      <div>\n",
              "<style scoped>\n",
              "    .dataframe tbody tr th:only-of-type {\n",
              "        vertical-align: middle;\n",
              "    }\n",
              "\n",
              "    .dataframe tbody tr th {\n",
              "        vertical-align: top;\n",
              "    }\n",
              "\n",
              "    .dataframe thead th {\n",
              "        text-align: right;\n",
              "    }\n",
              "</style>\n",
              "<table border=\"1\" class=\"dataframe\">\n",
              "  <thead>\n",
              "    <tr style=\"text-align: right;\">\n",
              "      <th></th>\n",
              "      <th>id</th>\n",
              "      <th>price</th>\n",
              "      <th>sqfeet</th>\n",
              "      <th>beds</th>\n",
              "      <th>baths</th>\n",
              "      <th>cats_allowed</th>\n",
              "      <th>dogs_allowed</th>\n",
              "      <th>smoking_allowed</th>\n",
              "      <th>wheelchair_access</th>\n",
              "      <th>electric_vehicle_charge</th>\n",
              "      <th>comes_furnished</th>\n",
              "      <th>lat</th>\n",
              "      <th>long</th>\n",
              "    </tr>\n",
              "  </thead>\n",
              "  <tbody>\n",
              "    <tr>\n",
              "      <th>count</th>\n",
              "      <td>3.849770e+05</td>\n",
              "      <td>3.849770e+05</td>\n",
              "      <td>3.849770e+05</td>\n",
              "      <td>384977.000000</td>\n",
              "      <td>384977.000000</td>\n",
              "      <td>384977.000000</td>\n",
              "      <td>384977.000000</td>\n",
              "      <td>384977.000000</td>\n",
              "      <td>384977.000000</td>\n",
              "      <td>384977.000000</td>\n",
              "      <td>384977.000000</td>\n",
              "      <td>383059.000000</td>\n",
              "      <td>383059.000000</td>\n",
              "    </tr>\n",
              "    <tr>\n",
              "      <th>mean</th>\n",
              "      <td>7.040982e+09</td>\n",
              "      <td>8.825722e+03</td>\n",
              "      <td>1.059900e+03</td>\n",
              "      <td>1.905345</td>\n",
              "      <td>1.480718</td>\n",
              "      <td>0.726890</td>\n",
              "      <td>0.707918</td>\n",
              "      <td>0.731771</td>\n",
              "      <td>0.082111</td>\n",
              "      <td>0.012871</td>\n",
              "      <td>0.048128</td>\n",
              "      <td>37.233487</td>\n",
              "      <td>-92.700631</td>\n",
              "    </tr>\n",
              "    <tr>\n",
              "      <th>std</th>\n",
              "      <td>8.800376e+06</td>\n",
              "      <td>4.462200e+06</td>\n",
              "      <td>1.915076e+04</td>\n",
              "      <td>3.494572</td>\n",
              "      <td>0.618061</td>\n",
              "      <td>0.445557</td>\n",
              "      <td>0.454721</td>\n",
              "      <td>0.443038</td>\n",
              "      <td>0.274535</td>\n",
              "      <td>0.112718</td>\n",
              "      <td>0.214036</td>\n",
              "      <td>5.546171</td>\n",
              "      <td>16.531980</td>\n",
              "    </tr>\n",
              "    <tr>\n",
              "      <th>min</th>\n",
              "      <td>7.003808e+09</td>\n",
              "      <td>0.000000e+00</td>\n",
              "      <td>0.000000e+00</td>\n",
              "      <td>0.000000</td>\n",
              "      <td>0.000000</td>\n",
              "      <td>0.000000</td>\n",
              "      <td>0.000000</td>\n",
              "      <td>0.000000</td>\n",
              "      <td>0.000000</td>\n",
              "      <td>0.000000</td>\n",
              "      <td>0.000000</td>\n",
              "      <td>-43.533300</td>\n",
              "      <td>-163.894000</td>\n",
              "    </tr>\n",
              "    <tr>\n",
              "      <th>25%</th>\n",
              "      <td>7.035979e+09</td>\n",
              "      <td>8.050000e+02</td>\n",
              "      <td>7.500000e+02</td>\n",
              "      <td>1.000000</td>\n",
              "      <td>1.000000</td>\n",
              "      <td>0.000000</td>\n",
              "      <td>0.000000</td>\n",
              "      <td>0.000000</td>\n",
              "      <td>0.000000</td>\n",
              "      <td>0.000000</td>\n",
              "      <td>0.000000</td>\n",
              "      <td>33.454700</td>\n",
              "      <td>-100.775000</td>\n",
              "    </tr>\n",
              "    <tr>\n",
              "      <th>50%</th>\n",
              "      <td>7.043320e+09</td>\n",
              "      <td>1.036000e+03</td>\n",
              "      <td>9.490000e+02</td>\n",
              "      <td>2.000000</td>\n",
              "      <td>1.000000</td>\n",
              "      <td>1.000000</td>\n",
              "      <td>1.000000</td>\n",
              "      <td>1.000000</td>\n",
              "      <td>0.000000</td>\n",
              "      <td>0.000000</td>\n",
              "      <td>0.000000</td>\n",
              "      <td>37.647800</td>\n",
              "      <td>-87.745100</td>\n",
              "    </tr>\n",
              "    <tr>\n",
              "      <th>75%</th>\n",
              "      <td>7.048426e+09</td>\n",
              "      <td>1.395000e+03</td>\n",
              "      <td>1.150000e+03</td>\n",
              "      <td>2.000000</td>\n",
              "      <td>2.000000</td>\n",
              "      <td>1.000000</td>\n",
              "      <td>1.000000</td>\n",
              "      <td>1.000000</td>\n",
              "      <td>0.000000</td>\n",
              "      <td>0.000000</td>\n",
              "      <td>0.000000</td>\n",
              "      <td>41.138300</td>\n",
              "      <td>-81.179600</td>\n",
              "    </tr>\n",
              "    <tr>\n",
              "      <th>max</th>\n",
              "      <td>7.051292e+09</td>\n",
              "      <td>2.768307e+09</td>\n",
              "      <td>8.388607e+06</td>\n",
              "      <td>1100.000000</td>\n",
              "      <td>75.000000</td>\n",
              "      <td>1.000000</td>\n",
              "      <td>1.000000</td>\n",
              "      <td>1.000000</td>\n",
              "      <td>1.000000</td>\n",
              "      <td>1.000000</td>\n",
              "      <td>1.000000</td>\n",
              "      <td>102.036000</td>\n",
              "      <td>172.633000</td>\n",
              "    </tr>\n",
              "  </tbody>\n",
              "</table>\n",
              "</div>\n",
              "      <button class=\"colab-df-convert\" onclick=\"convertToInteractive('df-f6066f46-aec2-4fdc-bffd-8d9c2738354b')\"\n",
              "              title=\"Convert this dataframe to an interactive table.\"\n",
              "              style=\"display:none;\">\n",
              "        \n",
              "  <svg xmlns=\"http://www.w3.org/2000/svg\" height=\"24px\"viewBox=\"0 0 24 24\"\n",
              "       width=\"24px\">\n",
              "    <path d=\"M0 0h24v24H0V0z\" fill=\"none\"/>\n",
              "    <path d=\"M18.56 5.44l.94 2.06.94-2.06 2.06-.94-2.06-.94-.94-2.06-.94 2.06-2.06.94zm-11 1L8.5 8.5l.94-2.06 2.06-.94-2.06-.94L8.5 2.5l-.94 2.06-2.06.94zm10 10l.94 2.06.94-2.06 2.06-.94-2.06-.94-.94-2.06-.94 2.06-2.06.94z\"/><path d=\"M17.41 7.96l-1.37-1.37c-.4-.4-.92-.59-1.43-.59-.52 0-1.04.2-1.43.59L10.3 9.45l-7.72 7.72c-.78.78-.78 2.05 0 2.83L4 21.41c.39.39.9.59 1.41.59.51 0 1.02-.2 1.41-.59l7.78-7.78 2.81-2.81c.8-.78.8-2.07 0-2.86zM5.41 20L4 18.59l7.72-7.72 1.47 1.35L5.41 20z\"/>\n",
              "  </svg>\n",
              "      </button>\n",
              "      \n",
              "  <style>\n",
              "    .colab-df-container {\n",
              "      display:flex;\n",
              "      flex-wrap:wrap;\n",
              "      gap: 12px;\n",
              "    }\n",
              "\n",
              "    .colab-df-convert {\n",
              "      background-color: #E8F0FE;\n",
              "      border: none;\n",
              "      border-radius: 50%;\n",
              "      cursor: pointer;\n",
              "      display: none;\n",
              "      fill: #1967D2;\n",
              "      height: 32px;\n",
              "      padding: 0 0 0 0;\n",
              "      width: 32px;\n",
              "    }\n",
              "\n",
              "    .colab-df-convert:hover {\n",
              "      background-color: #E2EBFA;\n",
              "      box-shadow: 0px 1px 2px rgba(60, 64, 67, 0.3), 0px 1px 3px 1px rgba(60, 64, 67, 0.15);\n",
              "      fill: #174EA6;\n",
              "    }\n",
              "\n",
              "    [theme=dark] .colab-df-convert {\n",
              "      background-color: #3B4455;\n",
              "      fill: #D2E3FC;\n",
              "    }\n",
              "\n",
              "    [theme=dark] .colab-df-convert:hover {\n",
              "      background-color: #434B5C;\n",
              "      box-shadow: 0px 1px 3px 1px rgba(0, 0, 0, 0.15);\n",
              "      filter: drop-shadow(0px 1px 2px rgba(0, 0, 0, 0.3));\n",
              "      fill: #FFFFFF;\n",
              "    }\n",
              "  </style>\n",
              "\n",
              "      <script>\n",
              "        const buttonEl =\n",
              "          document.querySelector('#df-f6066f46-aec2-4fdc-bffd-8d9c2738354b button.colab-df-convert');\n",
              "        buttonEl.style.display =\n",
              "          google.colab.kernel.accessAllowed ? 'block' : 'none';\n",
              "\n",
              "        async function convertToInteractive(key) {\n",
              "          const element = document.querySelector('#df-f6066f46-aec2-4fdc-bffd-8d9c2738354b');\n",
              "          const dataTable =\n",
              "            await google.colab.kernel.invokeFunction('convertToInteractive',\n",
              "                                                     [key], {});\n",
              "          if (!dataTable) return;\n",
              "\n",
              "          const docLinkHtml = 'Like what you see? Visit the ' +\n",
              "            '<a target=\"_blank\" href=https://colab.research.google.com/notebooks/data_table.ipynb>data table notebook</a>'\n",
              "            + ' to learn more about interactive tables.';\n",
              "          element.innerHTML = '';\n",
              "          dataTable['output_type'] = 'display_data';\n",
              "          await google.colab.output.renderOutput(dataTable, element);\n",
              "          const docLink = document.createElement('div');\n",
              "          docLink.innerHTML = docLinkHtml;\n",
              "          element.appendChild(docLink);\n",
              "        }\n",
              "      </script>\n",
              "    </div>\n",
              "  </div>\n",
              "  "
            ]
          },
          "metadata": {},
          "execution_count": 9
        }
      ]
    },
    {
      "cell_type": "markdown",
      "source": [
        "# **1. Cleaning the Data**"
      ],
      "metadata": {
        "id": "G1XD_wNSLLz9"
      }
    },
    {
      "cell_type": "markdown",
      "source": [
        "# 1.1 Creating Constraints"
      ],
      "metadata": {
        "id": "_dQjIM2UKyj1"
      }
    },
    {
      "cell_type": "code",
      "source": [
        "#@title Creating a copy of the data\n",
        "#Making changes to the data\n",
        "df = data.copy()"
      ],
      "metadata": {
        "id": "EViPKdfqtxJe"
      },
      "execution_count": 10,
      "outputs": []
    },
    {
      "cell_type": "code",
      "source": [
        "#@title Creting a Pie chart to see the distribution of the type of houses\n",
        "df['type'].value_counts().plot(kind='pie', figsize=(10,10))\n",
        "plt.title('Housing Type Distribution', fontsize=25)\n"
      ],
      "metadata": {
        "id": "iwtvN98p8hTi",
        "colab": {
          "base_uri": "https://localhost:8080/",
          "height": 0
        },
        "outputId": "97631f7f-69df-4338-a30c-0a1fd080e2a2"
      },
      "execution_count": 11,
      "outputs": [
        {
          "output_type": "execute_result",
          "data": {
            "text/plain": [
              "Text(0.5, 1.0, 'Housing Type Distribution')"
            ]
          },
          "metadata": {},
          "execution_count": 11
        },
        {
          "output_type": "display_data",
          "data": {
            "text/plain": [
              "<Figure size 720x720 with 1 Axes>"
            ],
            "image/png": "[encoded data removed]"
          },
          "metadata": {}
        }
      ]
    },
    {
      "cell_type": "code",
      "source": [
        "#@title Identifying missing data\n",
        "df.isna().sum()"
      ],
      "metadata": {
        "id": "E6VYwVG689wQ",
        "cellView": "form",
        "colab": {
          "base_uri": "https://localhost:8080/"
        },
        "outputId": "71307e68-2933-4d2a-c95a-77e85294fbc5"
      },
      "execution_count": 12,
      "outputs": [
        {
          "output_type": "execute_result",
          "data": {
            "text/plain": [
              "id                              0\n",
              "url                             0\n",
              "region                          0\n",
              "region_url                      0\n",
              "price                           0\n",
              "type                            0\n",
              "sqfeet                          0\n",
              "beds                            0\n",
              "baths                           0\n",
              "cats_allowed                    0\n",
              "dogs_allowed                    0\n",
              "smoking_allowed                 0\n",
              "wheelchair_access               0\n",
              "electric_vehicle_charge         0\n",
              "comes_furnished                 0\n",
              "laundry_options             79026\n",
              "parking_options            140687\n",
              "image_url                       0\n",
              "description                     2\n",
              "lat                          1918\n",
              "long                         1918\n",
              "state                           0\n",
              "dtype: int64"
            ]
          },
          "metadata": {},
          "execution_count": 12
        }
      ]
    },
    {
      "cell_type": "code",
      "source": [
        "#@title If we should drop any column\n",
        "df.dropna(how='any', inplace=True)\n"
      ],
      "metadata": {
        "id": "psFDx5d6zTs4"
      },
      "execution_count": 13,
      "outputs": []
    },
    {
      "cell_type": "code",
      "source": [
        "#@title Cofiguring the shape of the dataset. 235969 Rows and 22 columns\n",
        "df.shape"
      ],
      "metadata": {
        "id": "n7Tgqtuzz0ox",
        "colab": {
          "base_uri": "https://localhost:8080/"
        },
        "outputId": "f06ae389-3243-4c78-e32e-610a93a32db2"
      },
      "execution_count": 14,
      "outputs": [
        {
          "output_type": "execute_result",
          "data": {
            "text/plain": [
              "(235969, 22)"
            ]
          },
          "metadata": {},
          "execution_count": 14
        }
      ]
    },
    {
      "cell_type": "code",
      "source": [
        "#@title Getting an idea of the distribution of the data\n",
        "df.type.value_counts()"
      ],
      "metadata": {
        "id": "BDuhhzkLjl0a",
        "colab": {
          "base_uri": "https://localhost:8080/"
        },
        "outputId": "2d71ef64-def8-449b-88a9-23e3074a930c"
      },
      "execution_count": 15,
      "outputs": [
        {
          "output_type": "execute_result",
          "data": {
            "text/plain": [
              "apartment          186096\n",
              "house               22219\n",
              "townhouse           12869\n",
              "condo                4711\n",
              "duplex               4490\n",
              "manufactured         3820\n",
              "cottage/cabin         598\n",
              "loft                  554\n",
              "flat                  458\n",
              "in-law                144\n",
              "land                    8\n",
              "assisted living         2\n",
              "Name: type, dtype: int64"
            ]
          },
          "metadata": {},
          "execution_count": 15
        }
      ]
    },
    {
      "cell_type": "code",
      "source": [
        "#@title Our company specializes in Apartments\n",
        "# We only need to look at Apartments\n",
        "\n",
        "apt_df = df[df['type'] == 'apartment']\n",
        "\n",
        "apt_df['type'].value_counts()"
      ],
      "metadata": {
        "id": "zQSQpIS2VAdD",
        "colab": {
          "base_uri": "https://localhost:8080/"
        },
        "outputId": "dde5ba41-15e5-4a4e-e008-1eda3c4adabf"
      },
      "execution_count": 16,
      "outputs": [
        {
          "output_type": "execute_result",
          "data": {
            "text/plain": [
              "apartment    186096\n",
              "Name: type, dtype: int64"
            ]
          },
          "metadata": {},
          "execution_count": 16
        }
      ]
    },
    {
      "cell_type": "code",
      "source": [
        "#@title Removed all the apartments price below 875 dollars and  over 3250 dollars\n",
        "#price has a lot of 0 values which are not helpful.\n",
        "# we will drop anything beow $875 or over $1751 budget range\n",
        "\n",
        "apt_df = apt_df[((apt_df['price'] >= 875) & (apt_df['price'] <= 3250))]"
      ],
      "metadata": {
        "id": "oJ9We_KiWNZ8"
      },
      "execution_count": 17,
      "outputs": []
    },
    {
      "cell_type": "markdown",
      "source": [
        "## Square Footage"
      ],
      "metadata": {
        "id": "ZhgAjrvBhdWk"
      }
    },
    {
      "cell_type": "code",
      "source": [
        "#@title remove apartments below 700sq and over 3000sq\n",
        "\n",
        "# Most states have adopted building and zoning codes from the \n",
        "#International Residential Code (IRC). The IRC codes require \n",
        "#that all homes must be built on a minimum of 320 square feet.\n",
        "\n",
        "apt_df = apt_df[((apt_df['sqfeet'] >= 700) & ( apt_df['sqfeet'] <= 3000))] #going to raise this to avg sqfeet/reaosonable\n",
        "\n",
        "apt_df['sqfeet'].sort_values()"
      ],
      "metadata": {
        "id": "6oNklKFPIFwh",
        "colab": {
          "base_uri": "https://localhost:8080/"
        },
        "outputId": "24546312-cd7c-420d-ed05-5f435bbcdebd"
      },
      "execution_count": 18,
      "outputs": [
        {
          "output_type": "execute_result",
          "data": {
            "text/plain": [
              "160793     700\n",
              "77486      700\n",
              "358090     700\n",
              "211575     700\n",
              "211779     700\n",
              "          ... \n",
              "214087    3000\n",
              "215304    3000\n",
              "213565    3000\n",
              "215303    3000\n",
              "215301    3000\n",
              "Name: sqfeet, Length: 105621, dtype: int64"
            ]
          },
          "metadata": {},
          "execution_count": 18
        }
      ]
    },
    {
      "cell_type": "code",
      "source": [
        "#@title Filtering apartments with atleast one bedrooms and over 4 bedrooms \n",
        "# We only want to consider apartments with at least 1 bed\n",
        "\n",
        "apt_df = apt_df[((apt_df['beds'] != 0) & (apt_df['beds'] <= 4 ))]\n",
        "\n",
        "apt_df.beds.value_counts()"
      ],
      "metadata": {
        "id": "odvZenEvBrAW",
        "colab": {
          "base_uri": "https://localhost:8080/"
        },
        "outputId": "52c1d938-df70-4750-8c3f-9551dcb2fd95"
      },
      "execution_count": 19,
      "outputs": [
        {
          "output_type": "execute_result",
          "data": {
            "text/plain": [
              "2    63896\n",
              "1    24077\n",
              "3    16190\n",
              "4     1176\n",
              "Name: beds, dtype: int64"
            ]
          },
          "metadata": {},
          "execution_count": 19
        }
      ]
    },
    {
      "cell_type": "markdown",
      "source": [
        "## 1.2 Dealing with Duplicates"
      ],
      "metadata": {
        "id": "g3iCnFAbiHiu"
      }
    },
    {
      "cell_type": "code",
      "source": [
        "#@title Checking for duplicates\n",
        "# No dupes!!!\n",
        "\n",
        "apt_df.duplicated().sum()"
      ],
      "metadata": {
        "id": "iyvavxzmhyI-",
        "colab": {
          "base_uri": "https://localhost:8080/"
        },
        "outputId": "a009066d-6470-43d5-f280-ccb93fdad87e"
      },
      "execution_count": 20,
      "outputs": [
        {
          "output_type": "execute_result",
          "data": {
            "text/plain": [
              "0"
            ]
          },
          "metadata": {},
          "execution_count": 20
        }
      ]
    },
    {
      "cell_type": "markdown",
      "source": [
        "# **2. Outliers**"
      ],
      "metadata": {
        "id": "yXAskDezjGQw"
      }
    },
    {
      "cell_type": "markdown",
      "source": [
        "## 2.1 Identifying numeric columns and managin outliers"
      ],
      "metadata": {
        "id": "eEQMK9TWraMp"
      }
    },
    {
      "cell_type": "code",
      "source": [
        "#@title Columns\n",
        "#This will select columns where numeric types are detected\n",
        "\n",
        "numtypes = apt_df.select_dtypes(include='number')\n",
        "\n",
        "#We get a list of numerical columns\n",
        "numtypes.columns"
      ],
      "metadata": {
        "id": "e9JQXFA-jrD1",
        "colab": {
          "base_uri": "https://localhost:8080/"
        },
        "outputId": "44ea39be-7fb2-4a64-b869-5d8096b70d99"
      },
      "execution_count": 21,
      "outputs": [
        {
          "output_type": "execute_result",
          "data": {
            "text/plain": [
              "Index(['id', 'price', 'sqfeet', 'beds', 'baths', 'cats_allowed',\n",
              "       'dogs_allowed', 'smoking_allowed', 'wheelchair_access',\n",
              "       'electric_vehicle_charge', 'comes_furnished', 'lat', 'long'],\n",
              "      dtype='object')"
            ]
          },
          "metadata": {},
          "execution_count": 21
        }
      ]
    },
    {
      "cell_type": "code",
      "source": [
        "#Some numerical data is categorical such as 'cats_allowed',\n",
        "#'dogs_allowed', 'smoking_allowed', 'wheelchair_access',\n",
        "#'electric_vehicle_charge', 'comes_furnished'.\n",
        "\n",
        "#In additional lattitude and longitude are locational data.\n",
        "\n",
        "#None of the above are useful for outlier detection\n",
        "\n",
        "numtypes.head()"
      ],
      "metadata": {
        "id": "WDatfMbikoa8",
        "colab": {
          "base_uri": "https://localhost:8080/",
          "height": 0
        },
        "outputId": "e9b8ff4d-1756-4def-8dbe-809a11628177"
      },
      "execution_count": 22,
      "outputs": [
        {
          "output_type": "execute_result",
          "data": {
            "text/plain": [
              "           id  price  sqfeet  beds  baths  cats_allowed  dogs_allowed  \\\n",
              "0  7049044568   1148    1078     3    2.0             1             1   \n",
              "2  7043634882   1813    1683     2    2.0             1             1   \n",
              "3  7049045324   1095     708     1    1.0             1             1   \n",
              "7  7049041899   1095     708     1    1.0             1             1   \n",
              "8  7049041451   1525    1053     2    2.0             1             1   \n",
              "\n",
              "   smoking_allowed  wheelchair_access  electric_vehicle_charge  \\\n",
              "0                0                  0                        0   \n",
              "2                1                  0                        0   \n",
              "3                1                  0                        0   \n",
              "7                1                  0                        0   \n",
              "8                0                  0                        0   \n",
              "\n",
              "   comes_furnished      lat     long  \n",
              "0                0  39.5483 -119.796  \n",
              "2                0  39.6269 -119.708  \n",
              "3                0  39.4477 -119.771  \n",
              "7                0  39.4477 -119.771  \n",
              "8                0  39.6185 -119.672  "
            ],
            "text/html": [
              "\n",
              "  <div id=\"df-ef721e5d-5cb8-4192-9119-4a7b9a93098c\">\n",
              "    <div class=\"colab-df-container\">\n",
              "      <div>\n",
              "<style scoped>\n",
              "    .dataframe tbody tr th:only-of-type {\n",
              "        vertical-align: middle;\n",
              "    }\n",
              "\n",
              "    .dataframe tbody tr th {\n",
              "        vertical-align: top;\n",
              "    }\n",
              "\n",
              "    .dataframe thead th {\n",
              "        text-align: right;\n",
              "    }\n",
              "</style>\n",
              "<table border=\"1\" class=\"dataframe\">\n",
              "  <thead>\n",
              "    <tr style=\"text-align: right;\">\n",
              "      <th></th>\n",
              "      <th>id</th>\n",
              "      <th>price</th>\n",
              "      <th>sqfeet</th>\n",
              "      <th>beds</th>\n",
              "      <th>baths</th>\n",
              "      <th>cats_allowed</th>\n",
              "      <th>dogs_allowed</th>\n",
              "      <th>smoking_allowed</th>\n",
              "      <th>wheelchair_access</th>\n",
              "      <th>electric_vehicle_charge</th>\n",
              "      <th>comes_furnished</th>\n",
              "      <th>lat</th>\n",
              "      <th>long</th>\n",
              "    </tr>\n",
              "  </thead>\n",
              "  <tbody>\n",
              "    <tr>\n",
              "      <th>0</th>\n",
              "      <td>7049044568</td>\n",
              "      <td>1148</td>\n",
              "      <td>1078</td>\n",
              "      <td>3</td>\n",
              "      <td>2.0</td>\n",
              "      <td>1</td>\n",
              "      <td>1</td>\n",
              "      <td>0</td>\n",
              "      <td>0</td>\n",
              "      <td>0</td>\n",
              "      <td>0</td>\n",
              "      <td>39.5483</td>\n",
              "      <td>-119.796</td>\n",
              "    </tr>\n",
              "    <tr>\n",
              "      <th>2</th>\n",
              "      <td>7043634882</td>\n",
              "      <td>1813</td>\n",
              "      <td>1683</td>\n",
              "      <td>2</td>\n",
              "      <td>2.0</td>\n",
              "      <td>1</td>\n",
              "      <td>1</td>\n",
              "      <td>1</td>\n",
              "      <td>0</td>\n",
              "      <td>0</td>\n",
              "      <td>0</td>\n",
              "      <td>39.6269</td>\n",
              "      <td>-119.708</td>\n",
              "    </tr>\n",
              "    <tr>\n",
              "      <th>3</th>\n",
              "      <td>7049045324</td>\n",
              "      <td>1095</td>\n",
              "      <td>708</td>\n",
              "      <td>1</td>\n",
              "      <td>1.0</td>\n",
              "      <td>1</td>\n",
              "      <td>1</td>\n",
              "      <td>1</td>\n",
              "      <td>0</td>\n",
              "      <td>0</td>\n",
              "      <td>0</td>\n",
              "      <td>39.4477</td>\n",
              "      <td>-119.771</td>\n",
              "    </tr>\n",
              "    <tr>\n",
              "      <th>7</th>\n",
              "      <td>7049041899</td>\n",
              "      <td>1095</td>\n",
              "      <td>708</td>\n",
              "      <td>1</td>\n",
              "      <td>1.0</td>\n",
              "      <td>1</td>\n",
              "      <td>1</td>\n",
              "      <td>1</td>\n",
              "      <td>0</td>\n",
              "      <td>0</td>\n",
              "      <td>0</td>\n",
              "      <td>39.4477</td>\n",
              "      <td>-119.771</td>\n",
              "    </tr>\n",
              "    <tr>\n",
              "      <th>8</th>\n",
              "      <td>7049041451</td>\n",
              "      <td>1525</td>\n",
              "      <td>1053</td>\n",
              "      <td>2</td>\n",
              "      <td>2.0</td>\n",
              "      <td>1</td>\n",
              "      <td>1</td>\n",
              "      <td>0</td>\n",
              "      <td>0</td>\n",
              "      <td>0</td>\n",
              "      <td>0</td>\n",
              "      <td>39.6185</td>\n",
              "      <td>-119.672</td>\n",
              "    </tr>\n",
              "  </tbody>\n",
              "</table>\n",
              "</div>\n",
              "      <button class=\"colab-df-convert\" onclick=\"convertToInteractive('df-ef721e5d-5cb8-4192-9119-4a7b9a93098c')\"\n",
              "              title=\"Convert this dataframe to an interactive table.\"\n",
              "              style=\"display:none;\">\n",
              "        \n",
              "  <svg xmlns=\"http://www.w3.org/2000/svg\" height=\"24px\"viewBox=\"0 0 24 24\"\n",
              "       width=\"24px\">\n",
              "    <path d=\"M0 0h24v24H0V0z\" fill=\"none\"/>\n",
              "    <path d=\"M18.56 5.44l.94 2.06.94-2.06 2.06-.94-2.06-.94-.94-2.06-.94 2.06-2.06.94zm-11 1L8.5 8.5l.94-2.06 2.06-.94-2.06-.94L8.5 2.5l-.94 2.06-2.06.94zm10 10l.94 2.06.94-2.06 2.06-.94-2.06-.94-.94-2.06-.94 2.06-2.06.94z\"/><path d=\"M17.41 7.96l-1.37-1.37c-.4-.4-.92-.59-1.43-.59-.52 0-1.04.2-1.43.59L10.3 9.45l-7.72 7.72c-.78.78-.78 2.05 0 2.83L4 21.41c.39.39.9.59 1.41.59.51 0 1.02-.2 1.41-.59l7.78-7.78 2.81-2.81c.8-.78.8-2.07 0-2.86zM5.41 20L4 18.59l7.72-7.72 1.47 1.35L5.41 20z\"/>\n",
              "  </svg>\n",
              "      </button>\n",
              "      \n",
              "  <style>\n",
              "    .colab-df-container {\n",
              "      display:flex;\n",
              "      flex-wrap:wrap;\n",
              "      gap: 12px;\n",
              "    }\n",
              "\n",
              "    .colab-df-convert {\n",
              "      background-color: #E8F0FE;\n",
              "      border: none;\n",
              "      border-radius: 50%;\n",
              "      cursor: pointer;\n",
              "      display: none;\n",
              "      fill: #1967D2;\n",
              "      height: 32px;\n",
              "      padding: 0 0 0 0;\n",
              "      width: 32px;\n",
              "    }\n",
              "\n",
              "    .colab-df-convert:hover {\n",
              "      background-color: #E2EBFA;\n",
              "      box-shadow: 0px 1px 2px rgba(60, 64, 67, 0.3), 0px 1px 3px 1px rgba(60, 64, 67, 0.15);\n",
              "      fill: #174EA6;\n",
              "    }\n",
              "\n",
              "    [theme=dark] .colab-df-convert {\n",
              "      background-color: #3B4455;\n",
              "      fill: #D2E3FC;\n",
              "    }\n",
              "\n",
              "    [theme=dark] .colab-df-convert:hover {\n",
              "      background-color: #434B5C;\n",
              "      box-shadow: 0px 1px 3px 1px rgba(0, 0, 0, 0.15);\n",
              "      filter: drop-shadow(0px 1px 2px rgba(0, 0, 0, 0.3));\n",
              "      fill: #FFFFFF;\n",
              "    }\n",
              "  </style>\n",
              "\n",
              "      <script>\n",
              "        const buttonEl =\n",
              "          document.querySelector('#df-ef721e5d-5cb8-4192-9119-4a7b9a93098c button.colab-df-convert');\n",
              "        buttonEl.style.display =\n",
              "          google.colab.kernel.accessAllowed ? 'block' : 'none';\n",
              "\n",
              "        async function convertToInteractive(key) {\n",
              "          const element = document.querySelector('#df-ef721e5d-5cb8-4192-9119-4a7b9a93098c');\n",
              "          const dataTable =\n",
              "            await google.colab.kernel.invokeFunction('convertToInteractive',\n",
              "                                                     [key], {});\n",
              "          if (!dataTable) return;\n",
              "\n",
              "          const docLinkHtml = 'Like what you see? Visit the ' +\n",
              "            '<a target=\"_blank\" href=https://colab.research.google.com/notebooks/data_table.ipynb>data table notebook</a>'\n",
              "            + ' to learn more about interactive tables.';\n",
              "          element.innerHTML = '';\n",
              "          dataTable['output_type'] = 'display_data';\n",
              "          await google.colab.output.renderOutput(dataTable, element);\n",
              "          const docLink = document.createElement('div');\n",
              "          docLink.innerHTML = docLinkHtml;\n",
              "          element.appendChild(docLink);\n",
              "        }\n",
              "      </script>\n",
              "    </div>\n",
              "  </div>\n",
              "  "
            ]
          },
          "metadata": {},
          "execution_count": 22
        }
      ]
    },
    {
      "cell_type": "markdown",
      "source": [
        "## 2.2 Visualizing the Outliers in each column that concerns us"
      ],
      "metadata": {
        "id": "xcx_ucI3rl3j"
      }
    },
    {
      "cell_type": "code",
      "source": [
        "#We can now use the appropriate columns to detect outliers\n",
        "\n",
        "fig, (ax1) = plt.subplots(1, 1, sharey=False, figsize=(20, 10))\n",
        "\n",
        "#Use np.log to better visualize the outliers since some of the values are \n",
        "#extremely out of range of the 75 percentile\n",
        "ax1.boxplot(np.log(apt_df['price']))\n",
        "ax1.set_title('Price', fontsize=15)\n",
        "\n",
        "\n",
        "\n",
        "# df[['price', 'sqfeet', 'beds', 'baths']].plot(kind='box', figsize=(20,20))"
      ],
      "metadata": {
        "id": "Pn1YZWJziPHE",
        "colab": {
          "base_uri": "https://localhost:8080/",
          "height": 0
        },
        "outputId": "a2efcf65-78f1-4de9-cb80-af7a892a8912"
      },
      "execution_count": 23,
      "outputs": [
        {
          "output_type": "execute_result",
          "data": {
            "text/plain": [
              "Text(0.5, 1.0, 'Price')"
            ]
          },
          "metadata": {},
          "execution_count": 23
        },
        {
          "output_type": "display_data",
          "data": {
            "text/plain": [
              "<Figure size 1440x720 with 1 Axes>"
            ],
            "image/png": "[encoded data removed]"
          },
          "metadata": {
            "needs_background": "light"
          }
        }
      ]
    },
    {
      "cell_type": "markdown",
      "source": [
        "## 2.3 Function for replacing outlier with upper and lower bound values"
      ],
      "metadata": {
        "id": "392RmUz8s8QU"
      }
    },
    {
      "cell_type": "code",
      "source": [
        "#@title Dealing with outliers\n",
        "def outlier_replace(col):\n",
        "  '''\n",
        "  # This function takes a series (column)\n",
        "  and replaces detected outliers with the \n",
        "  lower and uper bounds of the data.\n",
        "  ---\n",
        "  Input:\n",
        "  col(float or int): A column of choice either \n",
        "  int or float.\n",
        "  ---\n",
        "  Output:\n",
        "  The column with the outlier values replaced\n",
        "  with lower and upper bound values of the date\n",
        "  '''\n",
        "  q1 = np.quantile(col, .25) #1st quantile\n",
        "  q3 = np.quantile(col, .75) #3rd quantile\n",
        "\n",
        "  iqr = q3 - q1 #The interquartile range. The middle 50% of the observations\n",
        "\n",
        "  bound_lower = q1 - 1.5 * iqr #lower bounds\n",
        "  bound_upper = q3 + 1.5 * iqr #upper bounds\n",
        "\n",
        "  #replace values below the lower bounds with the lower bound value\n",
        "  col = np.where(col < bound_lower, bound_lower, col) \n",
        "\n",
        "  #replace values above the upper bounds with the upper bound value\n",
        "  col = np.where(col > bound_upper, bound_upper, col)\n",
        "\n",
        "\n",
        "  return  col "
      ],
      "metadata": {
        "id": "bGjVwrQfsDFH"
      },
      "execution_count": 24,
      "outputs": []
    },
    {
      "cell_type": "code",
      "source": [
        "# Applying the function to the columns that concern us\n",
        "\n",
        "apt_df['price'] = outlier_replace(apt_df['price'])\n",
        "\n",
        "\n"
      ],
      "metadata": {
        "id": "9IvRC4C5u0Qy"
      },
      "execution_count": 25,
      "outputs": []
    },
    {
      "cell_type": "code",
      "source": [
        "fig, (ax1) = plt.subplots(1, 1, sharey=False, figsize=(20, 10))\n",
        "\n",
        "#Use np.log to better visualize the outliers since some of the values are \n",
        "#extremely out of range of the 75 percentile\n",
        "ax1.boxplot(np.log(apt_df['price']))\n",
        "ax1.set_title('Price', fontsize=15)\n",
        "\n",
        "\n",
        "\n",
        "\n",
        "\n"
      ],
      "metadata": {
        "id": "gJQRVUuYxPuw",
        "colab": {
          "base_uri": "https://localhost:8080/",
          "height": 0
        },
        "outputId": "b7198dd8-0235-471f-8b30-f3adc463539c"
      },
      "execution_count": 26,
      "outputs": [
        {
          "output_type": "execute_result",
          "data": {
            "text/plain": [
              "Text(0.5, 1.0, 'Price')"
            ]
          },
          "metadata": {},
          "execution_count": 26
        },
        {
          "output_type": "display_data",
          "data": {
            "text/plain": [
              "<Figure size 1440x720 with 1 Axes>"
            ],
            "image/png": "[encoded data removed]"
          },
          "metadata": {
            "needs_background": "light"
          }
        }
      ]
    },
    {
      "cell_type": "code",
      "source": [
        "df.shape"
      ],
      "metadata": {
        "id": "OggI72Ch0rvA",
        "colab": {
          "base_uri": "https://localhost:8080/"
        },
        "outputId": "162e4008-91fc-4937-aa53-5b26a6511d3d"
      },
      "execution_count": 27,
      "outputs": [
        {
          "output_type": "execute_result",
          "data": {
            "text/plain": [
              "(235969, 22)"
            ]
          },
          "metadata": {},
          "execution_count": 27
        }
      ]
    },
    {
      "cell_type": "markdown",
      "source": [
        "# **3. Analysis**"
      ],
      "metadata": {
        "id": "xp1NLxzGKuoo"
      }
    },
    {
      "cell_type": "code",
      "source": [
        "#@title What features are most correlated with eachother?\n",
        "#What features are most correlated and least correlated?\n",
        "\n",
        "corr = apt_df.corr()\n",
        "\n",
        "mask = np.zeros_like(corr, dtype=np.bool)\n",
        "mask[np.triu_indices_from(mask)] = True\n",
        "\n",
        "sns.set(rc={'figure.figsize':(10,10)})\n",
        "sns.heatmap(corr, vmin= -1, vmax= 1, cmap='coolwarm', mask=mask)"
      ],
      "metadata": {
        "id": "cPRyHQlG4xiA",
        "colab": {
          "base_uri": "https://localhost:8080/",
          "height": 809
        },
        "outputId": "36cc5ee5-c8c0-4742-a4de-76f682b238cb"
      },
      "execution_count": 28,
      "outputs": [
        {
          "output_type": "stream",
          "name": "stderr",
          "text": [
            "<ipython-input-28-204cd39b3b8a>:6: DeprecationWarning: `np.bool` is a deprecated alias for the builtin `bool`. To silence this warning, use `bool` by itself. Doing this will not modify any behavior and is safe. If you specifically wanted the numpy scalar type, use `np.bool_` here.\n",
            "Deprecated in NumPy 1.20; for more details and guidance: https://numpy.org/devdocs/release/1.20.0-notes.html#deprecations\n",
            "  mask = np.zeros_like(corr, dtype=np.bool)\n"
          ]
        },
        {
          "output_type": "execute_result",
          "data": {
            "text/plain": [
              "<matplotlib.axes._subplots.AxesSubplot at 0x7fc035a04b20>"
            ]
          },
          "metadata": {},
          "execution_count": 28
        },
        {
          "output_type": "display_data",
          "data": {
            "text/plain": [
              "<Figure size 720x720 with 2 Axes>"
            ],
            "image/png": "[encoded data removed]"
          },
          "metadata": {}
        }
      ]
    },
    {
      "cell_type": "code",
      "source": [
        "#@title Price Distribution of apartments \n",
        "#Price Distribution\n",
        "\n",
        "sns.histplot(apt_df.price, kde=True).set_title('Price Distribution')"
      ],
      "metadata": {
        "id": "TjMfKrRWkJFo",
        "colab": {
          "base_uri": "https://localhost:8080/",
          "height": 645
        },
        "outputId": "174ab1d4-bf2c-4a4b-c8bf-ffa6aba9ae10"
      },
      "execution_count": 29,
      "outputs": [
        {
          "output_type": "execute_result",
          "data": {
            "text/plain": [
              "Text(0.5, 1.0, 'Price Distribution')"
            ]
          },
          "metadata": {},
          "execution_count": 29
        },
        {
          "output_type": "display_data",
          "data": {
            "text/plain": [
              "<Figure size 720x720 with 1 Axes>"
            ],
            "image/png": "[encoded data removed]"
          },
          "metadata": {}
        }
      ]
    },
    {
      "cell_type": "markdown",
      "source": [
        "## 3.1 Top 10 Average rents by State"
      ],
      "metadata": {
        "id": "ibH43dPSDGCy"
      }
    },
    {
      "cell_type": "code",
      "source": [
        "#@title Top 10 states with highest average rent\n",
        "#top 10 state by average price\n",
        "apt_df.groupby('state')['price'].mean().sort_values(ascending=False).head(10)"
      ],
      "metadata": {
        "id": "Qp6VgmClIEne",
        "cellView": "form",
        "colab": {
          "base_uri": "https://localhost:8080/"
        },
        "outputId": "b98db0b0-c323-42f9-cce5-991365728b35"
      },
      "execution_count": 30,
      "outputs": [
        {
          "output_type": "execute_result",
          "data": {
            "text/plain": [
              "state\n",
              "hi    2045.968127\n",
              "dc    1832.672500\n",
              "ma    1803.664909\n",
              "nj    1745.285311\n",
              "ca    1729.939838\n",
              "nh    1706.817040\n",
              "ri    1612.574558\n",
              "co    1552.892443\n",
              "vt    1549.232653\n",
              "me    1495.526163\n",
              "Name: price, dtype: float64"
            ]
          },
          "metadata": {},
          "execution_count": 30
        }
      ]
    },
    {
      "cell_type": "markdown",
      "source": [
        "## 3.2 Highest Rent by States"
      ],
      "metadata": {
        "id": "Z58cVjnODwx_"
      }
    },
    {
      "cell_type": "code",
      "source": [
        "#@title  Top 10 States with Highest Average Rent\n",
        "apt_df.groupby('state')['price'].mean().sort_values(ascending=False).head(10).plot(kind='bar', figsize=(10,10), color=['orange', 'blue', 'blue', 'blue','blue','blue', 'blue', 'blue','blue', 'blue'])\n",
        "plt.xlabel('State', fontsize=20)\n",
        "plt.ylabel('Avg Rent', fontsize=20)\n",
        "plt.xticks(fontsize=15)\n",
        "plt.yticks(fontsize=15)\n",
        "plt.ylabel('Avg Rent')"
      ],
      "metadata": {
        "id": "EMZOw0nKDoE4",
        "cellView": "form",
        "colab": {
          "base_uri": "https://localhost:8080/",
          "height": 649
        },
        "outputId": "46b61120-d140-40f5-9aab-000945999541"
      },
      "execution_count": 31,
      "outputs": [
        {
          "output_type": "execute_result",
          "data": {
            "text/plain": [
              "Text(0, 0.5, 'Avg Rent')"
            ]
          },
          "metadata": {},
          "execution_count": 31
        },
        {
          "output_type": "display_data",
          "data": {
            "text/plain": [
              "<Figure size 720x720 with 1 Axes>"
            ],
            "image/png": "[encoded data removed]"
          },
          "metadata": {}
        }
      ]
    },
    {
      "cell_type": "code",
      "source": [
        "#@title Price distribution of apartments in Hawaii\n",
        "#After doing external research we determined this is likely due to it being expensive to buy\n",
        "#Native owned land in Hawaii.\n",
        "\n",
        "sns.histplot(apt_df.price[apt_df.state == 'hi'], kde=True).set_title('Price Distribution in Hawaii')"
      ],
      "metadata": {
        "id": "baE13ADtlD0c",
        "cellView": "form",
        "colab": {
          "base_uri": "https://localhost:8080/",
          "height": 645
        },
        "outputId": "644d4da0-23c0-456c-e03b-9c51a0cc8030"
      },
      "execution_count": 32,
      "outputs": [
        {
          "output_type": "execute_result",
          "data": {
            "text/plain": [
              "Text(0.5, 1.0, 'Price Distribution in Hawaii')"
            ]
          },
          "metadata": {},
          "execution_count": 32
        },
        {
          "output_type": "display_data",
          "data": {
            "text/plain": [
              "<Figure size 720x720 with 1 Axes>"
            ],
            "image/png": "[encoded data removed]"
          },
          "metadata": {}
        }
      ]
    },
    {
      "cell_type": "code",
      "source": [
        "#@title Median and mode price of appartments \n",
        "#Most frequent price in Hawaii in this set\n",
        "\n",
        "print('Mode:\\n' , apt_df.price[apt_df.state == 'hi'].mode(), '\\n\\nMedian:\\n', apt_df.price[apt_df.state == 'hi'].median())"
      ],
      "metadata": {
        "id": "G2Xea2vHljJV",
        "colab": {
          "base_uri": "https://localhost:8080/"
        },
        "outputId": "44dadc05-f9f8-4622-bb81-68a43b8ed871"
      },
      "execution_count": 33,
      "outputs": [
        {
          "output_type": "stream",
          "name": "stdout",
          "text": [
            "Mode:\n",
            " 0    2407.5\n",
            "dtype: float64 \n",
            "\n",
            "Median:\n",
            " 2000.0\n"
          ]
        }
      ]
    },
    {
      "cell_type": "markdown",
      "source": [
        "## 3.3 Lowest Rent AVG?"
      ],
      "metadata": {
        "id": "hulAcxf3D8h1"
      }
    },
    {
      "cell_type": "code",
      "source": [
        "#@title Lowest Average Rent by state\n",
        "apt_df.groupby('state')['price'].mean().sort_values(ascending=True).head(10).plot(kind='bar', figsize=(10,10), color=['orange','blue','blue', 'blue', 'blue', 'blue','blue', 'blue', 'blue', 'blue'])\n",
        "plt.xlabel('State', fontsize=20)\n",
        "plt.xticks(fontsize=15)\n",
        "plt.yticks(fontsize=15)\n",
        "plt.ylabel('Avg Rent', fontsize=20)\n",
        "plt.ylabel('Avg Rent')"
      ],
      "metadata": {
        "id": "swtPqn-zD2qu",
        "colab": {
          "base_uri": "https://localhost:8080/",
          "height": 649
        },
        "outputId": "d152eac2-4cb8-4dda-c8e6-97680d694936"
      },
      "execution_count": 34,
      "outputs": [
        {
          "output_type": "execute_result",
          "data": {
            "text/plain": [
              "Text(0, 0.5, 'Avg Rent')"
            ]
          },
          "metadata": {},
          "execution_count": 34
        },
        {
          "output_type": "display_data",
          "data": {
            "text/plain": [
              "<Figure size 720x720 with 1 Axes>"
            ],
            "image/png": "[encoded data removed]"
          },
          "metadata": {}
        }
      ]
    },
    {
      "cell_type": "code",
      "source": [
        "#@title Distribution of price in Mississippi\n",
        "sns.histplot(apt_df.price[apt_df.state == 'ms'], kde=True).set_title('Price Distribution in Mississippi')"
      ],
      "metadata": {
        "id": "IJIzUOPql5lE",
        "cellView": "form",
        "colab": {
          "base_uri": "https://localhost:8080/",
          "height": 645
        },
        "outputId": "45e9a97e-4310-4d78-9f0c-82cecc080cc7"
      },
      "execution_count": 35,
      "outputs": [
        {
          "output_type": "execute_result",
          "data": {
            "text/plain": [
              "Text(0.5, 1.0, 'Price Distribution in Mississippi')"
            ]
          },
          "metadata": {},
          "execution_count": 35
        },
        {
          "output_type": "display_data",
          "data": {
            "text/plain": [
              "<Figure size 720x720 with 1 Axes>"
            ],
            "image/png": "[encoded data removed]"
          },
          "metadata": {}
        }
      ]
    },
    {
      "cell_type": "code",
      "source": [
        "#@title Median and Mode price of Mississippi\n",
        "print('Mode:\\n' , apt_df.price[apt_df.state == 'ms'].mode(), '\\n\\nMedian:\\n', apt_df.price[apt_df.state == 'ms'].median())"
      ],
      "metadata": {
        "id": "PAuNry-nl1Hl",
        "cellView": "form",
        "colab": {
          "base_uri": "https://localhost:8080/"
        },
        "outputId": "09a87a0c-f1e2-4114-9843-88a71aa08b74"
      },
      "execution_count": 36,
      "outputs": [
        {
          "output_type": "stream",
          "name": "stdout",
          "text": [
            "Mode:\n",
            " 0    875.0\n",
            "dtype: float64 \n",
            "\n",
            "Median:\n",
            " 970.0\n"
          ]
        }
      ]
    },
    {
      "cell_type": "markdown",
      "source": [
        "## 3.4 Relationship between price and square footage"
      ],
      "metadata": {
        "id": "-t21GU1Sgr98"
      }
    },
    {
      "cell_type": "code",
      "source": [
        "#@title Correlation between Price and Sqfeet\n",
        "apt_df[['price', 'sqfeet']].corr() #prices vary dratically acroos the country and likely is \n",
        "#producing noise"
      ],
      "metadata": {
        "id": "tbxdJ5pdCY-H",
        "cellView": "form",
        "colab": {
          "base_uri": "https://localhost:8080/",
          "height": 112
        },
        "outputId": "466fa8cd-c7bb-475d-b6b0-c91a82949a76"
      },
      "execution_count": 37,
      "outputs": [
        {
          "output_type": "execute_result",
          "data": {
            "text/plain": [
              "           price    sqfeet\n",
              "price   1.000000  0.226693\n",
              "sqfeet  0.226693  1.000000"
            ],
            "text/html": [
              "\n",
              "  <div id=\"df-d568fc0d-5e7a-4aa8-b09e-12c19d2096dc\">\n",
              "    <div class=\"colab-df-container\">\n",
              "      <div>\n",
              "<style scoped>\n",
              "    .dataframe tbody tr th:only-of-type {\n",
              "        vertical-align: middle;\n",
              "    }\n",
              "\n",
              "    .dataframe tbody tr th {\n",
              "        vertical-align: top;\n",
              "    }\n",
              "\n",
              "    .dataframe thead th {\n",
              "        text-align: right;\n",
              "    }\n",
              "</style>\n",
              "<table border=\"1\" class=\"dataframe\">\n",
              "  <thead>\n",
              "    <tr style=\"text-align: right;\">\n",
              "      <th></th>\n",
              "      <th>price</th>\n",
              "      <th>sqfeet</th>\n",
              "    </tr>\n",
              "  </thead>\n",
              "  <tbody>\n",
              "    <tr>\n",
              "      <th>price</th>\n",
              "      <td>1.000000</td>\n",
              "      <td>0.226693</td>\n",
              "    </tr>\n",
              "    <tr>\n",
              "      <th>sqfeet</th>\n",
              "      <td>0.226693</td>\n",
              "      <td>1.000000</td>\n",
              "    </tr>\n",
              "  </tbody>\n",
              "</table>\n",
              "</div>\n",
              "      <button class=\"colab-df-convert\" onclick=\"convertToInteractive('df-d568fc0d-5e7a-4aa8-b09e-12c19d2096dc')\"\n",
              "              title=\"Convert this dataframe to an interactive table.\"\n",
              "              style=\"display:none;\">\n",
              "        \n",
              "  <svg xmlns=\"http://www.w3.org/2000/svg\" height=\"24px\"viewBox=\"0 0 24 24\"\n",
              "       width=\"24px\">\n",
              "    <path d=\"M0 0h24v24H0V0z\" fill=\"none\"/>\n",
              "    <path d=\"M18.56 5.44l.94 2.06.94-2.06 2.06-.94-2.06-.94-.94-2.06-.94 2.06-2.06.94zm-11 1L8.5 8.5l.94-2.06 2.06-.94-2.06-.94L8.5 2.5l-.94 2.06-2.06.94zm10 10l.94 2.06.94-2.06 2.06-.94-2.06-.94-.94-2.06-.94 2.06-2.06.94z\"/><path d=\"M17.41 7.96l-1.37-1.37c-.4-.4-.92-.59-1.43-.59-.52 0-1.04.2-1.43.59L10.3 9.45l-7.72 7.72c-.78.78-.78 2.05 0 2.83L4 21.41c.39.39.9.59 1.41.59.51 0 1.02-.2 1.41-.59l7.78-7.78 2.81-2.81c.8-.78.8-2.07 0-2.86zM5.41 20L4 18.59l7.72-7.72 1.47 1.35L5.41 20z\"/>\n",
              "  </svg>\n",
              "      </button>\n",
              "      \n",
              "  <style>\n",
              "    .colab-df-container {\n",
              "      display:flex;\n",
              "      flex-wrap:wrap;\n",
              "      gap: 12px;\n",
              "    }\n",
              "\n",
              "    .colab-df-convert {\n",
              "      background-color: #E8F0FE;\n",
              "      border: none;\n",
              "      border-radius: 50%;\n",
              "      cursor: pointer;\n",
              "      display: none;\n",
              "      fill: #1967D2;\n",
              "      height: 32px;\n",
              "      padding: 0 0 0 0;\n",
              "      width: 32px;\n",
              "    }\n",
              "\n",
              "    .colab-df-convert:hover {\n",
              "      background-color: #E2EBFA;\n",
              "      box-shadow: 0px 1px 2px rgba(60, 64, 67, 0.3), 0px 1px 3px 1px rgba(60, 64, 67, 0.15);\n",
              "      fill: #174EA6;\n",
              "    }\n",
              "\n",
              "    [theme=dark] .colab-df-convert {\n",
              "      background-color: #3B4455;\n",
              "      fill: #D2E3FC;\n",
              "    }\n",
              "\n",
              "    [theme=dark] .colab-df-convert:hover {\n",
              "      background-color: #434B5C;\n",
              "      box-shadow: 0px 1px 3px 1px rgba(0, 0, 0, 0.15);\n",
              "      filter: drop-shadow(0px 1px 2px rgba(0, 0, 0, 0.3));\n",
              "      fill: #FFFFFF;\n",
              "    }\n",
              "  </style>\n",
              "\n",
              "      <script>\n",
              "        const buttonEl =\n",
              "          document.querySelector('#df-d568fc0d-5e7a-4aa8-b09e-12c19d2096dc button.colab-df-convert');\n",
              "        buttonEl.style.display =\n",
              "          google.colab.kernel.accessAllowed ? 'block' : 'none';\n",
              "\n",
              "        async function convertToInteractive(key) {\n",
              "          const element = document.querySelector('#df-d568fc0d-5e7a-4aa8-b09e-12c19d2096dc');\n",
              "          const dataTable =\n",
              "            await google.colab.kernel.invokeFunction('convertToInteractive',\n",
              "                                                     [key], {});\n",
              "          if (!dataTable) return;\n",
              "\n",
              "          const docLinkHtml = 'Like what you see? Visit the ' +\n",
              "            '<a target=\"_blank\" href=https://colab.research.google.com/notebooks/data_table.ipynb>data table notebook</a>'\n",
              "            + ' to learn more about interactive tables.';\n",
              "          element.innerHTML = '';\n",
              "          dataTable['output_type'] = 'display_data';\n",
              "          await google.colab.output.renderOutput(dataTable, element);\n",
              "          const docLink = document.createElement('div');\n",
              "          docLink.innerHTML = docLinkHtml;\n",
              "          element.appendChild(docLink);\n",
              "        }\n",
              "      </script>\n",
              "    </div>\n",
              "  </div>\n",
              "  "
            ]
          },
          "metadata": {},
          "execution_count": 37
        }
      ]
    },
    {
      "cell_type": "code",
      "source": [
        "#@title Trend for Price and Sq feet\n",
        "#At some point price do not increase with SQ, that is beacue at that point other feature began to matter (Such as location)\n",
        "#This plot is to illustrate the trend. We found that there were too many trends to plot\n",
        "#and resorted to using a rolling average of the average.\n",
        "\n",
        "\n",
        "grouped = apt_df.groupby('sqfeet')['price'].mean().rolling(25).mean() #We need the mean function to plot this\n",
        "#But we also need to declare the rolling average because there are too many mean values to plot\n",
        "#and plot the trend.\n",
        "\n",
        "x = grouped.index.values #the groupby column is the index. \n",
        "#We want the values of the index column which represent sqfeet\n",
        "\n",
        "y = grouped.values #price\n",
        "\n",
        "\n",
        "plt.figure(figsize=(15,15))\n",
        "plt.plot(x,y)\n",
        "\n",
        "plt.title('Price and Square Footage (Rolling Avg)', fontsize=20)\n",
        "plt.xlabel('Square Footage', fontsize=15)\n",
        "plt.xticks(fontsize=15)\n",
        "plt.ylabel('Price', fontsize=15)\n",
        "plt.yticks(fontsize=15)\n",
        "plt.style.use('ggplot')\n",
        "\n",
        "\n"
      ],
      "metadata": {
        "id": "N30akzTzh7Sr",
        "cellView": "form",
        "colab": {
          "base_uri": "https://localhost:8080/",
          "height": 911
        },
        "outputId": "e87c93a2-0f05-4315-8db9-8c6802980df7"
      },
      "execution_count": 38,
      "outputs": [
        {
          "output_type": "display_data",
          "data": {
            "text/plain": [
              "<Figure size 1080x1080 with 1 Axes>"
            ],
            "image/png": "[encoded data removed]"
          },
          "metadata": {}
        }
      ]
    },
    {
      "cell_type": "markdown",
      "source": [
        "### There is a correlation between square footage and price."
      ],
      "metadata": {
        "id": "0hIZpc14qtC0"
      }
    },
    {
      "cell_type": "markdown",
      "source": [
        "## 3.5 Average Price of Smoking vs No Smoking "
      ],
      "metadata": {
        "id": "GbzMCuP-BXEo"
      }
    },
    {
      "cell_type": "code",
      "source": [
        "#@title Appartment with Smoking Facility\n",
        "apt_df['smoking_status'] = np.where(apt_df['smoking_allowed'] == 0 , 'no', 'yes')"
      ],
      "metadata": {
        "id": "fHHGiXEiHL-t"
      },
      "execution_count": 39,
      "outputs": []
    },
    {
      "cell_type": "code",
      "source": [
        "apt_df.pivot_table(index=['smoking_status'], values='price', aggfunc='mean')"
      ],
      "metadata": {
        "id": "bpycizw6Ra6N",
        "colab": {
          "base_uri": "https://localhost:8080/",
          "height": 143
        },
        "outputId": "37ad5575-5e84-4e83-ce9e-d8bbc947f671"
      },
      "execution_count": 40,
      "outputs": [
        {
          "output_type": "execute_result",
          "data": {
            "text/plain": [
              "                      price\n",
              "smoking_status             \n",
              "no              1446.723551\n",
              "yes             1311.896199"
            ],
            "text/html": [
              "\n",
              "  <div id=\"df-b0a096d5-026a-4217-b1bc-748393a57a1c\">\n",
              "    <div class=\"colab-df-container\">\n",
              "      <div>\n",
              "<style scoped>\n",
              "    .dataframe tbody tr th:only-of-type {\n",
              "        vertical-align: middle;\n",
              "    }\n",
              "\n",
              "    .dataframe tbody tr th {\n",
              "        vertical-align: top;\n",
              "    }\n",
              "\n",
              "    .dataframe thead th {\n",
              "        text-align: right;\n",
              "    }\n",
              "</style>\n",
              "<table border=\"1\" class=\"dataframe\">\n",
              "  <thead>\n",
              "    <tr style=\"text-align: right;\">\n",
              "      <th></th>\n",
              "      <th>price</th>\n",
              "    </tr>\n",
              "    <tr>\n",
              "      <th>smoking_status</th>\n",
              "      <th></th>\n",
              "    </tr>\n",
              "  </thead>\n",
              "  <tbody>\n",
              "    <tr>\n",
              "      <th>no</th>\n",
              "      <td>1446.723551</td>\n",
              "    </tr>\n",
              "    <tr>\n",
              "      <th>yes</th>\n",
              "      <td>1311.896199</td>\n",
              "    </tr>\n",
              "  </tbody>\n",
              "</table>\n",
              "</div>\n",
              "      <button class=\"colab-df-convert\" onclick=\"convertToInteractive('df-b0a096d5-026a-4217-b1bc-748393a57a1c')\"\n",
              "              title=\"Convert this dataframe to an interactive table.\"\n",
              "              style=\"display:none;\">\n",
              "        \n",
              "  <svg xmlns=\"http://www.w3.org/2000/svg\" height=\"24px\"viewBox=\"0 0 24 24\"\n",
              "       width=\"24px\">\n",
              "    <path d=\"M0 0h24v24H0V0z\" fill=\"none\"/>\n",
              "    <path d=\"M18.56 5.44l.94 2.06.94-2.06 2.06-.94-2.06-.94-.94-2.06-.94 2.06-2.06.94zm-11 1L8.5 8.5l.94-2.06 2.06-.94-2.06-.94L8.5 2.5l-.94 2.06-2.06.94zm10 10l.94 2.06.94-2.06 2.06-.94-2.06-.94-.94-2.06-.94 2.06-2.06.94z\"/><path d=\"M17.41 7.96l-1.37-1.37c-.4-.4-.92-.59-1.43-.59-.52 0-1.04.2-1.43.59L10.3 9.45l-7.72 7.72c-.78.78-.78 2.05 0 2.83L4 21.41c.39.39.9.59 1.41.59.51 0 1.02-.2 1.41-.59l7.78-7.78 2.81-2.81c.8-.78.8-2.07 0-2.86zM5.41 20L4 18.59l7.72-7.72 1.47 1.35L5.41 20z\"/>\n",
              "  </svg>\n",
              "      </button>\n",
              "      \n",
              "  <style>\n",
              "    .colab-df-container {\n",
              "      display:flex;\n",
              "      flex-wrap:wrap;\n",
              "      gap: 12px;\n",
              "    }\n",
              "\n",
              "    .colab-df-convert {\n",
              "      background-color: #E8F0FE;\n",
              "      border: none;\n",
              "      border-radius: 50%;\n",
              "      cursor: pointer;\n",
              "      display: none;\n",
              "      fill: #1967D2;\n",
              "      height: 32px;\n",
              "      padding: 0 0 0 0;\n",
              "      width: 32px;\n",
              "    }\n",
              "\n",
              "    .colab-df-convert:hover {\n",
              "      background-color: #E2EBFA;\n",
              "      box-shadow: 0px 1px 2px rgba(60, 64, 67, 0.3), 0px 1px 3px 1px rgba(60, 64, 67, 0.15);\n",
              "      fill: #174EA6;\n",
              "    }\n",
              "\n",
              "    [theme=dark] .colab-df-convert {\n",
              "      background-color: #3B4455;\n",
              "      fill: #D2E3FC;\n",
              "    }\n",
              "\n",
              "    [theme=dark] .colab-df-convert:hover {\n",
              "      background-color: #434B5C;\n",
              "      box-shadow: 0px 1px 3px 1px rgba(0, 0, 0, 0.15);\n",
              "      filter: drop-shadow(0px 1px 2px rgba(0, 0, 0, 0.3));\n",
              "      fill: #FFFFFF;\n",
              "    }\n",
              "  </style>\n",
              "\n",
              "      <script>\n",
              "        const buttonEl =\n",
              "          document.querySelector('#df-b0a096d5-026a-4217-b1bc-748393a57a1c button.colab-df-convert');\n",
              "        buttonEl.style.display =\n",
              "          google.colab.kernel.accessAllowed ? 'block' : 'none';\n",
              "\n",
              "        async function convertToInteractive(key) {\n",
              "          const element = document.querySelector('#df-b0a096d5-026a-4217-b1bc-748393a57a1c');\n",
              "          const dataTable =\n",
              "            await google.colab.kernel.invokeFunction('convertToInteractive',\n",
              "                                                     [key], {});\n",
              "          if (!dataTable) return;\n",
              "\n",
              "          const docLinkHtml = 'Like what you see? Visit the ' +\n",
              "            '<a target=\"_blank\" href=https://colab.research.google.com/notebooks/data_table.ipynb>data table notebook</a>'\n",
              "            + ' to learn more about interactive tables.';\n",
              "          element.innerHTML = '';\n",
              "          dataTable['output_type'] = 'display_data';\n",
              "          await google.colab.output.renderOutput(dataTable, element);\n",
              "          const docLink = document.createElement('div');\n",
              "          docLink.innerHTML = docLinkHtml;\n",
              "          element.appendChild(docLink);\n",
              "        }\n",
              "      </script>\n",
              "    </div>\n",
              "  </div>\n",
              "  "
            ]
          },
          "metadata": {},
          "execution_count": 40
        }
      ]
    },
    {
      "cell_type": "code",
      "source": [
        "#@title Correlation of Smoking at price \n",
        "apt_df.groupby('smoking_status')['price'].mean().plot(kind='bar', color=['green', 'grey'], figsize=(10,10))\n",
        "plt.title(\"Price Avg: Smoking vs No Smoking\")\n",
        "plt.xlabel('Smoking', fontsize=15)\n",
        "plt.xticks(fontsize=15)\n",
        "\n",
        "plt.ylabel('Price', fontsize=15)\n",
        "plt.yticks(fontsize=10)"
      ],
      "metadata": {
        "id": "NO2iAo3rIIxc",
        "cellView": "form",
        "colab": {
          "base_uri": "https://localhost:8080/",
          "height": 682
        },
        "outputId": "ad7c9696-f7a0-415f-ceef-903ad86e485e"
      },
      "execution_count": 41,
      "outputs": [
        {
          "output_type": "execute_result",
          "data": {
            "text/plain": [
              "(array([   0.,  200.,  400.,  600.,  800., 1000., 1200., 1400., 1600.]),\n",
              " <a list of 9 Text major ticklabel objects>)"
            ]
          },
          "metadata": {},
          "execution_count": 41
        },
        {
          "output_type": "display_data",
          "data": {
            "text/plain": [
              "<Figure size 720x720 with 1 Axes>"
            ],
            "image/png": "[encoded data removed]"
          },
          "metadata": {}
        }
      ]
    },
    {
      "cell_type": "markdown",
      "source": [
        "## 3.6 Does the amount of listings in a State effect Price?"
      ],
      "metadata": {
        "id": "9Xh5T0ukaxYO"
      }
    },
    {
      "cell_type": "markdown",
      "source": [
        "## Number of Listings per State"
      ],
      "metadata": {
        "id": "GjrvBqcpFWRC"
      }
    },
    {
      "cell_type": "code",
      "source": [
        "#@title States that have most ammount of appartments avaialble\n",
        "apt_df['state'].value_counts().head(10).plot(kind='barh')\n",
        "plt.title('Apartments Available')"
      ],
      "metadata": {
        "id": "myvXxiWgFEbl",
        "colab": {
          "base_uri": "https://localhost:8080/",
          "height": 629
        },
        "outputId": "dda02f64-9b52-464d-ec6a-856c8bcf6b0e"
      },
      "execution_count": 42,
      "outputs": [
        {
          "output_type": "execute_result",
          "data": {
            "text/plain": [
              "Text(0.5, 1.0, 'Apartments Available')"
            ]
          },
          "metadata": {},
          "execution_count": 42
        },
        {
          "output_type": "display_data",
          "data": {
            "text/plain": [
              "<Figure size 720x720 with 1 Axes>"
            ],
            "image/png": "[encoded data removed]"
          },
          "metadata": {}
        }
      ]
    },
    {
      "cell_type": "markdown",
      "source": [
        "# Percentage of listing per state"
      ],
      "metadata": {
        "id": "SXJgSZWDsFBK"
      }
    },
    {
      "cell_type": "code",
      "source": [
        "#@title Percentage of listing in each state\n",
        "#Over 20% of the properties listed are in CA, FL, Texas, 3 of the largest most populated states\n",
        "\n",
        "round(apt_df['state'].value_counts() * 100/ len(apt_df), 2).head(5).plot(kind='pie',autopct='%1.2f%%')\n",
        "plt.title('Percentage of listing in each state',fontsize=20)"
      ],
      "metadata": {
        "id": "odoamp2HsAXS",
        "cellView": "code",
        "colab": {
          "base_uri": "https://localhost:8080/",
          "height": 614
        },
        "outputId": "d3938534-4564-432d-d098-8261ff246ba8"
      },
      "execution_count": 43,
      "outputs": [
        {
          "output_type": "execute_result",
          "data": {
            "text/plain": [
              "Text(0.5, 1.0, 'Percentage of listing in each state')"
            ]
          },
          "metadata": {},
          "execution_count": 43
        },
        {
          "output_type": "display_data",
          "data": {
            "text/plain": [
              "<Figure size 720x720 with 1 Axes>"
            ],
            "image/png": "[encoded data removed]"
          },
          "metadata": {}
        }
      ]
    },
    {
      "cell_type": "code",
      "source": [
        "#@title Quantity of appartment available in different states\n",
        "#Spliting amounts of listing into categories: high and low.\n",
        "\n",
        "over_5k = apt_df['state'].value_counts()[:14].index\n",
        "over_5k"
      ],
      "metadata": {
        "id": "SUUUHhxKTzse",
        "colab": {
          "base_uri": "https://localhost:8080/"
        },
        "outputId": "608f79c3-369a-4ba4-9987-4719073ecee8"
      },
      "execution_count": 44,
      "outputs": [
        {
          "output_type": "execute_result",
          "data": {
            "text/plain": [
              "Index(['ca', 'fl', 'tx', 'mi', 'nc', 'co', 'or', 'ny', 'va', 'ga', 'wa', 'pa',\n",
              "       'tn', 'mn'],\n",
              "      dtype='object')"
            ]
          },
          "metadata": {},
          "execution_count": 44
        }
      ]
    },
    {
      "cell_type": "code",
      "source": [
        "#@title checking to see if the number of appartments avaialble per state is effecting the average price we see\n",
        "#Testing of number of listings affects price\n",
        "\n",
        "#Create category columns for number of properties listed\n",
        "\n",
        "boolnames = apt_df['state'].isin(over_5k)\n",
        "\n",
        "apt_df['property_count_cat'] = np.where(boolnames == True, 'High', 'Low')\n"
      ],
      "metadata": {
        "id": "eR8vbVRtVkW4"
      },
      "execution_count": 45,
      "outputs": []
    },
    {
      "cell_type": "code",
      "source": [
        "#@title  1.1\n",
        "high_prop, low_prop = apt_df[apt_df['property_count_cat'] == 'High'], apt_df[apt_df['property_count_cat'] == 'Low']\n",
        "\n",
        "high_prop.shape, low_prop.shape"
      ],
      "metadata": {
        "id": "NIYnIwoWYbWs",
        "colab": {
          "base_uri": "https://localhost:8080/"
        },
        "outputId": "6add00e4-49de-4cbe-de09-f41e29beb0f3"
      },
      "execution_count": 46,
      "outputs": [
        {
          "output_type": "execute_result",
          "data": {
            "text/plain": [
              "((63891, 24), (41448, 24))"
            ]
          },
          "metadata": {},
          "execution_count": 46
        }
      ]
    },
    {
      "cell_type": "code",
      "source": [
        "#@title 1.2\n",
        "high_prop_sample = high_prop.sample(n=41448, random_state=42)\n",
        "\n",
        "high_prop_sample.shape"
      ],
      "metadata": {
        "id": "MbSy6fiCY6OX",
        "colab": {
          "base_uri": "https://localhost:8080/"
        },
        "outputId": "b9ca1236-42a5-4b18-aede-b011e2b72af9"
      },
      "execution_count": 47,
      "outputs": [
        {
          "output_type": "execute_result",
          "data": {
            "text/plain": [
              "(41448, 24)"
            ]
          },
          "metadata": {},
          "execution_count": 47
        }
      ]
    },
    {
      "cell_type": "markdown",
      "source": [
        "##Null hypothesis: The obeservation of quatity of appartment per state, however uneven does not make a difference in the average price. "
      ],
      "metadata": {
        "id": "YXXvkwJ_p_wO"
      }
    },
    {
      "cell_type": "code",
      "source": [
        "#@title Default title text\n",
        "from scipy import stats\n",
        "\n",
        "\n",
        "high_property = high_prop_sample['price']\n",
        "\n",
        "low_property = low_prop['price']\n",
        "\n",
        "t2, p2 = stats.ttest_ind(high_property,low_property)\n",
        "print(\"t = \" + str(t2))\n",
        "\n",
        "#if p < 0.05 we can reject the null hypothesis\n",
        "print(\"p = \" + str(p2)) #the null hyptohesis assumes paid classes make no difference\n"
      ],
      "metadata": {
        "id": "UnTKAzo9ZeDG",
        "cellView": "form",
        "colab": {
          "base_uri": "https://localhost:8080/"
        },
        "outputId": "7c92a820-ff33-4b50-940e-a3b083d56ff5"
      },
      "execution_count": 48,
      "outputs": [
        {
          "output_type": "stream",
          "name": "stdout",
          "text": [
            "t = 25.903478979104257\n",
            "p = 2.3580395326878918e-147\n"
          ]
        }
      ]
    },
    {
      "cell_type": "markdown",
      "source": [
        "###We can reject the null hypothesis because we have a t-value much greater than 1.96 and P-Value < 0.05"
      ],
      "metadata": {
        "id": "MaCVuOksqN0N"
      }
    },
    {
      "cell_type": "markdown",
      "source": [
        "### No correlation between amount of properties in the data set and the price."
      ],
      "metadata": {
        "id": "6qhpn6ZQaR5f"
      }
    },
    {
      "cell_type": "markdown",
      "source": [
        "## 3.7 Relationship between laundry options and price"
      ],
      "metadata": {
        "id": "OpW62MDkFqJh"
      }
    },
    {
      "cell_type": "code",
      "source": [
        "#@title Distribution of Laundry Types\n",
        "sns.histplot(apt_df.laundry_options, kde=False).set_title('Laundry Option Distribution')"
      ],
      "metadata": {
        "id": "V-9E1fXxpqYZ",
        "cellView": "form",
        "colab": {
          "base_uri": "https://localhost:8080/",
          "height": 646
        },
        "outputId": "d691bc39-7217-4557-f81e-745d5b09946f"
      },
      "execution_count": 49,
      "outputs": [
        {
          "output_type": "execute_result",
          "data": {
            "text/plain": [
              "Text(0.5, 1.0, 'Laundry Option Distribution')"
            ]
          },
          "metadata": {},
          "execution_count": 49
        },
        {
          "output_type": "display_data",
          "data": {
            "text/plain": [
              "<Figure size 720x720 with 1 Axes>"
            ],
            "image/png": "[encoded data removed]"
          },
          "metadata": {}
        }
      ]
    },
    {
      "cell_type": "code",
      "source": [
        "#@title Distribution of Laundry types by price\n",
        "#sns.histplot(y='price',x='laundry_options',data=apt_df, hue='laundry_options')\n",
        "apt_df.pivot_table(index = 'laundry_options', values = 'price', aggfunc = 'median').sort_values('price').plot(kind='bar')\n",
        "plt.title('Distribution of Laundry types by price', fontsize = 20)"
      ],
      "metadata": {
        "id": "QBsbIS5W3Dv0",
        "cellView": "form",
        "colab": {
          "base_uri": "https://localhost:8080/",
          "height": 740
        },
        "outputId": "27124176-b865-4d38-8134-df47568517f0"
      },
      "execution_count": 50,
      "outputs": [
        {
          "output_type": "execute_result",
          "data": {
            "text/plain": [
              "Text(0.5, 1.0, 'Distribution of Laundry types by price')"
            ]
          },
          "metadata": {},
          "execution_count": 50
        },
        {
          "output_type": "display_data",
          "data": {
            "text/plain": [
              "<Figure size 720x720 with 1 Axes>"
            ],
            "image/png": "[encoded data removed]"
          },
          "metadata": {}
        }
      ]
    },
    {
      "cell_type": "code",
      "source": [
        "#@title distribution of top 10 and other states\n",
        "#Visualizng top 10 States (by # of listings) in crosstab\n",
        "\n",
        "apt_df['top_or_other'] = np.where(boolnames == False, 'Other', apt_df['state'])\n",
        "\n",
        "apt_df['top_or_other'].value_counts()"
      ],
      "metadata": {
        "id": "CkCs5G1CfVUQ",
        "cellView": "form",
        "colab": {
          "base_uri": "https://localhost:8080/"
        },
        "outputId": "0a278722-b1d7-44d3-df2a-a82c1435da4e"
      },
      "execution_count": 51,
      "outputs": [
        {
          "output_type": "execute_result",
          "data": {
            "text/plain": [
              "Other    41448\n",
              "ca       13796\n",
              "fl        8242\n",
              "tx        5679\n",
              "mi        4057\n",
              "nc        4040\n",
              "co        3705\n",
              "or        3691\n",
              "ny        3607\n",
              "va        3068\n",
              "ga        2910\n",
              "wa        2854\n",
              "pa        2840\n",
              "tn        2708\n",
              "mn        2694\n",
              "Name: top_or_other, dtype: int64"
            ]
          },
          "metadata": {},
          "execution_count": 51
        }
      ]
    },
    {
      "cell_type": "code",
      "source": [
        "#@title Visualizint the laundry option in top states\n",
        "pd.crosstab(index=apt_df['top_or_other'], columns=apt_df['laundry_options'], normalize='index').round(2)"
      ],
      "metadata": {
        "id": "sMgAEfmrhjPF",
        "cellView": "form",
        "colab": {
          "base_uri": "https://localhost:8080/",
          "height": 551
        },
        "outputId": "dce810b1-75be-447a-df3a-fd604d3febf9"
      },
      "execution_count": 52,
      "outputs": [
        {
          "output_type": "execute_result",
          "data": {
            "text/plain": [
              "laundry_options  laundry in bldg  laundry on site  no laundry on site  \\\n",
              "top_or_other                                                            \n",
              "Other                       0.13             0.10                0.01   \n",
              "ca                          0.06             0.28                0.00   \n",
              "co                          0.08             0.15                0.00   \n",
              "fl                          0.02             0.16                0.00   \n",
              "ga                          0.01             0.06                0.00   \n",
              "mi                          0.35             0.07                0.00   \n",
              "mn                          0.24             0.09                0.00   \n",
              "nc                          0.01             0.04                0.04   \n",
              "ny                          0.32             0.08                0.04   \n",
              "or                          0.03             0.15                0.00   \n",
              "pa                          0.20             0.08                0.01   \n",
              "tn                          0.03             0.12                0.00   \n",
              "tx                          0.02             0.21                0.00   \n",
              "va                          0.02             0.14                0.00   \n",
              "wa                          0.04             0.07                0.00   \n",
              "\n",
              "laundry_options  w/d hookups  w/d in unit  \n",
              "top_or_other                               \n",
              "Other                   0.15         0.62  \n",
              "ca                      0.10         0.55  \n",
              "co                      0.05         0.73  \n",
              "fl                      0.24         0.57  \n",
              "ga                      0.57         0.35  \n",
              "mi                      0.09         0.49  \n",
              "mn                      0.01         0.66  \n",
              "nc                      0.46         0.46  \n",
              "ny                      0.10         0.45  \n",
              "or                      0.17         0.66  \n",
              "pa                      0.11         0.59  \n",
              "tn                      0.60         0.25  \n",
              "tx                      0.30         0.47  \n",
              "va                      0.18         0.66  \n",
              "wa                      0.08         0.81  "
            ],
            "text/html": [
              "\n",
              "  <div id=\"df-80dca2b8-fbad-4924-8d6d-43a9bb2cff1b\">\n",
              "    <div class=\"colab-df-container\">\n",
              "      <div>\n",
              "<style scoped>\n",
              "    .dataframe tbody tr th:only-of-type {\n",
              "        vertical-align: middle;\n",
              "    }\n",
              "\n",
              "    .dataframe tbody tr th {\n",
              "        vertical-align: top;\n",
              "    }\n",
              "\n",
              "    .dataframe thead th {\n",
              "        text-align: right;\n",
              "    }\n",
              "</style>\n",
              "<table border=\"1\" class=\"dataframe\">\n",
              "  <thead>\n",
              "    <tr style=\"text-align: right;\">\n",
              "      <th>laundry_options</th>\n",
              "      <th>laundry in bldg</th>\n",
              "      <th>laundry on site</th>\n",
              "      <th>no laundry on site</th>\n",
              "      <th>w/d hookups</th>\n",
              "      <th>w/d in unit</th>\n",
              "    </tr>\n",
              "    <tr>\n",
              "      <th>top_or_other</th>\n",
              "      <th></th>\n",
              "      <th></th>\n",
              "      <th></th>\n",
              "      <th></th>\n",
              "      <th></th>\n",
              "    </tr>\n",
              "  </thead>\n",
              "  <tbody>\n",
              "    <tr>\n",
              "      <th>Other</th>\n",
              "      <td>0.13</td>\n",
              "      <td>0.10</td>\n",
              "      <td>0.01</td>\n",
              "      <td>0.15</td>\n",
              "      <td>0.62</td>\n",
              "    </tr>\n",
              "    <tr>\n",
              "      <th>ca</th>\n",
              "      <td>0.06</td>\n",
              "      <td>0.28</td>\n",
              "      <td>0.00</td>\n",
              "      <td>0.10</td>\n",
              "      <td>0.55</td>\n",
              "    </tr>\n",
              "    <tr>\n",
              "      <th>co</th>\n",
              "      <td>0.08</td>\n",
              "      <td>0.15</td>\n",
              "      <td>0.00</td>\n",
              "      <td>0.05</td>\n",
              "      <td>0.73</td>\n",
              "    </tr>\n",
              "    <tr>\n",
              "      <th>fl</th>\n",
              "      <td>0.02</td>\n",
              "      <td>0.16</td>\n",
              "      <td>0.00</td>\n",
              "      <td>0.24</td>\n",
              "      <td>0.57</td>\n",
              "    </tr>\n",
              "    <tr>\n",
              "      <th>ga</th>\n",
              "      <td>0.01</td>\n",
              "      <td>0.06</td>\n",
              "      <td>0.00</td>\n",
              "      <td>0.57</td>\n",
              "      <td>0.35</td>\n",
              "    </tr>\n",
              "    <tr>\n",
              "      <th>mi</th>\n",
              "      <td>0.35</td>\n",
              "      <td>0.07</td>\n",
              "      <td>0.00</td>\n",
              "      <td>0.09</td>\n",
              "      <td>0.49</td>\n",
              "    </tr>\n",
              "    <tr>\n",
              "      <th>mn</th>\n",
              "      <td>0.24</td>\n",
              "      <td>0.09</td>\n",
              "      <td>0.00</td>\n",
              "      <td>0.01</td>\n",
              "      <td>0.66</td>\n",
              "    </tr>\n",
              "    <tr>\n",
              "      <th>nc</th>\n",
              "      <td>0.01</td>\n",
              "      <td>0.04</td>\n",
              "      <td>0.04</td>\n",
              "      <td>0.46</td>\n",
              "      <td>0.46</td>\n",
              "    </tr>\n",
              "    <tr>\n",
              "      <th>ny</th>\n",
              "      <td>0.32</td>\n",
              "      <td>0.08</td>\n",
              "      <td>0.04</td>\n",
              "      <td>0.10</td>\n",
              "      <td>0.45</td>\n",
              "    </tr>\n",
              "    <tr>\n",
              "      <th>or</th>\n",
              "      <td>0.03</td>\n",
              "      <td>0.15</td>\n",
              "      <td>0.00</td>\n",
              "      <td>0.17</td>\n",
              "      <td>0.66</td>\n",
              "    </tr>\n",
              "    <tr>\n",
              "      <th>pa</th>\n",
              "      <td>0.20</td>\n",
              "      <td>0.08</td>\n",
              "      <td>0.01</td>\n",
              "      <td>0.11</td>\n",
              "      <td>0.59</td>\n",
              "    </tr>\n",
              "    <tr>\n",
              "      <th>tn</th>\n",
              "      <td>0.03</td>\n",
              "      <td>0.12</td>\n",
              "      <td>0.00</td>\n",
              "      <td>0.60</td>\n",
              "      <td>0.25</td>\n",
              "    </tr>\n",
              "    <tr>\n",
              "      <th>tx</th>\n",
              "      <td>0.02</td>\n",
              "      <td>0.21</td>\n",
              "      <td>0.00</td>\n",
              "      <td>0.30</td>\n",
              "      <td>0.47</td>\n",
              "    </tr>\n",
              "    <tr>\n",
              "      <th>va</th>\n",
              "      <td>0.02</td>\n",
              "      <td>0.14</td>\n",
              "      <td>0.00</td>\n",
              "      <td>0.18</td>\n",
              "      <td>0.66</td>\n",
              "    </tr>\n",
              "    <tr>\n",
              "      <th>wa</th>\n",
              "      <td>0.04</td>\n",
              "      <td>0.07</td>\n",
              "      <td>0.00</td>\n",
              "      <td>0.08</td>\n",
              "      <td>0.81</td>\n",
              "    </tr>\n",
              "  </tbody>\n",
              "</table>\n",
              "</div>\n",
              "      <button class=\"colab-df-convert\" onclick=\"convertToInteractive('df-80dca2b8-fbad-4924-8d6d-43a9bb2cff1b')\"\n",
              "              title=\"Convert this dataframe to an interactive table.\"\n",
              "              style=\"display:none;\">\n",
              "        \n",
              "  <svg xmlns=\"http://www.w3.org/2000/svg\" height=\"24px\"viewBox=\"0 0 24 24\"\n",
              "       width=\"24px\">\n",
              "    <path d=\"M0 0h24v24H0V0z\" fill=\"none\"/>\n",
              "    <path d=\"M18.56 5.44l.94 2.06.94-2.06 2.06-.94-2.06-.94-.94-2.06-.94 2.06-2.06.94zm-11 1L8.5 8.5l.94-2.06 2.06-.94-2.06-.94L8.5 2.5l-.94 2.06-2.06.94zm10 10l.94 2.06.94-2.06 2.06-.94-2.06-.94-.94-2.06-.94 2.06-2.06.94z\"/><path d=\"M17.41 7.96l-1.37-1.37c-.4-.4-.92-.59-1.43-.59-.52 0-1.04.2-1.43.59L10.3 9.45l-7.72 7.72c-.78.78-.78 2.05 0 2.83L4 21.41c.39.39.9.59 1.41.59.51 0 1.02-.2 1.41-.59l7.78-7.78 2.81-2.81c.8-.78.8-2.07 0-2.86zM5.41 20L4 18.59l7.72-7.72 1.47 1.35L5.41 20z\"/>\n",
              "  </svg>\n",
              "      </button>\n",
              "      \n",
              "  <style>\n",
              "    .colab-df-container {\n",
              "      display:flex;\n",
              "      flex-wrap:wrap;\n",
              "      gap: 12px;\n",
              "    }\n",
              "\n",
              "    .colab-df-convert {\n",
              "      background-color: #E8F0FE;\n",
              "      border: none;\n",
              "      border-radius: 50%;\n",
              "      cursor: pointer;\n",
              "      display: none;\n",
              "      fill: #1967D2;\n",
              "      height: 32px;\n",
              "      padding: 0 0 0 0;\n",
              "      width: 32px;\n",
              "    }\n",
              "\n",
              "    .colab-df-convert:hover {\n",
              "      background-color: #E2EBFA;\n",
              "      box-shadow: 0px 1px 2px rgba(60, 64, 67, 0.3), 0px 1px 3px 1px rgba(60, 64, 67, 0.15);\n",
              "      fill: #174EA6;\n",
              "    }\n",
              "\n",
              "    [theme=dark] .colab-df-convert {\n",
              "      background-color: #3B4455;\n",
              "      fill: #D2E3FC;\n",
              "    }\n",
              "\n",
              "    [theme=dark] .colab-df-convert:hover {\n",
              "      background-color: #434B5C;\n",
              "      box-shadow: 0px 1px 3px 1px rgba(0, 0, 0, 0.15);\n",
              "      filter: drop-shadow(0px 1px 2px rgba(0, 0, 0, 0.3));\n",
              "      fill: #FFFFFF;\n",
              "    }\n",
              "  </style>\n",
              "\n",
              "      <script>\n",
              "        const buttonEl =\n",
              "          document.querySelector('#df-80dca2b8-fbad-4924-8d6d-43a9bb2cff1b button.colab-df-convert');\n",
              "        buttonEl.style.display =\n",
              "          google.colab.kernel.accessAllowed ? 'block' : 'none';\n",
              "\n",
              "        async function convertToInteractive(key) {\n",
              "          const element = document.querySelector('#df-80dca2b8-fbad-4924-8d6d-43a9bb2cff1b');\n",
              "          const dataTable =\n",
              "            await google.colab.kernel.invokeFunction('convertToInteractive',\n",
              "                                                     [key], {});\n",
              "          if (!dataTable) return;\n",
              "\n",
              "          const docLinkHtml = 'Like what you see? Visit the ' +\n",
              "            '<a target=\"_blank\" href=https://colab.research.google.com/notebooks/data_table.ipynb>data table notebook</a>'\n",
              "            + ' to learn more about interactive tables.';\n",
              "          element.innerHTML = '';\n",
              "          dataTable['output_type'] = 'display_data';\n",
              "          await google.colab.output.renderOutput(dataTable, element);\n",
              "          const docLink = document.createElement('div');\n",
              "          docLink.innerHTML = docLinkHtml;\n",
              "          element.appendChild(docLink);\n",
              "        }\n",
              "      </script>\n",
              "    </div>\n",
              "  </div>\n",
              "  "
            ]
          },
          "metadata": {},
          "execution_count": 52
        }
      ]
    },
    {
      "cell_type": "code",
      "source": [
        "#@title Visualization the laundry option in top states\n",
        "pd.crosstab(index=apt_df['top_or_other'], columns=apt_df['laundry_options'], normalize='index').round(2).plot(kind='bar', stacked=True, figsize=(20,10))\n",
        "plt.xlabel('Laundry Options', fontsize=15)\n",
        "plt.ylabel('Ratios', fontsize=15)\n",
        "plt.legend()\n",
        "plt.xticks(fontsize=15)\n",
        "plt.yticks(fontsize=15)"
      ],
      "metadata": {
        "id": "Zd6ZFfg8F0kw",
        "colab": {
          "base_uri": "https://localhost:8080/",
          "height": 682
        },
        "outputId": "ddd0c527-5c72-4520-a66b-22771a47c6ff"
      },
      "execution_count": 53,
      "outputs": [
        {
          "output_type": "execute_result",
          "data": {
            "text/plain": [
              "(array([0. , 0.2, 0.4, 0.6, 0.8, 1. , 1.2]),\n",
              " <a list of 7 Text major ticklabel objects>)"
            ]
          },
          "metadata": {},
          "execution_count": 53
        },
        {
          "output_type": "display_data",
          "data": {
            "text/plain": [
              "<Figure size 1440x720 with 1 Axes>"
            ],
            "image/png": "[encoded data removed]"
          },
          "metadata": {}
        }
      ]
    },
    {
      "cell_type": "markdown",
      "source": [
        "## In California, Orgeon and Virginia w/d in unit are most common."
      ],
      "metadata": {
        "id": "qSStfv32qvMB"
      }
    },
    {
      "cell_type": "markdown",
      "source": [
        "# **4. Scenarios**"
      ],
      "metadata": {
        "id": "NgpjfGEltDC1"
      }
    },
    {
      "cell_type": "markdown",
      "source": [
        "# Scenario 1: Bachelor\n",
        "\n",
        "**Assumptions**\n",
        "\n",
        "- 1 Bed\n",
        "- 1 Bath\n",
        "- Parking (Preferred)\n",
        "- W/D in unit (preferred)\n",
        "- 1 Pet (preferred)\n",
        "- Comes furnished (preferred)\n",
        "- Smoking free\n"
      ],
      "metadata": {
        "id": "5ov6hJYLHUt0"
      }
    },
    {
      "cell_type": "markdown",
      "source": [
        "## Based on Price and Square Footage these are the best places to rent a 1 bedroom Apartment on Average."
      ],
      "metadata": {
        "id": "wFbPHBL2Ejjy"
      }
    },
    {
      "cell_type": "code",
      "source": [
        "#@title created a dataframe of one bedroom appartments\n",
        "# DF to represent only 1 bedroom apartments\n",
        "one_bed = apt_df[(apt_df['beds'] == 1) & (apt_df['price'] <= 1750)]\n",
        "one_bed.info()"
      ],
      "metadata": {
        "id": "TGSuh6yXKlxX",
        "cellView": "code",
        "colab": {
          "base_uri": "https://localhost:8080/"
        },
        "outputId": "bf806ebb-a758-4beb-e23b-f7a9271dbefe"
      },
      "execution_count": 54,
      "outputs": [
        {
          "output_type": "stream",
          "name": "stdout",
          "text": [
            "<class 'pandas.core.frame.DataFrame'>\n",
            "Int64Index: 20498 entries, 3 to 384962\n",
            "Data columns (total 25 columns):\n",
            " #   Column                   Non-Null Count  Dtype  \n",
            "---  ------                   --------------  -----  \n",
            " 0   id                       20498 non-null  int64  \n",
            " 1   url                      20498 non-null  object \n",
            " 2   region                   20498 non-null  object \n",
            " 3   region_url               20498 non-null  object \n",
            " 4   price                    20498 non-null  float64\n",
            " 5   type                     20498 non-null  object \n",
            " 6   sqfeet                   20498 non-null  int64  \n",
            " 7   beds                     20498 non-null  int64  \n",
            " 8   baths                    20498 non-null  float64\n",
            " 9   cats_allowed             20498 non-null  int64  \n",
            " 10  dogs_allowed             20498 non-null  int64  \n",
            " 11  smoking_allowed          20498 non-null  int64  \n",
            " 12  wheelchair_access        20498 non-null  int64  \n",
            " 13  electric_vehicle_charge  20498 non-null  int64  \n",
            " 14  comes_furnished          20498 non-null  int64  \n",
            " 15  laundry_options          20498 non-null  object \n",
            " 16  parking_options          20498 non-null  object \n",
            " 17  image_url                20498 non-null  object \n",
            " 18  description              20498 non-null  object \n",
            " 19  lat                      20498 non-null  float64\n",
            " 20  long                     20498 non-null  float64\n",
            " 21  state                    20498 non-null  object \n",
            " 22  smoking_status           20498 non-null  object \n",
            " 23  property_count_cat       20498 non-null  object \n",
            " 24  top_or_other             20498 non-null  object \n",
            "dtypes: float64(4), int64(9), object(12)\n",
            "memory usage: 4.1+ MB\n"
          ]
        }
      ]
    },
    {
      "cell_type": "code",
      "source": [
        "#@title Group the data by Region and State\n",
        "one_bed.groupby(['region', 'state'])[['price' ,'sqfeet']].mean().sort_values('sqfeet', ascending=False).head(10)"
      ],
      "metadata": {
        "id": "VDX0dFiMAKtP",
        "colab": {
          "base_uri": "https://localhost:8080/",
          "height": 394
        },
        "outputId": "7a597673-9cf9-4544-afef-088b672d5f1f"
      },
      "execution_count": 55,
      "outputs": [
        {
          "output_type": "execute_result",
          "data": {
            "text/plain": [
              "                         price       sqfeet\n",
              "region           state                     \n",
              "la crosse        wi     1317.5  1275.500000\n",
              "rockford         il     1120.0  1166.000000\n",
              "lawton           ok     1599.0  1160.000000\n",
              "monroe           mi      975.0  1110.000000\n",
              "albany           ga      890.0  1075.000000\n",
              "harrisonburg     va     1295.0  1050.000000\n",
              "mankato          mn     1400.0  1048.000000\n",
              "brownsville      tx      950.0  1044.000000\n",
              "hickory / lenoir nc     1019.0  1040.250000\n",
              "high rockies     co     1333.0  1023.333333"
            ],
            "text/html": [
              "\n",
              "  <div id=\"df-aa7a4ca8-ebfb-4fed-8e06-e781a31c5d68\">\n",
              "    <div class=\"colab-df-container\">\n",
              "      <div>\n",
              "<style scoped>\n",
              "    .dataframe tbody tr th:only-of-type {\n",
              "        vertical-align: middle;\n",
              "    }\n",
              "\n",
              "    .dataframe tbody tr th {\n",
              "        vertical-align: top;\n",
              "    }\n",
              "\n",
              "    .dataframe thead th {\n",
              "        text-align: right;\n",
              "    }\n",
              "</style>\n",
              "<table border=\"1\" class=\"dataframe\">\n",
              "  <thead>\n",
              "    <tr style=\"text-align: right;\">\n",
              "      <th></th>\n",
              "      <th></th>\n",
              "      <th>price</th>\n",
              "      <th>sqfeet</th>\n",
              "    </tr>\n",
              "    <tr>\n",
              "      <th>region</th>\n",
              "      <th>state</th>\n",
              "      <th></th>\n",
              "      <th></th>\n",
              "    </tr>\n",
              "  </thead>\n",
              "  <tbody>\n",
              "    <tr>\n",
              "      <th>la crosse</th>\n",
              "      <th>wi</th>\n",
              "      <td>1317.5</td>\n",
              "      <td>1275.500000</td>\n",
              "    </tr>\n",
              "    <tr>\n",
              "      <th>rockford</th>\n",
              "      <th>il</th>\n",
              "      <td>1120.0</td>\n",
              "      <td>1166.000000</td>\n",
              "    </tr>\n",
              "    <tr>\n",
              "      <th>lawton</th>\n",
              "      <th>ok</th>\n",
              "      <td>1599.0</td>\n",
              "      <td>1160.000000</td>\n",
              "    </tr>\n",
              "    <tr>\n",
              "      <th>monroe</th>\n",
              "      <th>mi</th>\n",
              "      <td>975.0</td>\n",
              "      <td>1110.000000</td>\n",
              "    </tr>\n",
              "    <tr>\n",
              "      <th>albany</th>\n",
              "      <th>ga</th>\n",
              "      <td>890.0</td>\n",
              "      <td>1075.000000</td>\n",
              "    </tr>\n",
              "    <tr>\n",
              "      <th>harrisonburg</th>\n",
              "      <th>va</th>\n",
              "      <td>1295.0</td>\n",
              "      <td>1050.000000</td>\n",
              "    </tr>\n",
              "    <tr>\n",
              "      <th>mankato</th>\n",
              "      <th>mn</th>\n",
              "      <td>1400.0</td>\n",
              "      <td>1048.000000</td>\n",
              "    </tr>\n",
              "    <tr>\n",
              "      <th>brownsville</th>\n",
              "      <th>tx</th>\n",
              "      <td>950.0</td>\n",
              "      <td>1044.000000</td>\n",
              "    </tr>\n",
              "    <tr>\n",
              "      <th>hickory / lenoir</th>\n",
              "      <th>nc</th>\n",
              "      <td>1019.0</td>\n",
              "      <td>1040.250000</td>\n",
              "    </tr>\n",
              "    <tr>\n",
              "      <th>high rockies</th>\n",
              "      <th>co</th>\n",
              "      <td>1333.0</td>\n",
              "      <td>1023.333333</td>\n",
              "    </tr>\n",
              "  </tbody>\n",
              "</table>\n",
              "</div>\n",
              "      <button class=\"colab-df-convert\" onclick=\"convertToInteractive('df-aa7a4ca8-ebfb-4fed-8e06-e781a31c5d68')\"\n",
              "              title=\"Convert this dataframe to an interactive table.\"\n",
              "              style=\"display:none;\">\n",
              "        \n",
              "  <svg xmlns=\"http://www.w3.org/2000/svg\" height=\"24px\"viewBox=\"0 0 24 24\"\n",
              "       width=\"24px\">\n",
              "    <path d=\"M0 0h24v24H0V0z\" fill=\"none\"/>\n",
              "    <path d=\"M18.56 5.44l.94 2.06.94-2.06 2.06-.94-2.06-.94-.94-2.06-.94 2.06-2.06.94zm-11 1L8.5 8.5l.94-2.06 2.06-.94-2.06-.94L8.5 2.5l-.94 2.06-2.06.94zm10 10l.94 2.06.94-2.06 2.06-.94-2.06-.94-.94-2.06-.94 2.06-2.06.94z\"/><path d=\"M17.41 7.96l-1.37-1.37c-.4-.4-.92-.59-1.43-.59-.52 0-1.04.2-1.43.59L10.3 9.45l-7.72 7.72c-.78.78-.78 2.05 0 2.83L4 21.41c.39.39.9.59 1.41.59.51 0 1.02-.2 1.41-.59l7.78-7.78 2.81-2.81c.8-.78.8-2.07 0-2.86zM5.41 20L4 18.59l7.72-7.72 1.47 1.35L5.41 20z\"/>\n",
              "  </svg>\n",
              "      </button>\n",
              "      \n",
              "  <style>\n",
              "    .colab-df-container {\n",
              "      display:flex;\n",
              "      flex-wrap:wrap;\n",
              "      gap: 12px;\n",
              "    }\n",
              "\n",
              "    .colab-df-convert {\n",
              "      background-color: #E8F0FE;\n",
              "      border: none;\n",
              "      border-radius: 50%;\n",
              "      cursor: pointer;\n",
              "      display: none;\n",
              "      fill: #1967D2;\n",
              "      height: 32px;\n",
              "      padding: 0 0 0 0;\n",
              "      width: 32px;\n",
              "    }\n",
              "\n",
              "    .colab-df-convert:hover {\n",
              "      background-color: #E2EBFA;\n",
              "      box-shadow: 0px 1px 2px rgba(60, 64, 67, 0.3), 0px 1px 3px 1px rgba(60, 64, 67, 0.15);\n",
              "      fill: #174EA6;\n",
              "    }\n",
              "\n",
              "    [theme=dark] .colab-df-convert {\n",
              "      background-color: #3B4455;\n",
              "      fill: #D2E3FC;\n",
              "    }\n",
              "\n",
              "    [theme=dark] .colab-df-convert:hover {\n",
              "      background-color: #434B5C;\n",
              "      box-shadow: 0px 1px 3px 1px rgba(0, 0, 0, 0.15);\n",
              "      filter: drop-shadow(0px 1px 2px rgba(0, 0, 0, 0.3));\n",
              "      fill: #FFFFFF;\n",
              "    }\n",
              "  </style>\n",
              "\n",
              "      <script>\n",
              "        const buttonEl =\n",
              "          document.querySelector('#df-aa7a4ca8-ebfb-4fed-8e06-e781a31c5d68 button.colab-df-convert');\n",
              "        buttonEl.style.display =\n",
              "          google.colab.kernel.accessAllowed ? 'block' : 'none';\n",
              "\n",
              "        async function convertToInteractive(key) {\n",
              "          const element = document.querySelector('#df-aa7a4ca8-ebfb-4fed-8e06-e781a31c5d68');\n",
              "          const dataTable =\n",
              "            await google.colab.kernel.invokeFunction('convertToInteractive',\n",
              "                                                     [key], {});\n",
              "          if (!dataTable) return;\n",
              "\n",
              "          const docLinkHtml = 'Like what you see? Visit the ' +\n",
              "            '<a target=\"_blank\" href=https://colab.research.google.com/notebooks/data_table.ipynb>data table notebook</a>'\n",
              "            + ' to learn more about interactive tables.';\n",
              "          element.innerHTML = '';\n",
              "          dataTable['output_type'] = 'display_data';\n",
              "          await google.colab.output.renderOutput(dataTable, element);\n",
              "          const docLink = document.createElement('div');\n",
              "          docLink.innerHTML = docLinkHtml;\n",
              "          element.appendChild(docLink);\n",
              "        }\n",
              "      </script>\n",
              "    </div>\n",
              "  </div>\n",
              "  "
            ]
          },
          "metadata": {},
          "execution_count": 55
        }
      ]
    },
    {
      "cell_type": "markdown",
      "source": [
        "## Considering W/D in unit, comes furnished, pets allowed , price and sqfeet"
      ],
      "metadata": {
        "id": "5nX7IR7hGxEB"
      }
    },
    {
      "cell_type": "code",
      "source": [
        "#@title Price and Sq fees for top 10 region that fits Riccardo's requirements\n",
        "\n",
        "one_bed[((df['laundry_options'] == 'w/d in unit')  & (df['comes_furnished'] == 1) & (df[\"cats_allowed\"] == 1) & (df['dogs_allowed'] == 1) & (one_bed['smoking_status'] == 'yes'))].groupby(['region','state'])[['price', 'sqfeet']].mean().sort_values('price', ascending=False).head(10).plot(kind='bar', figsize=(15,10))\n",
        "plt.title('1 Bed (all reqs) Price & SQFT for top 10 regions')\n",
        "plt.style.use('ggplot')"
      ],
      "metadata": {
        "id": "JnV8CJjMDaI3",
        "colab": {
          "base_uri": "https://localhost:8080/",
          "height": 832
        },
        "outputId": "6629722a-16ef-4270-8192-cfaebd55c891"
      },
      "execution_count": 56,
      "outputs": [
        {
          "output_type": "stream",
          "name": "stderr",
          "text": [
            "<ipython-input-56-c730add76391>:3: UserWarning: Boolean Series key will be reindexed to match DataFrame index.\n",
            "  one_bed[((df['laundry_options'] == 'w/d in unit')  & (df['comes_furnished'] == 1) & (df[\"cats_allowed\"] == 1) & (df['dogs_allowed'] == 1) & (one_bed['smoking_status'] == 'yes'))].groupby(['region','state'])[['price', 'sqfeet']].mean().sort_values('price', ascending=False).head(10).plot(kind='bar', figsize=(15,10))\n"
          ]
        },
        {
          "output_type": "display_data",
          "data": {
            "text/plain": [
              "<Figure size 1080x720 with 1 Axes>"
            ],
            "image/png": "[encoded data removed]"
          },
          "metadata": {}
        }
      ]
    },
    {
      "cell_type": "markdown",
      "source": [
        "### We can see the Sq feet for the money you pay, the best value you will get is Austin, TX and Ventura County, CA. These locations are ideal for young profession."
      ],
      "metadata": {
        "id": "W8WQpFUEuGOZ"
      }
    },
    {
      "cell_type": "code",
      "source": [
        "one_bed[((one_bed['laundry_options'] == 'w/d in unit')  & (one_bed['comes_furnished'] == 1) & (one_bed[\"cats_allowed\"] == 1) & (one_bed['dogs_allowed'] == 1) & (one_bed['smoking_status'] == 'yes'))].shape"
      ],
      "metadata": {
        "id": "HdMUkhxTGADK",
        "colab": {
          "base_uri": "https://localhost:8080/"
        },
        "outputId": "b37eeb60-2136-40cd-fe7b-f3c813e65926"
      },
      "execution_count": 57,
      "outputs": [
        {
          "output_type": "execute_result",
          "data": {
            "text/plain": [
              "(136, 25)"
            ]
          },
          "metadata": {},
          "execution_count": 57
        }
      ]
    },
    {
      "cell_type": "markdown",
      "source": [
        "## 136 total observations in the 1 bedroom DF fit these requirements"
      ],
      "metadata": {
        "id": "QDqhC_IQUUlv"
      }
    },
    {
      "cell_type": "markdown",
      "source": [
        "# **Senario 2: Married Couple, 2 kids**\n",
        "\n",
        "**Requirements**\n",
        "\n",
        "- 4 beds\n",
        "- 2 baths or more\n",
        "- W/D in unit\n",
        "- Pets allowed\n",
        "- SQFT >= 1500\n",
        "- Parking = Attached Garage\n",
        "- budget = 3250 Max"
      ],
      "metadata": {
        "id": "QxHsQE_bgfgx"
      }
    },
    {
      "cell_type": "code",
      "source": [
        "#@title Create a data frame for appartment that have over 4 bedroom and rent below $3250\n",
        "# DF for apartemnts with 4 bedrooms\n",
        "four_beds = apt_df[(apt_df['beds'] == 4) & (apt_df['price'] <= 3250)]"
      ],
      "metadata": {
        "id": "3uZ07oC_UJgv",
        "cellView": "form"
      },
      "execution_count": 58,
      "outputs": []
    },
    {
      "cell_type": "markdown",
      "source": [
        "## Best Bang for Buck as far as Price to Square footage."
      ],
      "metadata": {
        "id": "3aX9sen4pAwH"
      }
    },
    {
      "cell_type": "code",
      "source": [
        "#@title Top 10 states by Sq feet and Avg feet\n",
        "four_beds.groupby(['region','state'])[['price' ,'sqfeet']].mean().sort_values(['sqfeet', 'price'], ascending=[False, True]).head(10)"
      ],
      "metadata": {
        "id": "Mr3FIIJTiUN2",
        "colab": {
          "base_uri": "https://localhost:8080/",
          "height": 394
        },
        "outputId": "bedc21e2-36e6-4f90-f5fe-bf0d4151b4d6"
      },
      "execution_count": 59,
      "outputs": [
        {
          "output_type": "execute_result",
          "data": {
            "text/plain": [
              "                               price  sqfeet\n",
              "region                state                 \n",
              "savannah / hinesville ga     1950.00  2880.0\n",
              "el paso               tx     2250.00  2739.0\n",
              "inland empire         ca     2075.00  2597.5\n",
              "myrtle beach          sc     2073.75  2525.0\n",
              "southern WV           wv     1350.00  2500.0\n",
              "baltimore             md     2100.00  2500.0\n",
              "boise                 id     1850.00  2417.0\n",
              "nashville             tn     2407.50  2298.0\n",
              "northern michigan     mi     1050.00  2200.0\n",
              "elmira-corning        ny     1200.00  2200.0"
            ],
            "text/html": [
              "\n",
              "  <div id=\"df-65cbda84-e6e2-4cb6-a625-558c6e83a019\">\n",
              "    <div class=\"colab-df-container\">\n",
              "      <div>\n",
              "<style scoped>\n",
              "    .dataframe tbody tr th:only-of-type {\n",
              "        vertical-align: middle;\n",
              "    }\n",
              "\n",
              "    .dataframe tbody tr th {\n",
              "        vertical-align: top;\n",
              "    }\n",
              "\n",
              "    .dataframe thead th {\n",
              "        text-align: right;\n",
              "    }\n",
              "</style>\n",
              "<table border=\"1\" class=\"dataframe\">\n",
              "  <thead>\n",
              "    <tr style=\"text-align: right;\">\n",
              "      <th></th>\n",
              "      <th></th>\n",
              "      <th>price</th>\n",
              "      <th>sqfeet</th>\n",
              "    </tr>\n",
              "    <tr>\n",
              "      <th>region</th>\n",
              "      <th>state</th>\n",
              "      <th></th>\n",
              "      <th></th>\n",
              "    </tr>\n",
              "  </thead>\n",
              "  <tbody>\n",
              "    <tr>\n",
              "      <th>savannah / hinesville</th>\n",
              "      <th>ga</th>\n",
              "      <td>1950.00</td>\n",
              "      <td>2880.0</td>\n",
              "    </tr>\n",
              "    <tr>\n",
              "      <th>el paso</th>\n",
              "      <th>tx</th>\n",
              "      <td>2250.00</td>\n",
              "      <td>2739.0</td>\n",
              "    </tr>\n",
              "    <tr>\n",
              "      <th>inland empire</th>\n",
              "      <th>ca</th>\n",
              "      <td>2075.00</td>\n",
              "      <td>2597.5</td>\n",
              "    </tr>\n",
              "    <tr>\n",
              "      <th>myrtle beach</th>\n",
              "      <th>sc</th>\n",
              "      <td>2073.75</td>\n",
              "      <td>2525.0</td>\n",
              "    </tr>\n",
              "    <tr>\n",
              "      <th>southern WV</th>\n",
              "      <th>wv</th>\n",
              "      <td>1350.00</td>\n",
              "      <td>2500.0</td>\n",
              "    </tr>\n",
              "    <tr>\n",
              "      <th>baltimore</th>\n",
              "      <th>md</th>\n",
              "      <td>2100.00</td>\n",
              "      <td>2500.0</td>\n",
              "    </tr>\n",
              "    <tr>\n",
              "      <th>boise</th>\n",
              "      <th>id</th>\n",
              "      <td>1850.00</td>\n",
              "      <td>2417.0</td>\n",
              "    </tr>\n",
              "    <tr>\n",
              "      <th>nashville</th>\n",
              "      <th>tn</th>\n",
              "      <td>2407.50</td>\n",
              "      <td>2298.0</td>\n",
              "    </tr>\n",
              "    <tr>\n",
              "      <th>northern michigan</th>\n",
              "      <th>mi</th>\n",
              "      <td>1050.00</td>\n",
              "      <td>2200.0</td>\n",
              "    </tr>\n",
              "    <tr>\n",
              "      <th>elmira-corning</th>\n",
              "      <th>ny</th>\n",
              "      <td>1200.00</td>\n",
              "      <td>2200.0</td>\n",
              "    </tr>\n",
              "  </tbody>\n",
              "</table>\n",
              "</div>\n",
              "      <button class=\"colab-df-convert\" onclick=\"convertToInteractive('df-65cbda84-e6e2-4cb6-a625-558c6e83a019')\"\n",
              "              title=\"Convert this dataframe to an interactive table.\"\n",
              "              style=\"display:none;\">\n",
              "        \n",
              "  <svg xmlns=\"http://www.w3.org/2000/svg\" height=\"24px\"viewBox=\"0 0 24 24\"\n",
              "       width=\"24px\">\n",
              "    <path d=\"M0 0h24v24H0V0z\" fill=\"none\"/>\n",
              "    <path d=\"M18.56 5.44l.94 2.06.94-2.06 2.06-.94-2.06-.94-.94-2.06-.94 2.06-2.06.94zm-11 1L8.5 8.5l.94-2.06 2.06-.94-2.06-.94L8.5 2.5l-.94 2.06-2.06.94zm10 10l.94 2.06.94-2.06 2.06-.94-2.06-.94-.94-2.06-.94 2.06-2.06.94z\"/><path d=\"M17.41 7.96l-1.37-1.37c-.4-.4-.92-.59-1.43-.59-.52 0-1.04.2-1.43.59L10.3 9.45l-7.72 7.72c-.78.78-.78 2.05 0 2.83L4 21.41c.39.39.9.59 1.41.59.51 0 1.02-.2 1.41-.59l7.78-7.78 2.81-2.81c.8-.78.8-2.07 0-2.86zM5.41 20L4 18.59l7.72-7.72 1.47 1.35L5.41 20z\"/>\n",
              "  </svg>\n",
              "      </button>\n",
              "      \n",
              "  <style>\n",
              "    .colab-df-container {\n",
              "      display:flex;\n",
              "      flex-wrap:wrap;\n",
              "      gap: 12px;\n",
              "    }\n",
              "\n",
              "    .colab-df-convert {\n",
              "      background-color: #E8F0FE;\n",
              "      border: none;\n",
              "      border-radius: 50%;\n",
              "      cursor: pointer;\n",
              "      display: none;\n",
              "      fill: #1967D2;\n",
              "      height: 32px;\n",
              "      padding: 0 0 0 0;\n",
              "      width: 32px;\n",
              "    }\n",
              "\n",
              "    .colab-df-convert:hover {\n",
              "      background-color: #E2EBFA;\n",
              "      box-shadow: 0px 1px 2px rgba(60, 64, 67, 0.3), 0px 1px 3px 1px rgba(60, 64, 67, 0.15);\n",
              "      fill: #174EA6;\n",
              "    }\n",
              "\n",
              "    [theme=dark] .colab-df-convert {\n",
              "      background-color: #3B4455;\n",
              "      fill: #D2E3FC;\n",
              "    }\n",
              "\n",
              "    [theme=dark] .colab-df-convert:hover {\n",
              "      background-color: #434B5C;\n",
              "      box-shadow: 0px 1px 3px 1px rgba(0, 0, 0, 0.15);\n",
              "      filter: drop-shadow(0px 1px 2px rgba(0, 0, 0, 0.3));\n",
              "      fill: #FFFFFF;\n",
              "    }\n",
              "  </style>\n",
              "\n",
              "      <script>\n",
              "        const buttonEl =\n",
              "          document.querySelector('#df-65cbda84-e6e2-4cb6-a625-558c6e83a019 button.colab-df-convert');\n",
              "        buttonEl.style.display =\n",
              "          google.colab.kernel.accessAllowed ? 'block' : 'none';\n",
              "\n",
              "        async function convertToInteractive(key) {\n",
              "          const element = document.querySelector('#df-65cbda84-e6e2-4cb6-a625-558c6e83a019');\n",
              "          const dataTable =\n",
              "            await google.colab.kernel.invokeFunction('convertToInteractive',\n",
              "                                                     [key], {});\n",
              "          if (!dataTable) return;\n",
              "\n",
              "          const docLinkHtml = 'Like what you see? Visit the ' +\n",
              "            '<a target=\"_blank\" href=https://colab.research.google.com/notebooks/data_table.ipynb>data table notebook</a>'\n",
              "            + ' to learn more about interactive tables.';\n",
              "          element.innerHTML = '';\n",
              "          dataTable['output_type'] = 'display_data';\n",
              "          await google.colab.output.renderOutput(dataTable, element);\n",
              "          const docLink = document.createElement('div');\n",
              "          docLink.innerHTML = docLinkHtml;\n",
              "          element.appendChild(docLink);\n",
              "        }\n",
              "      </script>\n",
              "    </div>\n",
              "  </div>\n",
              "  "
            ]
          },
          "metadata": {},
          "execution_count": 59
        }
      ]
    },
    {
      "cell_type": "code",
      "source": [
        "#@title Top 10 regions with higest Avg price per Sq feet\n",
        "four_beds[((four_beds['laundry_options'] == 'w/d in unit') & (four_beds[\"cats_allowed\"] == 1) & (four_beds['dogs_allowed'] == 1) & (four_beds['parking_options'] == 'attached garage') & (four_beds['sqfeet'] >= 1500))].groupby(['region','state'])[['price', 'sqfeet']].mean().sort_values(['price', 'sqfeet'], ascending=[False, False]).head(10)"
      ],
      "metadata": {
        "id": "dWVEy_sUhte8",
        "colab": {
          "base_uri": "https://localhost:8080/",
          "height": 394
        },
        "outputId": "415b0228-d944-4e80-cb71-55e4065c2431"
      },
      "execution_count": 60,
      "outputs": [
        {
          "output_type": "execute_result",
          "data": {
            "text/plain": [
              "                                 price  sqfeet\n",
              "region                  state                 \n",
              "baton rouge             la     2407.50  2222.0\n",
              "north dakota            nd     2407.50  2100.0\n",
              "hudson valley           ny     2407.50  1950.0\n",
              "san diego               ca     2407.50  1945.5\n",
              "los angeles             ca     2407.50  1650.0\n",
              "south florida           fl     2407.50  1646.0\n",
              "spokane / coeur d'alene id     2407.50  1568.0\n",
              "denver                  co     2403.75  2387.5\n",
              "rhode island            ri     2300.00  1772.0\n",
              "monterey bay            ca     2200.00  2302.0"
            ],
            "text/html": [
              "\n",
              "  <div id=\"df-6d7d201b-9ad3-42a1-afe3-d99547dcbcfe\">\n",
              "    <div class=\"colab-df-container\">\n",
              "      <div>\n",
              "<style scoped>\n",
              "    .dataframe tbody tr th:only-of-type {\n",
              "        vertical-align: middle;\n",
              "    }\n",
              "\n",
              "    .dataframe tbody tr th {\n",
              "        vertical-align: top;\n",
              "    }\n",
              "\n",
              "    .dataframe thead th {\n",
              "        text-align: right;\n",
              "    }\n",
              "</style>\n",
              "<table border=\"1\" class=\"dataframe\">\n",
              "  <thead>\n",
              "    <tr style=\"text-align: right;\">\n",
              "      <th></th>\n",
              "      <th></th>\n",
              "      <th>price</th>\n",
              "      <th>sqfeet</th>\n",
              "    </tr>\n",
              "    <tr>\n",
              "      <th>region</th>\n",
              "      <th>state</th>\n",
              "      <th></th>\n",
              "      <th></th>\n",
              "    </tr>\n",
              "  </thead>\n",
              "  <tbody>\n",
              "    <tr>\n",
              "      <th>baton rouge</th>\n",
              "      <th>la</th>\n",
              "      <td>2407.50</td>\n",
              "      <td>2222.0</td>\n",
              "    </tr>\n",
              "    <tr>\n",
              "      <th>north dakota</th>\n",
              "      <th>nd</th>\n",
              "      <td>2407.50</td>\n",
              "      <td>2100.0</td>\n",
              "    </tr>\n",
              "    <tr>\n",
              "      <th>hudson valley</th>\n",
              "      <th>ny</th>\n",
              "      <td>2407.50</td>\n",
              "      <td>1950.0</td>\n",
              "    </tr>\n",
              "    <tr>\n",
              "      <th>san diego</th>\n",
              "      <th>ca</th>\n",
              "      <td>2407.50</td>\n",
              "      <td>1945.5</td>\n",
              "    </tr>\n",
              "    <tr>\n",
              "      <th>los angeles</th>\n",
              "      <th>ca</th>\n",
              "      <td>2407.50</td>\n",
              "      <td>1650.0</td>\n",
              "    </tr>\n",
              "    <tr>\n",
              "      <th>south florida</th>\n",
              "      <th>fl</th>\n",
              "      <td>2407.50</td>\n",
              "      <td>1646.0</td>\n",
              "    </tr>\n",
              "    <tr>\n",
              "      <th>spokane / coeur d'alene</th>\n",
              "      <th>id</th>\n",
              "      <td>2407.50</td>\n",
              "      <td>1568.0</td>\n",
              "    </tr>\n",
              "    <tr>\n",
              "      <th>denver</th>\n",
              "      <th>co</th>\n",
              "      <td>2403.75</td>\n",
              "      <td>2387.5</td>\n",
              "    </tr>\n",
              "    <tr>\n",
              "      <th>rhode island</th>\n",
              "      <th>ri</th>\n",
              "      <td>2300.00</td>\n",
              "      <td>1772.0</td>\n",
              "    </tr>\n",
              "    <tr>\n",
              "      <th>monterey bay</th>\n",
              "      <th>ca</th>\n",
              "      <td>2200.00</td>\n",
              "      <td>2302.0</td>\n",
              "    </tr>\n",
              "  </tbody>\n",
              "</table>\n",
              "</div>\n",
              "      <button class=\"colab-df-convert\" onclick=\"convertToInteractive('df-6d7d201b-9ad3-42a1-afe3-d99547dcbcfe')\"\n",
              "              title=\"Convert this dataframe to an interactive table.\"\n",
              "              style=\"display:none;\">\n",
              "        \n",
              "  <svg xmlns=\"http://www.w3.org/2000/svg\" height=\"24px\"viewBox=\"0 0 24 24\"\n",
              "       width=\"24px\">\n",
              "    <path d=\"M0 0h24v24H0V0z\" fill=\"none\"/>\n",
              "    <path d=\"M18.56 5.44l.94 2.06.94-2.06 2.06-.94-2.06-.94-.94-2.06-.94 2.06-2.06.94zm-11 1L8.5 8.5l.94-2.06 2.06-.94-2.06-.94L8.5 2.5l-.94 2.06-2.06.94zm10 10l.94 2.06.94-2.06 2.06-.94-2.06-.94-.94-2.06-.94 2.06-2.06.94z\"/><path d=\"M17.41 7.96l-1.37-1.37c-.4-.4-.92-.59-1.43-.59-.52 0-1.04.2-1.43.59L10.3 9.45l-7.72 7.72c-.78.78-.78 2.05 0 2.83L4 21.41c.39.39.9.59 1.41.59.51 0 1.02-.2 1.41-.59l7.78-7.78 2.81-2.81c.8-.78.8-2.07 0-2.86zM5.41 20L4 18.59l7.72-7.72 1.47 1.35L5.41 20z\"/>\n",
              "  </svg>\n",
              "      </button>\n",
              "      \n",
              "  <style>\n",
              "    .colab-df-container {\n",
              "      display:flex;\n",
              "      flex-wrap:wrap;\n",
              "      gap: 12px;\n",
              "    }\n",
              "\n",
              "    .colab-df-convert {\n",
              "      background-color: #E8F0FE;\n",
              "      border: none;\n",
              "      border-radius: 50%;\n",
              "      cursor: pointer;\n",
              "      display: none;\n",
              "      fill: #1967D2;\n",
              "      height: 32px;\n",
              "      padding: 0 0 0 0;\n",
              "      width: 32px;\n",
              "    }\n",
              "\n",
              "    .colab-df-convert:hover {\n",
              "      background-color: #E2EBFA;\n",
              "      box-shadow: 0px 1px 2px rgba(60, 64, 67, 0.3), 0px 1px 3px 1px rgba(60, 64, 67, 0.15);\n",
              "      fill: #174EA6;\n",
              "    }\n",
              "\n",
              "    [theme=dark] .colab-df-convert {\n",
              "      background-color: #3B4455;\n",
              "      fill: #D2E3FC;\n",
              "    }\n",
              "\n",
              "    [theme=dark] .colab-df-convert:hover {\n",
              "      background-color: #434B5C;\n",
              "      box-shadow: 0px 1px 3px 1px rgba(0, 0, 0, 0.15);\n",
              "      filter: drop-shadow(0px 1px 2px rgba(0, 0, 0, 0.3));\n",
              "      fill: #FFFFFF;\n",
              "    }\n",
              "  </style>\n",
              "\n",
              "      <script>\n",
              "        const buttonEl =\n",
              "          document.querySelector('#df-6d7d201b-9ad3-42a1-afe3-d99547dcbcfe button.colab-df-convert');\n",
              "        buttonEl.style.display =\n",
              "          google.colab.kernel.accessAllowed ? 'block' : 'none';\n",
              "\n",
              "        async function convertToInteractive(key) {\n",
              "          const element = document.querySelector('#df-6d7d201b-9ad3-42a1-afe3-d99547dcbcfe');\n",
              "          const dataTable =\n",
              "            await google.colab.kernel.invokeFunction('convertToInteractive',\n",
              "                                                     [key], {});\n",
              "          if (!dataTable) return;\n",
              "\n",
              "          const docLinkHtml = 'Like what you see? Visit the ' +\n",
              "            '<a target=\"_blank\" href=https://colab.research.google.com/notebooks/data_table.ipynb>data table notebook</a>'\n",
              "            + ' to learn more about interactive tables.';\n",
              "          element.innerHTML = '';\n",
              "          dataTable['output_type'] = 'display_data';\n",
              "          await google.colab.output.renderOutput(dataTable, element);\n",
              "          const docLink = document.createElement('div');\n",
              "          docLink.innerHTML = docLinkHtml;\n",
              "          element.appendChild(docLink);\n",
              "        }\n",
              "      </script>\n",
              "    </div>\n",
              "  </div>\n",
              "  "
            ]
          },
          "metadata": {},
          "execution_count": 60
        }
      ]
    },
    {
      "cell_type": "code",
      "source": [
        "#@title Top 10 steates 4 Beds (All reqs) AVG Price & SQFT\n",
        "four_beds[((four_beds['laundry_options'] == 'w/d in unit') & (four_beds[\"cats_allowed\"] == 1) & (four_beds['dogs_allowed'] == 1) & (four_beds['parking_options'] == 'attached garage') & (four_beds['sqfeet'] >= 1500))].groupby(['region','state'])[['price', 'sqfeet']].mean().sort_values(['price', 'sqfeet'], ascending=[False, False]).head(10).plot(kind='bar')\n",
        "plt.title('4 Beds (All reqs) AVG Price & SQFT')"
      ],
      "metadata": {
        "id": "54Ho4LnmjYxA",
        "cellView": "form",
        "colab": {
          "base_uri": "https://localhost:8080/",
          "height": 794
        },
        "outputId": "fe8067f2-ad72-4118-9313-84aeaeda435a"
      },
      "execution_count": 61,
      "outputs": [
        {
          "output_type": "execute_result",
          "data": {
            "text/plain": [
              "Text(0.5, 1.0, '4 Beds (All reqs) AVG Price & SQFT')"
            ]
          },
          "metadata": {},
          "execution_count": 61
        },
        {
          "output_type": "display_data",
          "data": {
            "text/plain": [
              "<Figure size 720x720 with 1 Axes>"
            ],
            "image/png": "[encoded data removed]"
          },
          "metadata": {}
        }
      ]
    },
    {
      "cell_type": "code",
      "source": [
        "#@title Median Price by SQFT\n",
        "four_beds[((four_beds['laundry_options'] == 'w/d in unit') & (four_beds[\"cats_allowed\"] == 1) & (four_beds['dogs_allowed'] == 1) & (four_beds['parking_options'] == 'attached garage') & (four_beds['sqfeet'] >= 1500))].groupby(['region','state'])[['price', 'sqfeet']].median().sort_values(['price', 'sqfeet'], ascending=[False, False]).head(10)"
      ],
      "metadata": {
        "id": "7LmKTr46qBoN",
        "colab": {
          "base_uri": "https://localhost:8080/",
          "height": 394
        },
        "outputId": "99058152-02aa-4fab-9d98-78c056a8f191"
      },
      "execution_count": 62,
      "outputs": [
        {
          "output_type": "execute_result",
          "data": {
            "text/plain": [
              "                                 price  sqfeet\n",
              "region                  state                 \n",
              "baton rouge             la     2407.50  2222.0\n",
              "north dakota            nd     2407.50  2100.0\n",
              "hudson valley           ny     2407.50  1950.0\n",
              "san diego               ca     2407.50  1945.5\n",
              "los angeles             ca     2407.50  1650.0\n",
              "south florida           fl     2407.50  1646.0\n",
              "spokane / coeur d'alene id     2407.50  1597.0\n",
              "denver                  co     2403.75  2387.5\n",
              "rhode island            ri     2300.00  1772.0\n",
              "monterey bay            ca     2200.00  2302.0"
            ],
            "text/html": [
              "\n",
              "  <div id=\"df-e807f0b4-97a6-4ddf-8325-a38d02afa036\">\n",
              "    <div class=\"colab-df-container\">\n",
              "      <div>\n",
              "<style scoped>\n",
              "    .dataframe tbody tr th:only-of-type {\n",
              "        vertical-align: middle;\n",
              "    }\n",
              "\n",
              "    .dataframe tbody tr th {\n",
              "        vertical-align: top;\n",
              "    }\n",
              "\n",
              "    .dataframe thead th {\n",
              "        text-align: right;\n",
              "    }\n",
              "</style>\n",
              "<table border=\"1\" class=\"dataframe\">\n",
              "  <thead>\n",
              "    <tr style=\"text-align: right;\">\n",
              "      <th></th>\n",
              "      <th></th>\n",
              "      <th>price</th>\n",
              "      <th>sqfeet</th>\n",
              "    </tr>\n",
              "    <tr>\n",
              "      <th>region</th>\n",
              "      <th>state</th>\n",
              "      <th></th>\n",
              "      <th></th>\n",
              "    </tr>\n",
              "  </thead>\n",
              "  <tbody>\n",
              "    <tr>\n",
              "      <th>baton rouge</th>\n",
              "      <th>la</th>\n",
              "      <td>2407.50</td>\n",
              "      <td>2222.0</td>\n",
              "    </tr>\n",
              "    <tr>\n",
              "      <th>north dakota</th>\n",
              "      <th>nd</th>\n",
              "      <td>2407.50</td>\n",
              "      <td>2100.0</td>\n",
              "    </tr>\n",
              "    <tr>\n",
              "      <th>hudson valley</th>\n",
              "      <th>ny</th>\n",
              "      <td>2407.50</td>\n",
              "      <td>1950.0</td>\n",
              "    </tr>\n",
              "    <tr>\n",
              "      <th>san diego</th>\n",
              "      <th>ca</th>\n",
              "      <td>2407.50</td>\n",
              "      <td>1945.5</td>\n",
              "    </tr>\n",
              "    <tr>\n",
              "      <th>los angeles</th>\n",
              "      <th>ca</th>\n",
              "      <td>2407.50</td>\n",
              "      <td>1650.0</td>\n",
              "    </tr>\n",
              "    <tr>\n",
              "      <th>south florida</th>\n",
              "      <th>fl</th>\n",
              "      <td>2407.50</td>\n",
              "      <td>1646.0</td>\n",
              "    </tr>\n",
              "    <tr>\n",
              "      <th>spokane / coeur d'alene</th>\n",
              "      <th>id</th>\n",
              "      <td>2407.50</td>\n",
              "      <td>1597.0</td>\n",
              "    </tr>\n",
              "    <tr>\n",
              "      <th>denver</th>\n",
              "      <th>co</th>\n",
              "      <td>2403.75</td>\n",
              "      <td>2387.5</td>\n",
              "    </tr>\n",
              "    <tr>\n",
              "      <th>rhode island</th>\n",
              "      <th>ri</th>\n",
              "      <td>2300.00</td>\n",
              "      <td>1772.0</td>\n",
              "    </tr>\n",
              "    <tr>\n",
              "      <th>monterey bay</th>\n",
              "      <th>ca</th>\n",
              "      <td>2200.00</td>\n",
              "      <td>2302.0</td>\n",
              "    </tr>\n",
              "  </tbody>\n",
              "</table>\n",
              "</div>\n",
              "      <button class=\"colab-df-convert\" onclick=\"convertToInteractive('df-e807f0b4-97a6-4ddf-8325-a38d02afa036')\"\n",
              "              title=\"Convert this dataframe to an interactive table.\"\n",
              "              style=\"display:none;\">\n",
              "        \n",
              "  <svg xmlns=\"http://www.w3.org/2000/svg\" height=\"24px\"viewBox=\"0 0 24 24\"\n",
              "       width=\"24px\">\n",
              "    <path d=\"M0 0h24v24H0V0z\" fill=\"none\"/>\n",
              "    <path d=\"M18.56 5.44l.94 2.06.94-2.06 2.06-.94-2.06-.94-.94-2.06-.94 2.06-2.06.94zm-11 1L8.5 8.5l.94-2.06 2.06-.94-2.06-.94L8.5 2.5l-.94 2.06-2.06.94zm10 10l.94 2.06.94-2.06 2.06-.94-2.06-.94-.94-2.06-.94 2.06-2.06.94z\"/><path d=\"M17.41 7.96l-1.37-1.37c-.4-.4-.92-.59-1.43-.59-.52 0-1.04.2-1.43.59L10.3 9.45l-7.72 7.72c-.78.78-.78 2.05 0 2.83L4 21.41c.39.39.9.59 1.41.59.51 0 1.02-.2 1.41-.59l7.78-7.78 2.81-2.81c.8-.78.8-2.07 0-2.86zM5.41 20L4 18.59l7.72-7.72 1.47 1.35L5.41 20z\"/>\n",
              "  </svg>\n",
              "      </button>\n",
              "      \n",
              "  <style>\n",
              "    .colab-df-container {\n",
              "      display:flex;\n",
              "      flex-wrap:wrap;\n",
              "      gap: 12px;\n",
              "    }\n",
              "\n",
              "    .colab-df-convert {\n",
              "      background-color: #E8F0FE;\n",
              "      border: none;\n",
              "      border-radius: 50%;\n",
              "      cursor: pointer;\n",
              "      display: none;\n",
              "      fill: #1967D2;\n",
              "      height: 32px;\n",
              "      padding: 0 0 0 0;\n",
              "      width: 32px;\n",
              "    }\n",
              "\n",
              "    .colab-df-convert:hover {\n",
              "      background-color: #E2EBFA;\n",
              "      box-shadow: 0px 1px 2px rgba(60, 64, 67, 0.3), 0px 1px 3px 1px rgba(60, 64, 67, 0.15);\n",
              "      fill: #174EA6;\n",
              "    }\n",
              "\n",
              "    [theme=dark] .colab-df-convert {\n",
              "      background-color: #3B4455;\n",
              "      fill: #D2E3FC;\n",
              "    }\n",
              "\n",
              "    [theme=dark] .colab-df-convert:hover {\n",
              "      background-color: #434B5C;\n",
              "      box-shadow: 0px 1px 3px 1px rgba(0, 0, 0, 0.15);\n",
              "      filter: drop-shadow(0px 1px 2px rgba(0, 0, 0, 0.3));\n",
              "      fill: #FFFFFF;\n",
              "    }\n",
              "  </style>\n",
              "\n",
              "      <script>\n",
              "        const buttonEl =\n",
              "          document.querySelector('#df-e807f0b4-97a6-4ddf-8325-a38d02afa036 button.colab-df-convert');\n",
              "        buttonEl.style.display =\n",
              "          google.colab.kernel.accessAllowed ? 'block' : 'none';\n",
              "\n",
              "        async function convertToInteractive(key) {\n",
              "          const element = document.querySelector('#df-e807f0b4-97a6-4ddf-8325-a38d02afa036');\n",
              "          const dataTable =\n",
              "            await google.colab.kernel.invokeFunction('convertToInteractive',\n",
              "                                                     [key], {});\n",
              "          if (!dataTable) return;\n",
              "\n",
              "          const docLinkHtml = 'Like what you see? Visit the ' +\n",
              "            '<a target=\"_blank\" href=https://colab.research.google.com/notebooks/data_table.ipynb>data table notebook</a>'\n",
              "            + ' to learn more about interactive tables.';\n",
              "          element.innerHTML = '';\n",
              "          dataTable['output_type'] = 'display_data';\n",
              "          await google.colab.output.renderOutput(dataTable, element);\n",
              "          const docLink = document.createElement('div');\n",
              "          docLink.innerHTML = docLinkHtml;\n",
              "          element.appendChild(docLink);\n",
              "        }\n",
              "      </script>\n",
              "    </div>\n",
              "  </div>\n",
              "  "
            ]
          },
          "metadata": {},
          "execution_count": 62
        }
      ]
    },
    {
      "cell_type": "code",
      "source": [
        "#@title Suggested 27 listings\n",
        "four_beds[((four_beds['laundry_options'] == 'w/d in unit') & (four_beds[\"cats_allowed\"] == 1) & (four_beds['dogs_allowed'] == 1) & (four_beds['parking_options'] == 'attached garage') & (four_beds['sqfeet'] >= 1500))].groupby(['region','state'])[['price', 'sqfeet']].median().sort_values(['price', 'sqfeet'], ascending=[False, False]).shape"
      ],
      "metadata": {
        "id": "sLHmU8nJmDcR",
        "colab": {
          "base_uri": "https://localhost:8080/"
        },
        "outputId": "2f701449-9687-45cd-e97a-664f954a7db6"
      },
      "execution_count": 63,
      "outputs": [
        {
          "output_type": "execute_result",
          "data": {
            "text/plain": [
              "(27, 2)"
            ]
          },
          "metadata": {},
          "execution_count": 63
        }
      ]
    },
    {
      "cell_type": "markdown",
      "source": [
        "## Only 27 observations for the requirements of the family of 4."
      ],
      "metadata": {
        "id": "zD8ZmVPEmYYy"
      }
    },
    {
      "cell_type": "markdown",
      "source": [
        "#**Takeaways and more info that would be useful.**\n",
        "\n",
        "##From this data we were able to pinpoint the location of apartments where one could get the most out of what they pay inregard to the living space and their amentities. It works great to get a general idea however, some important information is missing for one to be able to more fully understand the location they are thinking about moving to.\n",
        "\n",
        "## Other Factors that would be important here but missing are the cities instead of region, quality of Public or Private schools in the area, population and distance to areas of commerce, time series data and crime."
      ],
      "metadata": {
        "id": "8f2P8s1glOJ2"
      }
    },
    {
      "cell_type": "code",
      "source": [],
      "metadata": {
        "id": "-VFBKkemlAo3"
      },
      "execution_count": 63,
      "outputs": []
    }
  ]
}
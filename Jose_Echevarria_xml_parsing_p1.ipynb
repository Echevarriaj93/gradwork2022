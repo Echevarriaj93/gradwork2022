{
  "nbformat": 4,
  "nbformat_minor": 0,
  "metadata": {
    "colab": {
      "provenance": [],
      "toc_visible": true,
      "include_colab_link": true
    },
    "kernelspec": {
      "name": "python3",
      "display_name": "Python 3"
    },
    "language_info": {
      "name": "python"
    }
  },
  "cells": [
    {
      "cell_type": "markdown",
      "metadata": {
        "id": "view-in-github",
        "colab_type": "text"
      },
      "source": [
        "<a href=\"https://colab.research.google.com/github/Echevarriaj93/gradwork2022/blob/main/Jose_Echevarria_xml_parsing_p1.ipynb\" target=\"_parent\"><img src=\"https://colab.research.google.com/assets/colab-badge.svg\" alt=\"Open In Colab\"/></a>"
      ]
    },
    {
      "cell_type": "markdown",
      "source": [
        "# Python XML Tutorial: Beginner's Guide\n",
        "\n",
        "OP from [here](https://www.datacamp.com/tutorial/python-xml-elementtree) and [here](http://www2.hawaii.edu/~takebaya/cent110/xml_parse/xml_parse.html)\n",
        "\n",
        "Modified by Dr. Jie Tao\n",
        "\n"
      ],
      "metadata": {
        "id": "2SBX10042EcO"
      }
    },
    {
      "cell_type": "markdown",
      "source": [
        "<!--#### TODO: update inpage links-->\n",
        "\n",
        "<!--; And You'll utilize [xpath expresssions]() to populate XML files-->\n",
        "\n",
        "As a data scientist, you'll find that understanding XML is powerful for both web-scraping and general practice in parsing a structured document.\n",
        "\n",
        "In this tutorial, you'll cover the following topics:\n",
        "\n",
        "- You'll learn more about [XML](https://colab.research.google.com/drive/1jkZGfFy1YZtfbMkW4hipFwRLIRDNsbhg?authuser=2#scrollTo=sf0NTyCJ3X4Y).\n",
        "- You'll learn how to do simple XML parsing [using `beautifulSoup`](https://colab.research.google.com/drive/1jkZGfFy1YZtfbMkW4hipFwRLIRDNsbhg?authuser=2#scrollTo=k3qCw3LM7sru),and you'll get introduced to the [Python `ElementTree` package](https://colab.research.google.com/drive/1jkZGfFy1YZtfbMkW4hipFwRLIRDNsbhg?authuser=2#scrollTo=Z9nGfj279w_B).\n",
        "- Then, you'll discover how you can [explore XML trees](https://colab.research.google.com/drive/1jkZGfFy1YZtfbMkW4hipFwRLIRDNsbhg?authuser=2#scrollTo=Exploring_the_XML_Document) to understand the data that you're working with better with the help of ElementTree functions, for loops and XPath expressions.\n",
        "- Next, you'll learn how you can [find and modify an XML file](https://colab.research.google.com/drive/1jkZGfFy1YZtfbMkW4hipFwRLIRDNsbhg?authuser=2#scrollTo=Find_and_Modify_Data_in_XML).\n"
      ],
      "metadata": {
        "id": "n7mvy4Zz2cSU"
      }
    },
    {
      "cell_type": "markdown",
      "source": [
        "## What is XML?\n",
        "XML stands for \"Extensible Markup Language\". It is mainly used in webpages, where the data has a specific structure and is understood dynamically by the XML framework.\n",
        "\n",
        "XML creates a __tree-like__ structure that is easy to interpret and supports a __hierarchy__ (similar to the HTML tree we saw before). Whenever a page follows XML, it can be called an __XML document__.\n",
        "\n",
        "XML documents have sections, called elements, defined by a beginning and an ending **tag** (similar to HTML tags). A tag is a markup construct that begins with `<` and ends with `>`. The characters between the start-tag (eg. `<movie>`) and end-tag (eg. `</movie>`), if there are any, are the element's **content**. Elements can contain markup, including other elements, which are called _child elements_.\n",
        "The largest, top-level element is called the **root**, which contains all other elements.\n",
        "Attributes are **name–value pairs** that exist within a start-tag or empty-element tag. An XML attribute can only have a **single** value and each attribute can appear at most once on each element.\n",
        "\n",
        "An example XML document would look like below:\n",
        "```xml\n",
        "<?xml version=\"1.0\" ?>\n",
        "<books>\n",
        "  <book>\n",
        "    <title>The Cat in the Hat</title>\n",
        "    <author>Dr. Seuss</author>\n",
        "    <price>6.99</price>\n",
        "  </book>\n",
        "  <book>\n",
        "    <title>Ender's Game</title>\n",
        "    <author>Orson Scott Card</author>\n",
        "    <price>8.99</price>\n",
        "  </book>\n",
        "  <book>\n",
        "    <title>Prey</title>\n",
        "    <author>Michael Crichton</author>\n",
        "    <price>9.35</price>\n",
        "  </book>\n",
        "</books>\n",
        "```\n"
      ],
      "metadata": {
        "id": "sf0NTyCJ3X4Y"
      }
    },
    {
      "cell_type": "markdown",
      "source": [
        "Now we can use what we learned about _web scraping_, to retrieve an XML document online (with `requests`) and then do some simple parsing with it (with `beautifulSoup`)."
      ],
      "metadata": {
        "id": "ti6vCJxS5UB9"
      }
    },
    {
      "cell_type": "markdown",
      "source": [
        "## Read XML with `BeautifulSoup`"
      ],
      "metadata": {
        "id": "k3qCw3LM7sru"
      }
    },
    {
      "cell_type": "code",
      "execution_count": null,
      "metadata": {
        "id": "jEQKSbbV19CZ"
      },
      "outputs": [],
      "source": [
        "import requests\n",
        "from bs4 import BeautifulSoup"
      ]
    },
    {
      "cell_type": "code",
      "source": [
        "xml_url = \"https://raw.githubusercontent.com/DrJieTao/ba505-docs/master/data/movies.xml\"\n",
        "response = requests.get(xml_url)\n",
        "soup = BeautifulSoup(response.text,'xml')\n",
        "print(soup.prettify())"
      ],
      "metadata": {
        "colab": {
          "base_uri": "https://localhost:8080/"
        },
        "id": "WpgvwgLr51WC",
        "outputId": "5ff42ef1-c6be-47e5-f111-a1e0a9acbdaa"
      },
      "execution_count": null,
      "outputs": [
        {
          "output_type": "stream",
          "name": "stdout",
          "text": [
            "<?xml version=\"1.0\" encoding=\"utf-8\"?>\n",
            "<collection>\n",
            " <genre category=\"Action\">\n",
            "  <decade years=\"1980s\">\n",
            "   <movie favorite=\"True\" title=\"Indiana Jones: The raiders of the lost Ark\">\n",
            "    <format multiple=\"No\">\n",
            "     DVD\n",
            "    </format>\n",
            "    <year>\n",
            "     1981\n",
            "    </year>\n",
            "    <rating>\n",
            "     PG\n",
            "    </rating>\n",
            "    <description>\n",
            "     'Archaeologist and adventurer Indiana Jones \n",
            "                is hired by the U.S. government to find the Ark of the \n",
            "                Covenant before the Nazis.'\n",
            "    </description>\n",
            "   </movie>\n",
            "   <movie favorite=\"True\" title=\"THE KARATE KID\">\n",
            "    <format multiple=\"Yes\">\n",
            "     DVD,Online\n",
            "    </format>\n",
            "    <year>\n",
            "     1984\n",
            "    </year>\n",
            "    <rating>\n",
            "     PG\n",
            "    </rating>\n",
            "    <description>\n",
            "     None provided.\n",
            "    </description>\n",
            "   </movie>\n",
            "   <movie favorite=\"False\" title=\"Back 2 the Future\">\n",
            "    <format multiple=\"False\">\n",
            "     Blu-ray\n",
            "    </format>\n",
            "    <year>\n",
            "     1985\n",
            "    </year>\n",
            "    <rating>\n",
            "     PG\n",
            "    </rating>\n",
            "    <description>\n",
            "     Marty McFly\n",
            "    </description>\n",
            "   </movie>\n",
            "  </decade>\n",
            "  <decade years=\"1990s\">\n",
            "   <movie favorite=\"False\" title=\"X-Men\">\n",
            "    <format multiple=\"Yes\">\n",
            "     dvd, digital\n",
            "    </format>\n",
            "    <year>\n",
            "     2000\n",
            "    </year>\n",
            "    <rating>\n",
            "     PG-13\n",
            "    </rating>\n",
            "    <description>\n",
            "     Two mutants come to a private academy for their kind whose resident superhero team must \n",
            "               oppose a terrorist organization with similar powers.\n",
            "    </description>\n",
            "   </movie>\n",
            "   <movie favorite=\"True\" title=\"Batman Returns\">\n",
            "    <format multiple=\"No\">\n",
            "     VHS\n",
            "    </format>\n",
            "    <year>\n",
            "     1992\n",
            "    </year>\n",
            "    <rating>\n",
            "     PG13\n",
            "    </rating>\n",
            "    <description>\n",
            "     NA.\n",
            "    </description>\n",
            "   </movie>\n",
            "   <movie favorite=\"False\" title=\"Reservoir Dogs\">\n",
            "    <format multiple=\"No\">\n",
            "     Online\n",
            "    </format>\n",
            "    <year>\n",
            "     1992\n",
            "    </year>\n",
            "    <rating>\n",
            "     R\n",
            "    </rating>\n",
            "    <description>\n",
            "     WhAtEvER I Want!!!?!\n",
            "    </description>\n",
            "   </movie>\n",
            "  </decade>\n",
            " </genre>\n",
            " <genre category=\"Thriller\">\n",
            "  <decade years=\"1970s\">\n",
            "   <movie favorite=\"False\" title=\"ALIEN\">\n",
            "    <format multiple=\"Yes\">\n",
            "     DVD\n",
            "    </format>\n",
            "    <year>\n",
            "     1979\n",
            "    </year>\n",
            "    <rating>\n",
            "     R\n",
            "    </rating>\n",
            "    <description>\n",
            "     \"\"\"\"\"\"\"\"\"\n",
            "    </description>\n",
            "   </movie>\n",
            "  </decade>\n",
            "  <decade years=\"1980s\">\n",
            "   <movie favorite=\"True\" title=\"Ferris Bueller's Day Off\">\n",
            "    <format multiple=\"No\">\n",
            "     DVD\n",
            "    </format>\n",
            "    <year>\n",
            "     1986\n",
            "    </year>\n",
            "    <rating>\n",
            "     PG13\n",
            "    </rating>\n",
            "    <description>\n",
            "     Funny movie about a funny guy\n",
            "    </description>\n",
            "   </movie>\n",
            "   <movie favorite=\"FALSE\" title=\"American Psycho\">\n",
            "    <format multiple=\"No\">\n",
            "     blue-ray\n",
            "    </format>\n",
            "    <year>\n",
            "     2000\n",
            "    </year>\n",
            "    <rating>\n",
            "     Unrated\n",
            "    </rating>\n",
            "    <description>\n",
            "     psychopathic Bateman\n",
            "    </description>\n",
            "   </movie>\n",
            "  </decade>\n",
            " </genre>\n",
            " <genre category=\"Comedy\">\n",
            "  <decade years=\"1960s\">\n",
            "   <movie favorite=\"False\" title=\"Batman: The Movie\">\n",
            "    <format multiple=\"Yes\">\n",
            "     DVD,VHS\n",
            "    </format>\n",
            "    <year>\n",
            "     1966\n",
            "    </year>\n",
            "    <rating>\n",
            "     PG\n",
            "    </rating>\n",
            "    <description>\n",
            "     What a joke!\n",
            "    </description>\n",
            "   </movie>\n",
            "  </decade>\n",
            "  <decade years=\"2010s\">\n",
            "   <movie favorite=\"True\" title=\"Easy A\">\n",
            "    <format multiple=\"No\">\n",
            "     DVD\n",
            "    </format>\n",
            "    <year>\n",
            "     2010\n",
            "    </year>\n",
            "    <rating>\n",
            "     PG--13\n",
            "    </rating>\n",
            "    <description>\n",
            "     Emma Stone = Hester Prynne\n",
            "    </description>\n",
            "   </movie>\n",
            "   <movie favorite=\"True\" title=\"Dinner for SCHMUCKS\">\n",
            "    <format multiple=\"Yes\">\n",
            "     DVD,digital,Netflix\n",
            "    </format>\n",
            "    <year>\n",
            "     2011\n",
            "    </year>\n",
            "    <rating>\n",
            "     Unrated\n",
            "    </rating>\n",
            "    <description>\n",
            "     Tim (Rudd) is a rising executive\n",
            "                 who “succeeds” in finding the perfect guest, \n",
            "                 IRS employee Barry (Carell), for his boss’ monthly event, \n",
            "                 a so-called “dinner for idiots,” which offers certain \n",
            "                 advantages to the exec who shows up with the biggest buffoon.\n",
            "    </description>\n",
            "   </movie>\n",
            "  </decade>\n",
            "  <decade years=\"1980s\">\n",
            "   <movie favorite=\"False\" title=\"Ghostbusters\">\n",
            "    <format multiple=\"No\">\n",
            "     Online,VHS\n",
            "    </format>\n",
            "    <year>\n",
            "     1984\n",
            "    </year>\n",
            "    <rating>\n",
            "     PG\n",
            "    </rating>\n",
            "    <description>\n",
            "     Who ya gonna call?\n",
            "    </description>\n",
            "   </movie>\n",
            "  </decade>\n",
            "  <decade years=\"1990s\">\n",
            "   <movie favorite=\"True\" title=\"Robin Hood: Prince of Thieves\">\n",
            "    <format multiple=\"No\">\n",
            "     Blu_Ray\n",
            "    </format>\n",
            "    <year>\n",
            "     1991\n",
            "    </year>\n",
            "    <rating>\n",
            "     Unknown\n",
            "    </rating>\n",
            "    <description>\n",
            "     Robin Hood slaying\n",
            "    </description>\n",
            "   </movie>\n",
            "  </decade>\n",
            " </genre>\n",
            "</collection>\n"
          ]
        }
      ]
    },
    {
      "cell_type": "markdown",
      "source": [
        "From what you have read above, you see that\n",
        "\n",
        "- `<collection>` is the single root element: it contains all the other elements, such as `<genre>`, or `<movie>`, which are the child elements or subelements. As you can see, these elements are nested.\n",
        "\n",
        "**Note** that these child elements can also act as parents and contain their own child elements, which are then called \"sub-child elements\".\n",
        "\n",
        "- You'll see that, for example, the `<movie>` element contains a couple of \"attributes\", such as `favorite` or `title` that give even more information!"
      ],
      "metadata": {
        "id": "H5-yUHcj-GQj"
      }
    },
    {
      "cell_type": "markdown",
      "source": [
        "We can use `BeautifulSoup` to retrieve some simple information, just like what we did with web scraping.\n",
        "\n",
        "For instance if we want all the `titles` of `movies`:\n",
        "- `<movie>` are tags, so we can use `find_all()`;\n",
        "- `title` is an attribute in each `<movie>`, so the `get()` method can be used."
      ],
      "metadata": {
        "id": "NgW69j3b6P4K"
      }
    },
    {
      "cell_type": "code",
      "source": [
        "titles = [movie.get(\"title\") for movie in soup.find_all(\"movie\")]\n",
        "titles"
      ],
      "metadata": {
        "colab": {
          "base_uri": "https://localhost:8080/"
        },
        "id": "xupeVCTF6FwW",
        "outputId": "9bee1423-da34-4ba6-c918-cb63835c9567"
      },
      "execution_count": null,
      "outputs": [
        {
          "output_type": "execute_result",
          "data": {
            "text/plain": [
              "['Indiana Jones: The raiders of the lost Ark',\n",
              " 'THE KARATE KID',\n",
              " 'Back 2 the Future',\n",
              " 'X-Men',\n",
              " 'Batman Returns',\n",
              " 'Reservoir Dogs',\n",
              " 'ALIEN',\n",
              " \"Ferris Bueller's Day Off\",\n",
              " 'American Psycho',\n",
              " 'Batman: The Movie',\n",
              " 'Easy A',\n",
              " 'Dinner for SCHMUCKS',\n",
              " 'Ghostbusters',\n",
              " 'Robin Hood: Prince of Thieves']"
            ]
          },
          "metadata": {},
          "execution_count": 26
        }
      ]
    },
    {
      "cell_type": "markdown",
      "source": [
        "### DO IT YOURSELF\n",
        "\n",
        "How about get the `year` of each `<movie>`?"
      ],
      "metadata": {
        "id": "D8KHqquf7j0g"
      }
    },
    {
      "cell_type": "code",
      "source": [
        "#### Must print each movie's release year in a list\n",
        "years = [y.text for y in soup.find_all('year')] #Get the text in all year tags\n",
        "\n",
        "moviedict = dict(zip(titles, years)) #Just practice. Combines two list into dict\n",
        "\n",
        "# soup.find_all('year') This print the years with the tags. Not quite what we want.\n",
        "\n",
        "moviedict"
      ],
      "metadata": {
        "id": "UdeEFw9e685O",
        "colab": {
          "base_uri": "https://localhost:8080/"
        },
        "outputId": "71a10c3d-7c08-417f-a69a-8d77cb2e92a0"
      },
      "execution_count": null,
      "outputs": [
        {
          "output_type": "execute_result",
          "data": {
            "text/plain": [
              "{'Indiana Jones: The raiders of the lost Ark': '1981',\n",
              " 'THE KARATE KID': '1984',\n",
              " 'Back 2 the Future': '1985',\n",
              " 'X-Men': '2000',\n",
              " 'Batman Returns': '1992',\n",
              " 'Reservoir Dogs': '1992',\n",
              " 'ALIEN': '1979',\n",
              " \"Ferris Bueller's Day Off\": '1986',\n",
              " 'American Psycho': '2000',\n",
              " 'Batman: The Movie': '1966',\n",
              " 'Easy A': '2010',\n",
              " 'Dinner for SCHMUCKS': '2011',\n",
              " 'Ghostbusters': '1984',\n",
              " 'Robin Hood: Prince of Thieves': '1991'}"
            ]
          },
          "metadata": {},
          "execution_count": 38
        }
      ]
    },
    {
      "cell_type": "code",
      "source": [
        "#@title Solution\n",
        "years = [movie.year.text for movie in soup.find_all(\"movie\")]\n",
        "years"
      ],
      "metadata": {
        "colab": {
          "base_uri": "https://localhost:8080/"
        },
        "id": "X7kihByw76sn",
        "outputId": "e522ea6c-3b2b-4fc1-8d43-010931fa5117"
      },
      "execution_count": null,
      "outputs": [
        {
          "output_type": "execute_result",
          "data": {
            "text/plain": [
              "['1981',\n",
              " '1984',\n",
              " '1985',\n",
              " '2000',\n",
              " '1992',\n",
              " '1992',\n",
              " '1979',\n",
              " '1986',\n",
              " '2000',\n",
              " '1966',\n",
              " '2010',\n",
              " '2011',\n",
              " '1984',\n",
              " '1991']"
            ]
          },
          "metadata": {},
          "execution_count": 39
        }
      ]
    },
    {
      "cell_type": "markdown",
      "source": [
        "Now we can create a dict of movies and the respective release years."
      ],
      "metadata": {
        "id": "PKgTTYF_8JJY"
      }
    },
    {
      "cell_type": "code",
      "source": [
        "#### use try-except to control if we missed titles or years\n",
        "try:\n",
        "  assert len(titles) == len(years)\n",
        "  movie_years = dict(zip(titles, years))\n",
        "except:\n",
        "  print(\"There are {} movie titles but {} year values\".format(len(titles), len(years)))\n",
        "  raise(ValueError(\"titles and years have different length!\"))\n",
        "movie_years"
      ],
      "metadata": {
        "colab": {
          "base_uri": "https://localhost:8080/"
        },
        "id": "0MsXgHR18I6z",
        "outputId": "6fafc036-c84a-4a94-9cf2-89d66bbc6b3b"
      },
      "execution_count": null,
      "outputs": [
        {
          "output_type": "execute_result",
          "data": {
            "text/plain": [
              "{'Indiana Jones: The raiders of the lost Ark': '1981',\n",
              " 'THE KARATE KID': '1984',\n",
              " 'Back 2 the Future': '1985',\n",
              " 'X-Men': '2000',\n",
              " 'Batman Returns': '1992',\n",
              " 'Reservoir Dogs': '1992',\n",
              " 'ALIEN': '1979',\n",
              " \"Ferris Bueller's Day Off\": '1986',\n",
              " 'American Psycho': '2000',\n",
              " 'Batman: The Movie': '1966',\n",
              " 'Easy A': '2010',\n",
              " 'Dinner for SCHMUCKS': '2011',\n",
              " 'Ghostbusters': '1984',\n",
              " 'Robin Hood: Prince of Thieves': '1991'}"
            ]
          },
          "metadata": {},
          "execution_count": 48
        }
      ]
    },
    {
      "cell_type": "markdown",
      "source": [
        "We can see `BeautifulSoup` is capable of capturing these information we requested. However, if the logic is more complicated, `BeautifulSoup` cannot handle it. That's why we need the native `ElementTree` package."
      ],
      "metadata": {
        "id": "tJOukzyH9ZGl"
      }
    },
    {
      "cell_type": "markdown",
      "source": [
        "## Read XML using `ElementTree`\n",
        "\n",
        "In the XML file provided, there is a basic collection of movies described. The only problem is the data is a mess! There have been a lot of different curators of this collection and everyone has their own way of entering data into the file. The main goal in this tutorial will be to read and understand the file with Python - then fix the problems.\n"
      ],
      "metadata": {
        "id": "Z9nGfj279w_B"
      }
    },
    {
      "cell_type": "code",
      "source": [
        "import xml.etree.ElementTree as ET"
      ],
      "metadata": {
        "id": "z-Cq8tGp8Di0"
      },
      "execution_count": null,
      "outputs": []
    },
    {
      "cell_type": "markdown",
      "source": [
        "It will be easier to download the XML document to local."
      ],
      "metadata": {
        "id": "yyNmTJl8_yNg"
      }
    },
    {
      "cell_type": "code",
      "source": [
        "!wget \"https://raw.githubusercontent.com/DrJieTao/ba505-docs/master/data/movies.xml\" ./movies.xml"
      ],
      "metadata": {
        "colab": {
          "base_uri": "https://localhost:8080/"
        },
        "id": "4uHNzntE_S7z",
        "outputId": "5f4ffec3-88e8-4a46-d0dc-328195a13050"
      },
      "execution_count": null,
      "outputs": [
        {
          "output_type": "stream",
          "name": "stdout",
          "text": [
            "--2022-10-04 01:43:50--  https://raw.githubusercontent.com/DrJieTao/ba505-docs/master/data/movies.xml\n",
            "Resolving raw.githubusercontent.com (raw.githubusercontent.com)... 185.199.108.133, 185.199.109.133, 185.199.110.133, ...\n",
            "Connecting to raw.githubusercontent.com (raw.githubusercontent.com)|185.199.108.133|:443... connected.\n",
            "HTTP request sent, awaiting response... 200 OK\n",
            "Length: 5025 (4.9K) [text/plain]\n",
            "Saving to: ‘movies.xml’\n",
            "\n",
            "\rmovies.xml            0%[                    ]       0  --.-KB/s               \rmovies.xml          100%[===================>]   4.91K  --.-KB/s    in 0s      \n",
            "\n",
            "2022-10-04 01:43:50 (40.3 MB/s) - ‘movies.xml’ saved [5025/5025]\n",
            "\n",
            "--2022-10-04 01:43:50--  http://./movies.xml\n",
            "Resolving . (.)... failed: No address associated with hostname.\n",
            "wget: unable to resolve host address ‘.’\n",
            "FINISHED --2022-10-04 01:43:50--\n",
            "Total wall clock time: 0.2s\n",
            "Downloaded: 1 files, 4.9K in 0s (40.3 MB/s)\n"
          ]
        }
      ]
    },
    {
      "cell_type": "code",
      "source": [
        "tree = ET.parse(\"./movies.xml\")\n",
        "root = tree.getroot()\n",
        "root"
      ],
      "metadata": {
        "colab": {
          "base_uri": "https://localhost:8080/",
          "height": 347
        },
        "id": "oW6lbB91-tGP",
        "outputId": "9c428c6c-885a-408c-8ab5-f4377d270992"
      },
      "execution_count": null,
      "outputs": [
        {
          "output_type": "error",
          "ename": "ParseError",
          "evalue": "ignored",
          "traceback": [
            "Traceback \u001b[0;36m(most recent call last)\u001b[0m:\n",
            "  File \u001b[1;32m\"/usr/local/lib/python3.7/dist-packages/IPython/core/interactiveshell.py\"\u001b[0m, line \u001b[1;32m3326\u001b[0m, in \u001b[1;35mrun_code\u001b[0m\n    exec(code_obj, self.user_global_ns, self.user_ns)\n",
            "  File \u001b[1;32m\"<ipython-input-10-b6eb09ce6440>\"\u001b[0m, line \u001b[1;32m1\u001b[0m, in \u001b[1;35m<module>\u001b[0m\n    tree = ET.parse(\"./movies.xml\")\n",
            "  File \u001b[1;32m\"/usr/lib/python3.7/xml/etree/ElementTree.py\"\u001b[0m, line \u001b[1;32m1197\u001b[0m, in \u001b[1;35mparse\u001b[0m\n    tree.parse(source, parser)\n",
            "\u001b[0;36m  File \u001b[0;32m\"/usr/lib/python3.7/xml/etree/ElementTree.py\"\u001b[0;36m, line \u001b[0;32m598\u001b[0;36m, in \u001b[0;35mparse\u001b[0;36m\u001b[0m\n\u001b[0;31m    self._root = parser._parse_whole(source)\u001b[0m\n",
            "\u001b[0;36m  File \u001b[0;32m\"<string>\"\u001b[0;36m, line \u001b[0;32munknown\u001b[0m\n\u001b[0;31mParseError\u001b[0m\u001b[0;31m:\u001b[0m not well-formed (invalid token): line 97, column 21\n"
          ]
        }
      ]
    },
    {
      "cell_type": "markdown",
      "source": [
        "Alternatively, you can read it from the `response` object we created before, using the `fromstring()` method."
      ],
      "metadata": {
        "id": "xhTqWpEPCcyq"
      }
    },
    {
      "cell_type": "code",
      "source": [
        "# from xml.etree.ElementTree import fromstring, ElementTree\n",
        "tree = ET.ElementTree(ET.fromstring(response.content, parser = ET.XMLParser(encoding = 'iso-8859-5')))\n",
        "root = tree.getroot()\n",
        "root"
      ],
      "metadata": {
        "colab": {
          "base_uri": "https://localhost:8080/"
        },
        "id": "PYOwJg8E-wGe",
        "outputId": "64e62f85-e1c3-488c-e7e6-deebe454c9d3"
      },
      "execution_count": null,
      "outputs": [
        {
          "output_type": "execute_result",
          "data": {
            "text/plain": [
              "<Element 'collection' at 0x7fbcb8814170>"
            ]
          },
          "metadata": {},
          "execution_count": 9
        }
      ]
    },
    {
      "cell_type": "markdown",
      "source": [
        "We can investigate more on `root`."
      ],
      "metadata": {
        "id": "CdMlWcXH2L2M"
      }
    },
    {
      "cell_type": "code",
      "source": [
        "root.tag"
      ],
      "metadata": {
        "colab": {
          "base_uri": "https://localhost:8080/",
          "height": 35
        },
        "id": "XXsBX2R0BNrJ",
        "outputId": "9fc6b423-e08f-4f09-9a53-039357ea9dbd"
      },
      "execution_count": null,
      "outputs": [
        {
          "output_type": "execute_result",
          "data": {
            "text/plain": [
              "'collection'"
            ],
            "application/vnd.google.colaboratory.intrinsic+json": {
              "type": "string"
            }
          },
          "metadata": {},
          "execution_count": 15
        }
      ]
    },
    {
      "cell_type": "code",
      "source": [
        "root.attrib"
      ],
      "metadata": {
        "colab": {
          "base_uri": "https://localhost:8080/"
        },
        "id": "scCKlxS82P6L",
        "outputId": "bbf0550c-c908-442b-bce2-c92d353fa281"
      },
      "execution_count": null,
      "outputs": [
        {
          "output_type": "execute_result",
          "data": {
            "text/plain": [
              "{}"
            ]
          },
          "metadata": {},
          "execution_count": 16
        }
      ]
    },
    {
      "cell_type": "code",
      "source": [
        "root.text"
      ],
      "metadata": {
        "colab": {
          "base_uri": "https://localhost:8080/",
          "height": 35
        },
        "id": "FNdAGa0x2Rkz",
        "outputId": "ac3adbe6-5a55-4989-fb33-4a30951693ca"
      },
      "execution_count": null,
      "outputs": [
        {
          "output_type": "execute_result",
          "data": {
            "text/plain": [
              "'\\n    '"
            ],
            "application/vnd.google.colaboratory.intrinsic+json": {
              "type": "string"
            }
          },
          "metadata": {},
          "execution_count": 17
        }
      ]
    },
    {
      "cell_type": "markdown",
      "source": [
        "### Exploring the XML Document\n",
        "\n",
        "If you do not know the specific tag you want to search for, it never hurts to look at the _children_ of `root`."
      ],
      "metadata": {
        "id": "WQdIkBQP2YXA"
      }
    },
    {
      "cell_type": "code",
      "source": [
        "for child in root:\n",
        "    print(child.tag, child.attrib)"
      ],
      "metadata": {
        "colab": {
          "base_uri": "https://localhost:8080/"
        },
        "id": "xErD8Snj2S8Z",
        "outputId": "2c21108c-553c-4c0d-c414-8bea379a7408"
      },
      "execution_count": null,
      "outputs": [
        {
          "output_type": "stream",
          "name": "stdout",
          "text": [
            "genre {'category': 'Action'}\n",
            "genre {'category': 'Thriller'}\n",
            "genre {'category': 'Comedy'}\n"
          ]
        }
      ]
    },
    {
      "cell_type": "markdown",
      "source": [
        "Now you know that the children of the __root__ `collection` are all `genre`. To designate the `genre`, the XML uses the **attribute** `category`. There are `Action`, `Thriller`, and `Comedy` movies according the `genre` element.\n",
        "\n",
        "Typically it is helpful to know all the elements in the **entire tree**. One useful function for doing that is `root.iter()`. You can put this function into a `for` loop and it will iterate over the entire tree.\n",
        "\n",
        "__NOTE__:\n",
        "1. When you use `root.iter()`, it **flattens** the tree structure - so no more children and grandchildren;\n",
        "2. You should always considering doing this using list/dict comprehension.\n",
        "\n"
      ],
      "metadata": {
        "id": "fiSV0mmG2030"
      }
    },
    {
      "cell_type": "code",
      "source": [
        "[elem.tag for elem in root.iter()]"
      ],
      "metadata": {
        "colab": {
          "base_uri": "https://localhost:8080/"
        },
        "id": "-yVa0Fak2tBp",
        "outputId": "654da9bd-1f66-4b5c-d0ba-b08e2a34ebd0"
      },
      "execution_count": null,
      "outputs": [
        {
          "output_type": "execute_result",
          "data": {
            "text/plain": [
              "['collection',\n",
              " 'genre',\n",
              " 'decade',\n",
              " 'movie',\n",
              " 'format',\n",
              " 'year',\n",
              " 'rating',\n",
              " 'description',\n",
              " 'movie',\n",
              " 'format',\n",
              " 'year',\n",
              " 'rating',\n",
              " 'description',\n",
              " 'movie',\n",
              " 'format',\n",
              " 'year',\n",
              " 'rating',\n",
              " 'description',\n",
              " 'decade',\n",
              " 'movie',\n",
              " 'format',\n",
              " 'year',\n",
              " 'rating',\n",
              " 'description',\n",
              " 'movie',\n",
              " 'format',\n",
              " 'year',\n",
              " 'rating',\n",
              " 'description',\n",
              " 'movie',\n",
              " 'format',\n",
              " 'year',\n",
              " 'rating',\n",
              " 'description',\n",
              " 'genre',\n",
              " 'decade',\n",
              " 'movie',\n",
              " 'format',\n",
              " 'year',\n",
              " 'rating',\n",
              " 'description',\n",
              " 'decade',\n",
              " 'movie',\n",
              " 'format',\n",
              " 'year',\n",
              " 'rating',\n",
              " 'description',\n",
              " 'movie',\n",
              " 'format',\n",
              " 'year',\n",
              " 'rating',\n",
              " 'description',\n",
              " 'genre',\n",
              " 'decade',\n",
              " 'movie',\n",
              " 'format',\n",
              " 'year',\n",
              " 'rating',\n",
              " 'description',\n",
              " 'decade',\n",
              " 'movie',\n",
              " 'format',\n",
              " 'year',\n",
              " 'rating',\n",
              " 'description',\n",
              " 'movie',\n",
              " 'format',\n",
              " 'year',\n",
              " 'rating',\n",
              " 'description',\n",
              " 'decade',\n",
              " 'movie',\n",
              " 'format',\n",
              " 'year',\n",
              " 'rating',\n",
              " 'description',\n",
              " 'decade',\n",
              " 'movie',\n",
              " 'format',\n",
              " 'year',\n",
              " 'rating',\n",
              " 'description']"
            ]
          },
          "metadata": {},
          "execution_count": 40
        }
      ]
    },
    {
      "cell_type": "markdown",
      "source": [
        "This gives a general notion for how many elements you have, but it does not show the **attributes** or **levels** in the tree.\n",
        "\n",
        "There is a helpful way to see the whole document. Any element has a `.tostring()` method. If you pass the root into the `.tostring()` method, you can return the whole document. Within `ElementTree`, `.tostring()` takes a slightly strange form.\n",
        "\n",
        "Since `ElementTree` is a powerful library that can interpret more than just XML, you must specify both the encoding and decoding of the document you are displaying as the string. For XMLs, use `'utf8'` - this is the typical encoding standard for an XML.\n",
        "\n",
        "__NOTE__: for other languages, other encoding standard can be used. Refer to the web scraping lesson for more details on this."
      ],
      "metadata": {
        "id": "vB7qiUnm3k-B"
      }
    },
    {
      "cell_type": "code",
      "source": [
        "print(ET.tostring(root, encoding='utf8').decode('utf8'))"
      ],
      "metadata": {
        "colab": {
          "base_uri": "https://localhost:8080/"
        },
        "id": "abdkc60r3azm",
        "outputId": "de84f0f2-b0bf-4718-f299-6ac66cabafbf"
      },
      "execution_count": null,
      "outputs": [
        {
          "output_type": "stream",
          "name": "stdout",
          "text": [
            "<?xml version='1.0' encoding='utf8'?>\n",
            "<collection>\n",
            "    <genre category=\"Action\">\n",
            "        <decade years=\"1980s\">\n",
            "            <movie favorite=\"True\" title=\"Indiana Jones: The raiders of the lost Ark\">\n",
            "                <format multiple=\"No\">DVD</format>\n",
            "                <year>1981</year>\n",
            "                <rating>PG</rating>\n",
            "                <description>\n",
            "                'Archaeologist and adventurer Indiana Jones \n",
            "                is hired by the U.S. government to find the Ark of the \n",
            "                Covenant before the Nazis.'\n",
            "                </description>\n",
            "            </movie>\n",
            "               <movie favorite=\"True\" title=\"THE KARATE KID\">\n",
            "               <format multiple=\"Yes\">DVD,Online</format>\n",
            "               <year>1984</year>\n",
            "               <rating>PG</rating>\n",
            "               <description>None provided.</description>\n",
            "            </movie>\n",
            "            <movie favorite=\"False\" title=\"Back 2 the Future\">\n",
            "               <format multiple=\"False\">Blu-ray</format>\n",
            "               <year>1985</year>\n",
            "               <rating>PG</rating>\n",
            "               <description>Marty McFly</description>\n",
            "            </movie>\n",
            "        </decade>\n",
            "        <decade years=\"1990s\">\n",
            "            <movie favorite=\"False\" title=\"X-Men\">\n",
            "               <format multiple=\"Yes\">dvd, digital</format>\n",
            "               <year>2000</year>\n",
            "               <rating>PG-13</rating>\n",
            "               <description>Two mutants come to a private academy for their kind whose resident superhero team must \n",
            "               oppose a terrorist organization with similar powers.</description>\n",
            "            </movie>\n",
            "            <movie favorite=\"True\" title=\"Batman Returns\">\n",
            "               <format multiple=\"No\">VHS</format>\n",
            "               <year>1992</year>\n",
            "               <rating>PG13</rating>\n",
            "               <description>NA.</description>\n",
            "            </movie>\n",
            "               <movie favorite=\"False\" title=\"Reservoir Dogs\">\n",
            "               <format multiple=\"No\">Online</format>\n",
            "               <year>1992</year>\n",
            "               <rating>R</rating>\n",
            "               <description>WhAtEvER I Want!!!?!</description>\n",
            "            </movie>\n",
            "        </decade>    \n",
            "    </genre>\n",
            "\n",
            "    <genre category=\"Thriller\">\n",
            "        <decade years=\"1970s\">\n",
            "            <movie favorite=\"False\" title=\"ALIEN\">\n",
            "                <format multiple=\"Yes\">DVD</format>\n",
            "                <year>1979</year>\n",
            "                <rating>R</rating>\n",
            "                <description>\"\"\"\"\"\"\"\"\"</description>\n",
            "            </movie>\n",
            "        </decade>\n",
            "        <decade years=\"1980s\">\n",
            "            <movie favorite=\"True\" title=\"Ferris Bueller's Day Off\">\n",
            "                <format multiple=\"No\">DVD</format>\n",
            "                <year>1986</year>\n",
            "                <rating>PG13</rating>\n",
            "                <description>Funny movie about a funny guy</description>\n",
            "            </movie>\n",
            "            <movie favorite=\"FALSE\" title=\"American Psycho\">\n",
            "                <format multiple=\"No\">blue-ray</format>\n",
            "                <year>2000</year>\n",
            "                <rating>Unrated</rating>\n",
            "                <description>psychopathic Bateman</description>\n",
            "            </movie>\n",
            "        </decade>\n",
            "    </genre>\n",
            "\n",
            "    <genre category=\"Comedy\">\n",
            "        <decade years=\"1960s\">\n",
            "            <movie favorite=\"False\" title=\"Batman: The Movie\">\n",
            "                <format multiple=\"Yes\">DVD,VHS</format>\n",
            "                <year>1966</year>\n",
            "                <rating>PG</rating>\n",
            "                <description>What a joke!</description>\n",
            "            </movie>\n",
            "        </decade>\n",
            "        <decade years=\"2010s\">\n",
            "            <movie favorite=\"True\" title=\"Easy A\">\n",
            "                <format multiple=\"No\">DVD</format>\n",
            "                <year>2010</year>\n",
            "                <rating>PG--13</rating>\n",
            "                <description>Emma Stone = Hester Prynne</description>\n",
            "            </movie>\n",
            "            <movie favorite=\"True\" title=\"Dinner for SCHMUCKS\">\n",
            "                <format multiple=\"Yes\">DVD,digital,Netflix</format>\n",
            "                <year>2011</year>\n",
            "                <rating>Unrated</rating>\n",
            "                <description>Tim (Rudd) is a rising executive\n",
            "                 who тsucceedsт in finding the perfect guest, \n",
            "                 IRS employee Barry (Carell), for his bossт monthly event, \n",
            "                 a so-called тdinner for idiots,т which offers certain \n",
            "                 advantages to the exec who shows up with the biggest buffoon.\n",
            "                 </description>\n",
            "            </movie>\n",
            "        </decade>\n",
            "        <decade years=\"1980s\">\n",
            "            <movie favorite=\"False\" title=\"Ghostbusters\">\n",
            "                <format multiple=\"No\">Online,VHS</format>\n",
            "                <year>1984</year>\n",
            "                <rating>PG</rating>\n",
            "                <description>Who ya gonna call?</description>\n",
            "            </movie>\n",
            "        </decade>\n",
            "        <decade years=\"1990s\">\n",
            "            <movie favorite=\"True\" title=\"Robin Hood: Prince of Thieves\">\n",
            "                <format multiple=\"No\">Blu_Ray</format>\n",
            "                <year>1991</year>\n",
            "                <rating>Unknown</rating>\n",
            "                <description>Robin Hood slaying</description>\n",
            "            </movie>\n",
            "        </decade>\n",
            "    </genre>\n",
            "</collection>\n"
          ]
        }
      ]
    },
    {
      "cell_type": "code",
      "source": [
        "#More practice this time with ratings\n",
        "\n",
        "ratings = [rating.text for rating in soup.find_all('rating')]\n",
        "\n",
        "dict(zip(titles, ratings))"
      ],
      "metadata": {
        "colab": {
          "base_uri": "https://localhost:8080/"
        },
        "id": "3h5FUlVNeQx0",
        "outputId": "96b6e78b-28e4-4f9c-dee2-28ddf21d2fdf"
      },
      "execution_count": null,
      "outputs": [
        {
          "output_type": "execute_result",
          "data": {
            "text/plain": [
              "{'Indiana Jones: The raiders of the lost Ark': 'PG',\n",
              " 'THE KARATE KID': 'PG',\n",
              " 'Back 2 the Future': 'PG',\n",
              " 'X-Men': 'PG-13',\n",
              " 'Batman Returns': 'PG13',\n",
              " 'Reservoir Dogs': 'R',\n",
              " 'ALIEN': 'R',\n",
              " \"Ferris Bueller's Day Off\": 'PG13',\n",
              " 'American Psycho': 'Unrated',\n",
              " 'Batman: The Movie': 'PG',\n",
              " 'Easy A': 'PG--13',\n",
              " 'Dinner for SCHMUCKS': 'Unrated',\n",
              " 'Ghostbusters': 'PG',\n",
              " 'Robin Hood: Prince of Thieves': 'Unknown'}"
            ]
          },
          "metadata": {},
          "execution_count": 63
        }
      ]
    },
    {
      "cell_type": "markdown",
      "source": [
        "### Investigating Specific Elements\n",
        "\n",
        "You can expand the use of the iter() function to help with finding particular elements of interest. `root.iter()` will list all subelements under the root that match the element specified. Here, you will list all attributes of the `movie` element in the tree:"
      ],
      "metadata": {
        "id": "vKeN6zMM4Cnd"
      }
    },
    {
      "cell_type": "code",
      "source": [
        "#### put the tag (\"movie\") in root.iter()\n",
        "#### .attrib gives you all the attributes for a given tag\n",
        "all_movies = [movie.attrib for movie in root.iter(\"movie\")]\n",
        "all_movies"
      ],
      "metadata": {
        "colab": {
          "base_uri": "https://localhost:8080/"
        },
        "id": "l_Ud4R2F39Qs",
        "outputId": "51d78ff9-02f1-4a22-c903-13b6c5588cd5"
      },
      "execution_count": null,
      "outputs": [
        {
          "output_type": "execute_result",
          "data": {
            "text/plain": [
              "[{'favorite': 'True', 'title': 'Indiana Jones: The raiders of the lost Ark'},\n",
              " {'favorite': 'True', 'title': 'THE KARATE KID'},\n",
              " {'favorite': 'False', 'title': 'Back 2 the Future'},\n",
              " {'favorite': 'False', 'title': 'X-Men'},\n",
              " {'favorite': 'True', 'title': 'Batman Returns'},\n",
              " {'favorite': 'False', 'title': 'Reservoir Dogs'},\n",
              " {'favorite': 'False', 'title': 'ALIEN'},\n",
              " {'favorite': 'True', 'title': \"Ferris Bueller's Day Off\"},\n",
              " {'favorite': 'FALSE', 'title': 'American Psycho'},\n",
              " {'favorite': 'False', 'title': 'Batman: The Movie'},\n",
              " {'favorite': 'True', 'title': 'Easy A'},\n",
              " {'favorite': 'True', 'title': 'Dinner for SCHMUCKS'},\n",
              " {'favorite': 'False', 'title': 'Ghostbusters'},\n",
              " {'favorite': 'True', 'title': 'Robin Hood: Prince of Thieves'}]"
            ]
          },
          "metadata": {},
          "execution_count": 16
        }
      ]
    },
    {
      "cell_type": "markdown",
      "source": [
        "Many times elements will not have attributes, they will only have text content. Using the attribute `.text`, you can retrieve them.\n",
        "\n",
        "For instance, to get all the descriptions of the movies."
      ],
      "metadata": {
        "id": "k5m9e7mS42QQ"
      }
    },
    {
      "cell_type": "code",
      "source": [
        "all_descs = [description.text for description in root.iter('description')]\n",
        "all_descs"
      ],
      "metadata": {
        "colab": {
          "base_uri": "https://localhost:8080/"
        },
        "id": "U_J3CQTr41yj",
        "outputId": "7783b800-305b-479b-a69a-827e500608e2"
      },
      "execution_count": null,
      "outputs": [
        {
          "output_type": "execute_result",
          "data": {
            "text/plain": [
              "[\"\\n                'Archaeologist and adventurer Indiana Jones \\n                is hired by the U.S. government to find the Ark of the \\n                Covenant before the Nazis.'\\n                \",\n",
              " 'None provided.',\n",
              " 'Marty McFly',\n",
              " 'Two mutants come to a private academy for their kind whose resident superhero team must \\n               oppose a terrorist organization with similar powers.',\n",
              " 'NA.',\n",
              " 'WhAtEvER I Want!!!?!',\n",
              " '\"\"\"\"\"\"\"\"\"',\n",
              " 'Funny movie about a funny guy',\n",
              " 'psychopathic Bateman',\n",
              " 'What a joke!',\n",
              " 'Emma Stone = Hester Prynne',\n",
              " 'Tim (Rudd) is a rising executive\\n                 who т\\x80\\x9csucceedsт\\x80\\x9d in finding the perfect guest, \\n                 IRS employee Barry (Carell), for his bossт\\x80\\x99 monthly event, \\n                 a so-called т\\x80\\x9cdinner for idiots,т\\x80\\x9d which offers certain \\n                 advantages to the exec who shows up with the biggest buffoon.\\n                 ',\n",
              " 'Who ya gonna call?',\n",
              " 'Robin Hood slaying']"
            ]
          },
          "metadata": {},
          "execution_count": 25
        }
      ]
    },
    {
      "cell_type": "markdown",
      "source": [
        "We can even add the descriptions from `all_descs` to `all_movies`."
      ],
      "metadata": {
        "id": "IImS7H-d5iPP"
      }
    },
    {
      "cell_type": "code",
      "source": [
        "try:\n",
        "  assert len(all_descs) == len(all_movies)\n",
        "  for i, desc in enumerate(all_descs):\n",
        "    all_movies[i][\"description\"] = desc\n",
        "except:\n",
        "  # raise(ValueError())\n",
        "  print(\"{} descriptions for {} movies, mismatch\".format(len(all_descs), len(all_movies)))\n",
        "all_movies"
      ],
      "metadata": {
        "colab": {
          "base_uri": "https://localhost:8080/"
        },
        "id": "MjL_njY94VTK",
        "outputId": "7aac4053-7352-4263-984f-05f48a62a151"
      },
      "execution_count": null,
      "outputs": [
        {
          "output_type": "execute_result",
          "data": {
            "text/plain": [
              "[{'description': \"\\n                'Archaeologist and adventurer Indiana Jones \\n                is hired by the U.S. government to find the Ark of the \\n                Covenant before the Nazis.'\\n                \",\n",
              "  'favorite': 'True',\n",
              "  'title': 'Indiana Jones: The raiders of the lost Ark'},\n",
              " {'description': 'None provided.',\n",
              "  'favorite': 'True',\n",
              "  'title': 'THE KARATE KID'},\n",
              " {'description': 'Marty McFly',\n",
              "  'favorite': 'False',\n",
              "  'title': 'Back 2 the Future'},\n",
              " {'description': 'Two mutants come to a private academy for their kind whose resident superhero team must \\n               oppose a terrorist organization with similar powers.',\n",
              "  'favorite': 'False',\n",
              "  'title': 'X-Men'},\n",
              " {'description': 'NA.', 'favorite': 'True', 'title': 'Batman Returns'},\n",
              " {'description': 'WhAtEvER I Want!!!?!',\n",
              "  'favorite': 'False',\n",
              "  'title': 'Reservoir Dogs'},\n",
              " {'description': '\"\"\"\"\"\"\"\"\"', 'favorite': 'False', 'title': 'ALIEN'},\n",
              " {'description': 'Funny movie about a funny guy',\n",
              "  'favorite': 'True',\n",
              "  'title': \"Ferris Bueller's Day Off\"},\n",
              " {'description': 'psychopathic Bateman',\n",
              "  'favorite': 'FALSE',\n",
              "  'title': 'American Psycho'},\n",
              " {'description': 'What a joke!',\n",
              "  'favorite': 'False',\n",
              "  'title': 'Batman: The Movie'},\n",
              " {'description': 'Emma Stone = Hester Prynne',\n",
              "  'favorite': 'True',\n",
              "  'title': 'Easy A'},\n",
              " {'description': 'Tim (Rudd) is a rising executive\\n                 who т\\x80\\x9csucceedsт\\x80\\x9d in finding the perfect guest, \\n                 IRS employee Barry (Carell), for his bossт\\x80\\x99 monthly event, \\n                 a so-called т\\x80\\x9cdinner for idiots,т\\x80\\x9d which offers certain \\n                 advantages to the exec who shows up with the biggest buffoon.\\n                 ',\n",
              "  'favorite': 'True',\n",
              "  'title': 'Dinner for SCHMUCKS'},\n",
              " {'description': 'Who ya gonna call?',\n",
              "  'favorite': 'False',\n",
              "  'title': 'Ghostbusters'},\n",
              " {'description': 'Robin Hood slaying',\n",
              "  'favorite': 'True',\n",
              "  'title': 'Robin Hood: Prince of Thieves'}]"
            ]
          },
          "metadata": {},
          "execution_count": 18
        }
      ]
    },
    {
      "cell_type": "markdown",
      "source": [
        "### Search with XPath\n",
        "\n",
        "Above steps are all cool, but XPath is a query language used to search through an XML quickly and easily. XPath stands for XML Path Language and uses, as the name suggests, a \"path like\" syntax to identify and navigate nodes in an XML document.\n",
        "\n",
        "Understanding XPath is critically important to scanning and populating XMLs. ElementTree has a `.findall()` function that will traverse the immediate children of the referenced element. You can use XPath expressions to specify more useful searches.\n",
        "\n",
        "Here, you will search the tree for movies that came out in 1992:"
      ],
      "metadata": {
        "id": "Dr9q53n06acL"
      }
    },
    {
      "cell_type": "code",
      "source": [
        "movies_1992 = [movie.attrib for movie in root.findall(\"./genre/decade/movie/[year='1992']\")]\n",
        "movies_1992"
      ],
      "metadata": {
        "colab": {
          "base_uri": "https://localhost:8080/"
        },
        "id": "1Wf1t6ph6TNK",
        "outputId": "d78d019b-43e9-4c0e-87e4-376fe931df34"
      },
      "execution_count": null,
      "outputs": [
        {
          "output_type": "execute_result",
          "data": {
            "text/plain": [
              "[{'description': 'NA.', 'favorite': 'True', 'title': 'Batman Returns'},\n",
              " {'description': 'WhAtEvER I Want!!!?!',\n",
              "  'favorite': 'False',\n",
              "  'title': 'Reservoir Dogs'}]"
            ]
          },
          "metadata": {},
          "execution_count": 19
        }
      ]
    },
    {
      "cell_type": "markdown",
      "source": [
        "The method `.findall()` always begins at the element specified.\n",
        "\n",
        "And the XPath `./genre/decade/movie/[year='1992']`:\n",
        "- First it go through the tree structure `root(.) -> <genre> -> <decade> -> <movie>`\n",
        "- Then it searches a child of `<movie>`, `<year>` to evaluate if it is `1992`\n",
        "- if it matches then return the _attributes_ of `<movie>`.\n",
        "\n",
        "__NOTE__: `.findall()`, like `.find_all()` in `BeautifulSoup`, always return a list. So you may need some kind of loop to go through it.\n",
        "\n",
        "Besides searching on elements, you can even search on attributes!\n",
        "\n",
        "Now, retrieve only the movies that are available in `multiple` formats (an attribute)."
      ],
      "metadata": {
        "id": "nma5zUmG7BuU"
      }
    },
    {
      "cell_type": "code",
      "source": [
        "mf_movies = [movie.attrib for movie in root.findall(\"./genre/decade/movie/format/[@multiple='Yes']\")]\n",
        "mf_movies"
      ],
      "metadata": {
        "colab": {
          "base_uri": "https://localhost:8080/"
        },
        "id": "W7UVjdfw6rSK",
        "outputId": "04f1dca4-3cce-4c0d-b62c-8e3ec6eca675"
      },
      "execution_count": null,
      "outputs": [
        {
          "output_type": "execute_result",
          "data": {
            "text/plain": [
              "[{'multiple': 'Yes'},\n",
              " {'multiple': 'Yes'},\n",
              " {'multiple': 'Yes'},\n",
              " {'multiple': 'Yes'},\n",
              " {'multiple': 'Yes'}]"
            ]
          },
          "metadata": {},
          "execution_count": 20
        }
      ]
    },
    {
      "cell_type": "markdown",
      "source": [
        "Looks good, but the only issue is it only returned the value (`yes`) for the attribute `multiple`. What if we want the movie titles instead?\n",
        "\n",
        "We can use `...` at the end of the XPath to tell it to go to the parent element of the current element."
      ],
      "metadata": {
        "id": "5-l7gIx78odh"
      }
    },
    {
      "cell_type": "code",
      "source": [
        "mf_movies1 = [movie.attrib for movie in root.findall(\"./genre/decade/movie/format/[@multiple='Yes']...\")]\n",
        "mf_movies1"
      ],
      "metadata": {
        "colab": {
          "base_uri": "https://localhost:8080/"
        },
        "id": "4siAIDfB8fPD",
        "outputId": "281f469f-c913-4a44-e0f2-1140d4cd08dd"
      },
      "execution_count": null,
      "outputs": [
        {
          "output_type": "execute_result",
          "data": {
            "text/plain": [
              "[{'description': 'None provided.',\n",
              "  'favorite': 'True',\n",
              "  'title': 'THE KARATE KID'},\n",
              " {'description': 'Two mutants come to a private academy for their kind whose resident superhero team must \\n               oppose a terrorist organization with similar powers.',\n",
              "  'favorite': 'False',\n",
              "  'title': 'X-Men'},\n",
              " {'description': '\"\"\"\"\"\"\"\"\"', 'favorite': 'False', 'title': 'ALIEN'},\n",
              " {'description': 'What a joke!',\n",
              "  'favorite': 'False',\n",
              "  'title': 'Batman: The Movie'},\n",
              " {'description': 'Tim (Rudd) is a rising executive\\n                 who т\\x80\\x9csucceedsт\\x80\\x9d in finding the perfect guest, \\n                 IRS employee Barry (Carell), for his bossт\\x80\\x99 monthly event, \\n                 a so-called т\\x80\\x9cdinner for idiots,т\\x80\\x9d which offers certain \\n                 advantages to the exec who shows up with the biggest buffoon.\\n                 ',\n",
              "  'favorite': 'True',\n",
              "  'title': 'Dinner for SCHMUCKS'}]"
            ]
          },
          "metadata": {},
          "execution_count": 21
        }
      ]
    },
    {
      "cell_type": "markdown",
      "source": [
        "## Find (and Modify) Data in XML"
      ],
      "metadata": {
        "id": "BUqACOEX-pe9"
      }
    },
    {
      "cell_type": "markdown",
      "source": [
        "### Find (and Modify) a Specific Element in XML\n",
        "\n",
        "Instead of finding all elements that fit a criteria (like we did above), we can even search for a specific element using `.find()`.\n",
        "\n",
        "For instance, if we only want \"Back to Future\" (a classic!!!), we can:"
      ],
      "metadata": {
        "id": "CojGd_U39RRE"
      }
    },
    {
      "cell_type": "code",
      "source": [
        "b2tf = root.find(\"./genre/decade/movie[@title='Back 2 the Future']\")\n",
        "print(b2tf)"
      ],
      "metadata": {
        "colab": {
          "base_uri": "https://localhost:8080/"
        },
        "id": "JdC76T1l9IBh",
        "outputId": "3884d3ab-555a-425f-9a2c-1565464d7eef"
      },
      "execution_count": null,
      "outputs": [
        {
          "output_type": "stream",
          "name": "stdout",
          "text": [
            "<Element 'movie' at 0x7f45079a0830>\n"
          ]
        }
      ]
    },
    {
      "cell_type": "markdown",
      "source": [
        "Notice that using the `.find()` method returns an element of the tree. Much of the time, it is more useful to **edit** the content within an element.\n",
        "\n",
        "__WARNING__: It is NOT the best practice to edit your source data, only do this if you are 1,000% sure, and make copies of your original data!\n",
        "\n",
        "Modify the title attribute of the `Back 2 the Future` element variable to read `\"Back to the Future\"`. Then, print out the attributes of your variable to see your change. You can easily do this by accessing the attribute of an element and then assigning a new value to it:"
      ],
      "metadata": {
        "id": "lqDbm_7u92cR"
      }
    },
    {
      "cell_type": "code",
      "source": [
        "b2tf.attrib[\"title\"] = \"Back to the Future\"\n",
        "print(b2tf.attrib)"
      ],
      "metadata": {
        "colab": {
          "base_uri": "https://localhost:8080/"
        },
        "id": "ZXp3KOBK9w92",
        "outputId": "1168bfc7-bf3d-4945-f78b-c6da102d3614"
      },
      "execution_count": null,
      "outputs": [
        {
          "output_type": "stream",
          "name": "stdout",
          "text": [
            "{'favorite': 'False', 'title': 'Back to the Future', 'description': 'Marty McFly'}\n"
          ]
        }
      ]
    },
    {
      "cell_type": "markdown",
      "source": [
        "Write out your changes back to the XML so they are permanently fixed in the document. Print out your movie attributes again to make sure your changes worked. Use the .write() method to do this:"
      ],
      "metadata": {
        "id": "6IvM0o4v-Xm4"
      }
    },
    {
      "cell_type": "code",
      "source": [
        "tree.write(\"movies_new.xml\")\n",
        "\n",
        "tree = ET.parse('movies_new.xml')\n",
        "root = tree.getroot()\n",
        "\n",
        "for movie in root.iter('movie'):\n",
        "    print(movie.attrib)"
      ],
      "metadata": {
        "colab": {
          "base_uri": "https://localhost:8080/"
        },
        "id": "c2U8aiqM-SqQ",
        "outputId": "73e38bbd-2193-4db6-9c02-31359b72555c"
      },
      "execution_count": null,
      "outputs": [
        {
          "output_type": "stream",
          "name": "stdout",
          "text": [
            "{'description': \"\\n                'Archaeologist and adventurer Indiana Jones \\n                is hired by the U.S. government to find the Ark of the \\n                Covenant before the Nazis.'\\n                \", 'favorite': 'True', 'title': 'Indiana Jones: The raiders of the lost Ark'}\n",
            "{'description': 'None provided.', 'favorite': 'True', 'title': 'THE KARATE KID'}\n",
            "{'description': 'Marty McFly', 'favorite': 'False', 'title': 'Back to the Future'}\n",
            "{'description': 'Two mutants come to a private academy for their kind whose resident superhero team must \\n               oppose a terrorist organization with similar powers.', 'favorite': 'False', 'title': 'X-Men'}\n",
            "{'description': 'NA.', 'favorite': 'True', 'title': 'Batman Returns'}\n",
            "{'description': 'WhAtEvER I Want!!!?!', 'favorite': 'False', 'title': 'Reservoir Dogs'}\n",
            "{'description': '\"\"\"\"\"\"\"\"\"', 'favorite': 'False', 'title': 'ALIEN'}\n",
            "{'description': 'Funny movie about a funny guy', 'favorite': 'True', 'title': \"Ferris Bueller's Day Off\"}\n",
            "{'description': 'psychopathic Bateman', 'favorite': 'FALSE', 'title': 'American Psycho'}\n",
            "{'description': 'What a joke!', 'favorite': 'False', 'title': 'Batman: The Movie'}\n",
            "{'description': 'Emma Stone = Hester Prynne', 'favorite': 'True', 'title': 'Easy A'}\n",
            "{'description': 'Tim (Rudd) is a rising executive\\n                 who т\\x80\\x9csucceedsт\\x80\\x9d in finding the perfect guest, \\n                 IRS employee Barry (Carell), for his bossт\\x80\\x99 monthly event, \\n                 a so-called т\\x80\\x9cdinner for idiots,т\\x80\\x9d which offers certain \\n                 advantages to the exec who shows up with the biggest buffoon.\\n                 ', 'favorite': 'True', 'title': 'Dinner for SCHMUCKS'}\n",
            "{'description': 'Who ya gonna call?', 'favorite': 'False', 'title': 'Ghostbusters'}\n",
            "{'description': 'Robin Hood slaying', 'favorite': 'True', 'title': 'Robin Hood: Prince of Thieves'}\n"
          ]
        }
      ]
    },
    {
      "cell_type": "markdown",
      "source": [
        "### Find (and Modify) an Attribute in XML\n",
        "\n",
        "The `multiple` attribute is incorrect in some places. Use `ElementTree` to fix the designator based on how many formats the movie comes in. First, extract the `format` attribute and text to see which parts need to be fixed."
      ],
      "metadata": {
        "id": "n_d7x-_A-v1s"
      }
    },
    {
      "cell_type": "code",
      "source": [
        "formats = [(form.attrib, form.text) for form in root.findall(\"./genre/decade/movie/format\")]\n",
        "formats"
      ],
      "metadata": {
        "colab": {
          "base_uri": "https://localhost:8080/"
        },
        "id": "bGfu_zAa-dJE",
        "outputId": "d232aefb-c15a-4d76-eb2f-557c7387c127"
      },
      "execution_count": null,
      "outputs": [
        {
          "output_type": "execute_result",
          "data": {
            "text/plain": [
              "[({'multiple': 'No'}, 'DVD'),\n",
              " ({'multiple': 'Yes'}, 'DVD,Online'),\n",
              " ({'multiple': 'False'}, 'Blu-ray'),\n",
              " ({'multiple': 'Yes'}, 'dvd, digital'),\n",
              " ({'multiple': 'No'}, 'VHS'),\n",
              " ({'multiple': 'No'}, 'Online'),\n",
              " ({'multiple': 'Yes'}, 'DVD'),\n",
              " ({'multiple': 'No'}, 'DVD'),\n",
              " ({'multiple': 'No'}, 'blue-ray'),\n",
              " ({'multiple': 'Yes'}, 'DVD,VHS'),\n",
              " ({'multiple': 'No'}, 'DVD'),\n",
              " ({'multiple': 'Yes'}, 'DVD,digital,Netflix'),\n",
              " ({'multiple': 'No'}, 'Online,VHS'),\n",
              " ({'multiple': 'No'}, 'Blu_Ray')]"
            ]
          },
          "metadata": {},
          "execution_count": 25
        }
      ]
    },
    {
      "cell_type": "markdown",
      "source": [
        "There is some work that needs to be done on this tag.\n",
        "\n",
        "You can just test if the `.text` contains commas - that will tell whether the multiple attribute should be \"Yes\" or \"No\". Adding and modifying attributes can be done easily with the `.set()` method.\n",
        "\n",
        "Note: we can also use `re`, which is the standard regex interpreter for Python. If you want to know more about regular expressions, consider [this tutorial](https://www.datacamp.com/community/tutorials/python-regular-expression-tutorial)."
      ],
      "metadata": {
        "id": "OEVu8IemDEMv"
      }
    },
    {
      "cell_type": "code",
      "source": [
        "for form in root.findall(\"./genre/decade/movie/format\"):\n",
        "    # Search for the commas in the format text\n",
        "\n",
        "    if ',' in form.text:\n",
        "        form.set('multiple','Yes')\n",
        "    else:\n",
        "        form.set('multiple','No')\n",
        "\n",
        "formats = [(form.attrib, form.text) for form in root.findall(\"./genre/decade/movie/format\")]\n",
        "formats"
      ],
      "metadata": {
        "colab": {
          "base_uri": "https://localhost:8080/"
        },
        "id": "6XQEZqLpDVSQ",
        "outputId": "f766001d-0208-40c3-98a9-180ad73fc359"
      },
      "execution_count": null,
      "outputs": [
        {
          "output_type": "execute_result",
          "data": {
            "text/plain": [
              "[({'multiple': 'No'}, 'DVD'),\n",
              " ({'multiple': 'Yes'}, 'DVD,Online'),\n",
              " ({'multiple': 'No'}, 'Blu-ray'),\n",
              " ({'multiple': 'Yes'}, 'dvd, digital'),\n",
              " ({'multiple': 'No'}, 'VHS'),\n",
              " ({'multiple': 'No'}, 'Online'),\n",
              " ({'multiple': 'No'}, 'DVD'),\n",
              " ({'multiple': 'No'}, 'DVD'),\n",
              " ({'multiple': 'No'}, 'blue-ray'),\n",
              " ({'multiple': 'Yes'}, 'DVD,VHS'),\n",
              " ({'multiple': 'No'}, 'DVD'),\n",
              " ({'multiple': 'Yes'}, 'DVD,digital,Netflix'),\n",
              " ({'multiple': 'Yes'}, 'Online,VHS'),\n",
              " ({'multiple': 'No'}, 'Blu_Ray')]"
            ]
          },
          "metadata": {},
          "execution_count": 27
        }
      ]
    },
    {
      "cell_type": "markdown",
      "source": [
        "Just in case you are curious about using regex (`re`):\n",
        "\n",
        "```python\n",
        "import re\n",
        "\n",
        "for form in root.findall(\"./genre/decade/movie/format\"):\n",
        "    # Search for the commas in the format text\n",
        "    match = re.search(',',form.text)\n",
        "    if match:\n",
        "        form.set('multiple','Yes')\n",
        "    else:\n",
        "        form.set('multiple','No')\n",
        "\n",
        "```"
      ],
      "metadata": {
        "id": "BZdnkzsCEATi"
      }
    },
    {
      "cell_type": "markdown",
      "source": [
        "## Conclusion\n",
        "There are some key things to remember about XMLs and using `ElementTree`.\n",
        "\n",
        "Tags build the tree structure and designate what values should be delineated there. Using smart structuring can make it easy to read and write to an XML. Tags always need opening and closing brackets to show the parent and children relationships.\n",
        "\n",
        "Attributes further describe how to validate a tag or allow for boolean designations. Attributes typically take very specific values so that the XML parser (and the user) can use the attributes to check the tag values.\n",
        "\n",
        "ElementTree is an important Python library that allows you to parse and navigate an XML document. Using ElementTree breaks down the XML document in a tree structure that is easy to work with. When in doubt, print it out `(print(ET.tostring(root, encoding='utf8').decode('utf8')))` - use this helpful print statement to view the entire XML document at once. It helps to check when editing, adding, or removing from an XML.\n",
        "\n",
        "Now you are equipped to understand XML and begin parsing!"
      ],
      "metadata": {
        "id": "Rb7tq0KBEPfv"
      }
    },
    {
      "cell_type": "markdown",
      "source": [
        "# CODING ASSIGNMENT PART 1B\n",
        "\n",
        "Scrape all the movie information from the `movies.xml` file, and store them in a list of dicts (name the list `movie_details`).\n",
        "\n",
        "__NOTES/HINTS__:\n",
        "1. A total of `14` movies are in this file, so your list should contain `14` elements.\n",
        "2. Each element contains the details about a movie, which should contains keys (and respective values) as below (not in that particular order):\n",
        "  + favorite\n",
        "  + title\n",
        "  + format\n",
        "  + multiple\n",
        "  + year\n",
        "  + description\n",
        "  + rating\n",
        "3. Some of the values of the dict can be either strings or lists."
      ],
      "metadata": {
        "id": "5tpw-v14EehQ"
      }
    },
    {
      "cell_type": "code",
      "source": [
        "import xml.etree.ElementTree as ET\n",
        "\n",
        "import requests\n",
        "\n",
        "\n",
        "xml_url = \"https://raw.githubusercontent.com/DrJieTao/ba505-docs/master/data/movies.xml\"\n",
        "response = requests.get(xml_url)\n",
        "\n",
        "\n",
        "!wget \"https://raw.githubusercontent.com/DrJieTao/ba505-docs/master/data/movies.xml\" ./movies.xml\n",
        "\n",
        "\n",
        "\n"
      ],
      "metadata": {
        "colab": {
          "base_uri": "https://localhost:8080/"
        },
        "id": "4hQxv3Caf8aM",
        "outputId": "b51c4f4f-b452-481b-e1f2-b8683b914810"
      },
      "execution_count": null,
      "outputs": [
        {
          "output_type": "stream",
          "name": "stdout",
          "text": [
            "--2022-10-15 16:16:19--  https://raw.githubusercontent.com/DrJieTao/ba505-docs/master/data/movies.xml\n",
            "Resolving raw.githubusercontent.com (raw.githubusercontent.com)... 185.199.108.133, 185.199.109.133, 185.199.110.133, ...\n",
            "Connecting to raw.githubusercontent.com (raw.githubusercontent.com)|185.199.108.133|:443... connected.\n",
            "HTTP request sent, awaiting response... 200 OK\n",
            "Length: 5025 (4.9K) [text/plain]\n",
            "Saving to: ‘movies.xml’\n",
            "\n",
            "\rmovies.xml            0%[                    ]       0  --.-KB/s               \rmovies.xml          100%[===================>]   4.91K  --.-KB/s    in 0s      \n",
            "\n",
            "2022-10-15 16:16:19 (45.0 MB/s) - ‘movies.xml’ saved [5025/5025]\n",
            "\n",
            "--2022-10-15 16:16:19--  http://./movies.xml\n",
            "Resolving . (.)... failed: No address associated with hostname.\n",
            "wget: unable to resolve host address ‘.’\n",
            "FINISHED --2022-10-15 16:16:19--\n",
            "Total wall clock time: 0.2s\n",
            "Downloaded: 1 files, 4.9K in 0s (45.0 MB/s)\n"
          ]
        }
      ]
    },
    {
      "cell_type": "code",
      "source": [
        "tree = ET.ElementTree(ET.fromstring(response.content, parser = ET.XMLParser(encoding = 'iso-8859-5')))\n",
        "root = tree.getroot()\n",
        "root"
      ],
      "metadata": {
        "colab": {
          "base_uri": "https://localhost:8080/"
        },
        "id": "1pgOykyjgLbY",
        "outputId": "fe7852ce-8dac-47a8-a9e4-0f42d37878f1"
      },
      "execution_count": null,
      "outputs": [
        {
          "output_type": "execute_result",
          "data": {
            "text/plain": [
              "<Element 'collection' at 0x7f29644ce2f0>"
            ]
          },
          "metadata": {},
          "execution_count": 2
        }
      ]
    },
    {
      "cell_type": "code",
      "source": [
        "elements = [elem.tag for elem in root.iter()]\n",
        "\n",
        "elements"
      ],
      "metadata": {
        "id": "rgAt4dh6mAPM",
        "outputId": "205bf157-72e8-4c60-f2ee-dcb67bbad84d",
        "colab": {
          "base_uri": "https://localhost:8080/"
        }
      },
      "execution_count": null,
      "outputs": [
        {
          "output_type": "execute_result",
          "data": {
            "text/plain": [
              "['collection',\n",
              " 'genre',\n",
              " 'decade',\n",
              " 'movie',\n",
              " 'format',\n",
              " 'year',\n",
              " 'rating',\n",
              " 'description',\n",
              " 'movie',\n",
              " 'format',\n",
              " 'year',\n",
              " 'rating',\n",
              " 'description',\n",
              " 'movie',\n",
              " 'format',\n",
              " 'year',\n",
              " 'rating',\n",
              " 'description',\n",
              " 'decade',\n",
              " 'movie',\n",
              " 'format',\n",
              " 'year',\n",
              " 'rating',\n",
              " 'description',\n",
              " 'movie',\n",
              " 'format',\n",
              " 'year',\n",
              " 'rating',\n",
              " 'description',\n",
              " 'movie',\n",
              " 'format',\n",
              " 'year',\n",
              " 'rating',\n",
              " 'description',\n",
              " 'genre',\n",
              " 'decade',\n",
              " 'movie',\n",
              " 'format',\n",
              " 'year',\n",
              " 'rating',\n",
              " 'description',\n",
              " 'decade',\n",
              " 'movie',\n",
              " 'format',\n",
              " 'year',\n",
              " 'rating',\n",
              " 'description',\n",
              " 'movie',\n",
              " 'format',\n",
              " 'year',\n",
              " 'rating',\n",
              " 'description',\n",
              " 'genre',\n",
              " 'decade',\n",
              " 'movie',\n",
              " 'format',\n",
              " 'year',\n",
              " 'rating',\n",
              " 'description',\n",
              " 'decade',\n",
              " 'movie',\n",
              " 'format',\n",
              " 'year',\n",
              " 'rating',\n",
              " 'description',\n",
              " 'movie',\n",
              " 'format',\n",
              " 'year',\n",
              " 'rating',\n",
              " 'description',\n",
              " 'decade',\n",
              " 'movie',\n",
              " 'format',\n",
              " 'year',\n",
              " 'rating',\n",
              " 'description',\n",
              " 'decade',\n",
              " 'movie',\n",
              " 'format',\n",
              " 'year',\n",
              " 'rating',\n",
              " 'description']"
            ]
          },
          "metadata": {},
          "execution_count": 3
        }
      ]
    },
    {
      "cell_type": "code",
      "source": [
        "import pandas as pd\n",
        "\n",
        "#list of dicts\n",
        "\n",
        "movie_details = []\n",
        "\n",
        "#Since favorite and title are attributes of the movie tag itself the first for\n",
        "#loop is used to get those two at the movie level\n",
        "\n",
        "for child in root.findall('.genre/decade/movie'):\n",
        "\n",
        "  details = {'title': '','favorite': '', 'format': '', 'multiple': '', 'year': '', 'description': '', 'rating': ''}\n",
        "\n",
        "  # favorite and title are attributes of movie\n",
        "  details['title'] = child.attrib['title']\n",
        "  details['favorite'] = child.attrib['favorite']\n",
        "\n",
        "#The remaining details needed are children of the movie tag so I will need to\n",
        "#iterate through the children of movie\n",
        "  for child_of_child in child: #for child in movie\n",
        "\n",
        "  #iterating to find the matching tags need\n",
        "    if child_of_child.tag == 'format':\n",
        "      details['format'] = child_of_child.text\n",
        "      details['multiple'] = child_of_child.attrib['multiple']\n",
        "\n",
        "    elif child_of_child.tag == 'year':\n",
        "      details['year'] = child_of_child.text\n",
        "\n",
        "    elif child_of_child.tag == 'description':\n",
        "      details['description'] = child_of_child.text\n",
        "\n",
        "    elif child_of_child.tag == 'rating':\n",
        "      details['rating'] = child_of_child.text\n",
        "\n",
        "  movie_details.append(details)\n",
        "\n",
        "#Displaying List of Dicts\n",
        "\n",
        "# movie_details\n",
        "\n",
        "df = pd.DataFrame(movie_details)\n",
        "\n",
        "#Start row count from 1 instead of 0\n",
        "\n",
        "df.index = df.index + 1\n",
        "\n",
        "#numpy version: df.index = np.arange(1, len(df) + 1)\n",
        "\n",
        "#displaying a dataframe of the movie details\n",
        "\n",
        "df\n",
        "\n"
      ],
      "metadata": {
        "id": "eobEvxo9EJXj",
        "colab": {
          "base_uri": "https://localhost:8080/",
          "height": 602
        },
        "outputId": "4141f0a1-d643-4c42-d32d-d5c600055e2b"
      },
      "execution_count": null,
      "outputs": [
        {
          "output_type": "execute_result",
          "data": {
            "text/plain": [
              "                                         title favorite               format  \\\n",
              "1   Indiana Jones: The raiders of the lost Ark     True                  DVD   \n",
              "2                               THE KARATE KID     True           DVD,Online   \n",
              "3                            Back 2 the Future    False              Blu-ray   \n",
              "4                                        X-Men    False         dvd, digital   \n",
              "5                               Batman Returns     True                  VHS   \n",
              "6                               Reservoir Dogs    False               Online   \n",
              "7                                        ALIEN    False                  DVD   \n",
              "8                     Ferris Bueller's Day Off     True                  DVD   \n",
              "9                              American Psycho    FALSE             blue-ray   \n",
              "10                           Batman: The Movie    False              DVD,VHS   \n",
              "11                                      Easy A     True                  DVD   \n",
              "12                         Dinner for SCHMUCKS     True  DVD,digital,Netflix   \n",
              "13                                Ghostbusters    False           Online,VHS   \n",
              "14               Robin Hood: Prince of Thieves     True              Blu_Ray   \n",
              "\n",
              "   multiple  year                                        description   rating  \n",
              "1        No  1981  \\n                'Archaeologist and adventure...       PG  \n",
              "2       Yes  1984                                     None provided.       PG  \n",
              "3     False  1985                                        Marty McFly       PG  \n",
              "4       Yes  2000  Two mutants come to a private academy for thei...    PG-13  \n",
              "5        No  1992                                                NA.     PG13  \n",
              "6        No  1992                               WhAtEvER I Want!!!?!        R  \n",
              "7       Yes  1979                                          \"\"\"\"\"\"\"\"\"        R  \n",
              "8        No  1986                      Funny movie about a funny guy     PG13  \n",
              "9        No  2000                               psychopathic Bateman  Unrated  \n",
              "10      Yes  1966                                       What a joke!       PG  \n",
              "11       No  2010                         Emma Stone = Hester Prynne   PG--13  \n",
              "12      Yes  2011  Tim (Rudd) is a rising executive\\n            ...  Unrated  \n",
              "13       No  1984                                 Who ya gonna call?       PG  \n",
              "14       No  1991                                 Robin Hood slaying  Unknown  "
            ],
            "text/html": [
              "\n",
              "  <div id=\"df-f00fe2c4-41c9-4f45-ae5a-ddef30b6c45c\">\n",
              "    <div class=\"colab-df-container\">\n",
              "      <div>\n",
              "<style scoped>\n",
              "    .dataframe tbody tr th:only-of-type {\n",
              "        vertical-align: middle;\n",
              "    }\n",
              "\n",
              "    .dataframe tbody tr th {\n",
              "        vertical-align: top;\n",
              "    }\n",
              "\n",
              "    .dataframe thead th {\n",
              "        text-align: right;\n",
              "    }\n",
              "</style>\n",
              "<table border=\"1\" class=\"dataframe\">\n",
              "  <thead>\n",
              "    <tr style=\"text-align: right;\">\n",
              "      <th></th>\n",
              "      <th>title</th>\n",
              "      <th>favorite</th>\n",
              "      <th>format</th>\n",
              "      <th>multiple</th>\n",
              "      <th>year</th>\n",
              "      <th>description</th>\n",
              "      <th>rating</th>\n",
              "    </tr>\n",
              "  </thead>\n",
              "  <tbody>\n",
              "    <tr>\n",
              "      <th>1</th>\n",
              "      <td>Indiana Jones: The raiders of the lost Ark</td>\n",
              "      <td>True</td>\n",
              "      <td>DVD</td>\n",
              "      <td>No</td>\n",
              "      <td>1981</td>\n",
              "      <td>\\n                'Archaeologist and adventure...</td>\n",
              "      <td>PG</td>\n",
              "    </tr>\n",
              "    <tr>\n",
              "      <th>2</th>\n",
              "      <td>THE KARATE KID</td>\n",
              "      <td>True</td>\n",
              "      <td>DVD,Online</td>\n",
              "      <td>Yes</td>\n",
              "      <td>1984</td>\n",
              "      <td>None provided.</td>\n",
              "      <td>PG</td>\n",
              "    </tr>\n",
              "    <tr>\n",
              "      <th>3</th>\n",
              "      <td>Back 2 the Future</td>\n",
              "      <td>False</td>\n",
              "      <td>Blu-ray</td>\n",
              "      <td>False</td>\n",
              "      <td>1985</td>\n",
              "      <td>Marty McFly</td>\n",
              "      <td>PG</td>\n",
              "    </tr>\n",
              "    <tr>\n",
              "      <th>4</th>\n",
              "      <td>X-Men</td>\n",
              "      <td>False</td>\n",
              "      <td>dvd, digital</td>\n",
              "      <td>Yes</td>\n",
              "      <td>2000</td>\n",
              "      <td>Two mutants come to a private academy for thei...</td>\n",
              "      <td>PG-13</td>\n",
              "    </tr>\n",
              "    <tr>\n",
              "      <th>5</th>\n",
              "      <td>Batman Returns</td>\n",
              "      <td>True</td>\n",
              "      <td>VHS</td>\n",
              "      <td>No</td>\n",
              "      <td>1992</td>\n",
              "      <td>NA.</td>\n",
              "      <td>PG13</td>\n",
              "    </tr>\n",
              "    <tr>\n",
              "      <th>6</th>\n",
              "      <td>Reservoir Dogs</td>\n",
              "      <td>False</td>\n",
              "      <td>Online</td>\n",
              "      <td>No</td>\n",
              "      <td>1992</td>\n",
              "      <td>WhAtEvER I Want!!!?!</td>\n",
              "      <td>R</td>\n",
              "    </tr>\n",
              "    <tr>\n",
              "      <th>7</th>\n",
              "      <td>ALIEN</td>\n",
              "      <td>False</td>\n",
              "      <td>DVD</td>\n",
              "      <td>Yes</td>\n",
              "      <td>1979</td>\n",
              "      <td>\"\"\"\"\"\"\"\"\"</td>\n",
              "      <td>R</td>\n",
              "    </tr>\n",
              "    <tr>\n",
              "      <th>8</th>\n",
              "      <td>Ferris Bueller's Day Off</td>\n",
              "      <td>True</td>\n",
              "      <td>DVD</td>\n",
              "      <td>No</td>\n",
              "      <td>1986</td>\n",
              "      <td>Funny movie about a funny guy</td>\n",
              "      <td>PG13</td>\n",
              "    </tr>\n",
              "    <tr>\n",
              "      <th>9</th>\n",
              "      <td>American Psycho</td>\n",
              "      <td>FALSE</td>\n",
              "      <td>blue-ray</td>\n",
              "      <td>No</td>\n",
              "      <td>2000</td>\n",
              "      <td>psychopathic Bateman</td>\n",
              "      <td>Unrated</td>\n",
              "    </tr>\n",
              "    <tr>\n",
              "      <th>10</th>\n",
              "      <td>Batman: The Movie</td>\n",
              "      <td>False</td>\n",
              "      <td>DVD,VHS</td>\n",
              "      <td>Yes</td>\n",
              "      <td>1966</td>\n",
              "      <td>What a joke!</td>\n",
              "      <td>PG</td>\n",
              "    </tr>\n",
              "    <tr>\n",
              "      <th>11</th>\n",
              "      <td>Easy A</td>\n",
              "      <td>True</td>\n",
              "      <td>DVD</td>\n",
              "      <td>No</td>\n",
              "      <td>2010</td>\n",
              "      <td>Emma Stone = Hester Prynne</td>\n",
              "      <td>PG--13</td>\n",
              "    </tr>\n",
              "    <tr>\n",
              "      <th>12</th>\n",
              "      <td>Dinner for SCHMUCKS</td>\n",
              "      <td>True</td>\n",
              "      <td>DVD,digital,Netflix</td>\n",
              "      <td>Yes</td>\n",
              "      <td>2011</td>\n",
              "      <td>Tim (Rudd) is a rising executive\\n            ...</td>\n",
              "      <td>Unrated</td>\n",
              "    </tr>\n",
              "    <tr>\n",
              "      <th>13</th>\n",
              "      <td>Ghostbusters</td>\n",
              "      <td>False</td>\n",
              "      <td>Online,VHS</td>\n",
              "      <td>No</td>\n",
              "      <td>1984</td>\n",
              "      <td>Who ya gonna call?</td>\n",
              "      <td>PG</td>\n",
              "    </tr>\n",
              "    <tr>\n",
              "      <th>14</th>\n",
              "      <td>Robin Hood: Prince of Thieves</td>\n",
              "      <td>True</td>\n",
              "      <td>Blu_Ray</td>\n",
              "      <td>No</td>\n",
              "      <td>1991</td>\n",
              "      <td>Robin Hood slaying</td>\n",
              "      <td>Unknown</td>\n",
              "    </tr>\n",
              "  </tbody>\n",
              "</table>\n",
              "</div>\n",
              "      <button class=\"colab-df-convert\" onclick=\"convertToInteractive('df-f00fe2c4-41c9-4f45-ae5a-ddef30b6c45c')\"\n",
              "              title=\"Convert this dataframe to an interactive table.\"\n",
              "              style=\"display:none;\">\n",
              "        \n",
              "  <svg xmlns=\"http://www.w3.org/2000/svg\" height=\"24px\"viewBox=\"0 0 24 24\"\n",
              "       width=\"24px\">\n",
              "    <path d=\"M0 0h24v24H0V0z\" fill=\"none\"/>\n",
              "    <path d=\"M18.56 5.44l.94 2.06.94-2.06 2.06-.94-2.06-.94-.94-2.06-.94 2.06-2.06.94zm-11 1L8.5 8.5l.94-2.06 2.06-.94-2.06-.94L8.5 2.5l-.94 2.06-2.06.94zm10 10l.94 2.06.94-2.06 2.06-.94-2.06-.94-.94-2.06-.94 2.06-2.06.94z\"/><path d=\"M17.41 7.96l-1.37-1.37c-.4-.4-.92-.59-1.43-.59-.52 0-1.04.2-1.43.59L10.3 9.45l-7.72 7.72c-.78.78-.78 2.05 0 2.83L4 21.41c.39.39.9.59 1.41.59.51 0 1.02-.2 1.41-.59l7.78-7.78 2.81-2.81c.8-.78.8-2.07 0-2.86zM5.41 20L4 18.59l7.72-7.72 1.47 1.35L5.41 20z\"/>\n",
              "  </svg>\n",
              "      </button>\n",
              "      \n",
              "  <style>\n",
              "    .colab-df-container {\n",
              "      display:flex;\n",
              "      flex-wrap:wrap;\n",
              "      gap: 12px;\n",
              "    }\n",
              "\n",
              "    .colab-df-convert {\n",
              "      background-color: #E8F0FE;\n",
              "      border: none;\n",
              "      border-radius: 50%;\n",
              "      cursor: pointer;\n",
              "      display: none;\n",
              "      fill: #1967D2;\n",
              "      height: 32px;\n",
              "      padding: 0 0 0 0;\n",
              "      width: 32px;\n",
              "    }\n",
              "\n",
              "    .colab-df-convert:hover {\n",
              "      background-color: #E2EBFA;\n",
              "      box-shadow: 0px 1px 2px rgba(60, 64, 67, 0.3), 0px 1px 3px 1px rgba(60, 64, 67, 0.15);\n",
              "      fill: #174EA6;\n",
              "    }\n",
              "\n",
              "    [theme=dark] .colab-df-convert {\n",
              "      background-color: #3B4455;\n",
              "      fill: #D2E3FC;\n",
              "    }\n",
              "\n",
              "    [theme=dark] .colab-df-convert:hover {\n",
              "      background-color: #434B5C;\n",
              "      box-shadow: 0px 1px 3px 1px rgba(0, 0, 0, 0.15);\n",
              "      filter: drop-shadow(0px 1px 2px rgba(0, 0, 0, 0.3));\n",
              "      fill: #FFFFFF;\n",
              "    }\n",
              "  </style>\n",
              "\n",
              "      <script>\n",
              "        const buttonEl =\n",
              "          document.querySelector('#df-f00fe2c4-41c9-4f45-ae5a-ddef30b6c45c button.colab-df-convert');\n",
              "        buttonEl.style.display =\n",
              "          google.colab.kernel.accessAllowed ? 'block' : 'none';\n",
              "\n",
              "        async function convertToInteractive(key) {\n",
              "          const element = document.querySelector('#df-f00fe2c4-41c9-4f45-ae5a-ddef30b6c45c');\n",
              "          const dataTable =\n",
              "            await google.colab.kernel.invokeFunction('convertToInteractive',\n",
              "                                                     [key], {});\n",
              "          if (!dataTable) return;\n",
              "\n",
              "          const docLinkHtml = 'Like what you see? Visit the ' +\n",
              "            '<a target=\"_blank\" href=https://colab.research.google.com/notebooks/data_table.ipynb>data table notebook</a>'\n",
              "            + ' to learn more about interactive tables.';\n",
              "          element.innerHTML = '';\n",
              "          dataTable['output_type'] = 'display_data';\n",
              "          await google.colab.output.renderOutput(dataTable, element);\n",
              "          const docLink = document.createElement('div');\n",
              "          docLink.innerHTML = docLinkHtml;\n",
              "          element.appendChild(docLink);\n",
              "        }\n",
              "      </script>\n",
              "    </div>\n",
              "  </div>\n",
              "  "
            ]
          },
          "metadata": {},
          "execution_count": 4
        }
      ]
    },
    {
      "cell_type": "markdown",
      "source": [
        "You can use this code block to test if your code works correctly, if there is no error you should be fine."
      ],
      "metadata": {
        "id": "BiJZYAA_GigW"
      }
    },
    {
      "cell_type": "code",
      "source": [
        "#### do not edit this code block\n",
        "assert len(movie_details) == 14\n",
        "all_keys = ['favorite', 'title', 'format', 'multiple', 'year', 'description', 'rating']\n",
        "for i, movie_detail in enumerate(movie_details):\n",
        "  try:\n",
        "    assert set(movie_detail.keys()) == set(all_keys)\n",
        "  except:\n",
        "    if movie_detail['title']:\n",
        "      print(movie_detail['title'], \"missing information\", set(all_keys) - set(movie_detail.keys()))\n",
        "    else:\n",
        "      print(\"The {}-th entry in movie_details missing information {}\".format(i, set(all_keys) - set(movie_detail.keys())))"
      ],
      "metadata": {
        "id": "8g6AQpWmEvIu"
      },
      "execution_count": null,
      "outputs": []
    },
    {
      "cell_type": "code",
      "source": [],
      "metadata": {
        "id": "Tyqp1KcrJXk5"
      },
      "execution_count": null,
      "outputs": []
    }
  ]
}
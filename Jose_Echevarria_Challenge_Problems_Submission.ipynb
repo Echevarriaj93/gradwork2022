{
  "nbformat": 4,
  "nbformat_minor": 0,
  "metadata": {
    "colab": {
      "provenance": [],
      "include_colab_link": true
    },
    "kernelspec": {
      "name": "python3",
      "display_name": "Python 3"
    },
    "language_info": {
      "name": "python"
    }
  },
  "cells": [
    {
      "cell_type": "markdown",
      "metadata": {
        "id": "view-in-github",
        "colab_type": "text"
      },
      "source": [
        "<a href=\"https://colab.research.google.com/github/Echevarriaj93/gradwork2022/blob/main/Jose_Echevarria_Challenge_Problems_Submission.ipynb\" target=\"_parent\"><img src=\"https://colab.research.google.com/assets/colab-badge.svg\" alt=\"Open In Colab\"/></a>"
      ]
    },
    {
      "cell_type": "markdown",
      "source": [
        "# *Jose Echevarria*\n",
        "## **BA 5405 - Final Project**"
      ],
      "metadata": {
        "id": "eF5I0_aFuNgT"
      }
    },
    {
      "cell_type": "markdown",
      "source": [
        "# **Challenge 1A: Sexy Prime Triplets**\n"
      ],
      "metadata": {
        "id": "6EwvJ2B8uFM8"
      }
    },
    {
      "cell_type": "markdown",
      "source": [
        "#**Function is_prime:** \n",
        "### - Will be used for building the main function which will create a sequence of tuples, sexy_prime_triplets().\n",
        "\n",
        "### - Returns True or False\n"
      ],
      "metadata": {
        "id": "rcUTVb2VuCyK"
      }
    },
    {
      "cell_type": "code",
      "metadata": {
        "id": "kS0djPgQpL-A",
        "colab": {
          "base_uri": "https://localhost:8080/"
        },
        "outputId": "9f4c0f5f-db3a-4ed7-de43-9f893dc5c0a5"
      },
      "source": [
        "def is_prime(a):\n",
        "  \"\"\"\n",
        "  # Is Prime\n",
        "  This fucntion handles a number and determines whether it is a prime number\n",
        "  ## - Input:\n",
        "  Any integer number except for 0 and 1\n",
        "  --\n",
        "  ## - Output:\n",
        "  Confirms that number entered is a prime number\n",
        "  \"\"\"    \n",
        "\n",
        "  if a > 1: #Neither 1 or 0 are NOT prime numbers\n",
        "    for i in range(2, a): # division range excluding 1 and number itself\n",
        "      if a % i == 0: #Prime numbers have a remainder when divided\n",
        "        return False #Not prime   \n",
        "    else:    #This else loop MUST be aligned with for NOT the if statement\n",
        "        return True\n",
        "  else:\n",
        "    return \"Error: Argument must be greater or equal to 2 (the lowest prime)\"\n",
        "\n",
        "#Tests\n",
        "#Prime Number\n",
        "print('Is Prime number:', is_prime(2))\n",
        "#Not prime\n",
        "print('Is Prime number:', is_prime(20))\n",
        "# 0 or 1\n",
        "print('Is Prime number:', is_prime(0))\n",
        "\n",
        "\n",
        "\n",
        "\n",
        "  "
      ],
      "execution_count": null,
      "outputs": [
        {
          "output_type": "stream",
          "name": "stdout",
          "text": [
            "Is Prime number: True\n",
            "Is Prime number: False\n",
            "Is Prime number: Error: Argument must be greater or equal to 2 (the lowest prime)\n"
          ]
        }
      ]
    },
    {
      "cell_type": "markdown",
      "source": [
        "#**Sexy_Prime_triplets:** \n",
        "### Creates a list of Tuples whose elements contain 3 elements where the first is always a prime number and the other two are the first + 6 and the first +12 (also prime numbers). Pattern: [(prime, prime + 6, prime + 12)]. Iterates based on value (n).\n",
        "\n",
        "## *Ex.[(7, 13, 19), (11, 17, 23), (17, 23, 29)]*"
      ],
      "metadata": {
        "id": "C5EANb5PYece"
      }
    },
    {
      "cell_type": "code",
      "source": [
        "\n",
        "def sexy_prime_triplets(a , n): \n",
        "  \"\"\"\n",
        "  # Sexy Prime Triplets\n",
        "  This function will handle a number and create a list of tuples with\n",
        "  3 elements where the first element of the first tuple is (a) or the next \n",
        "  prime number. The first element in each subsequent tuple is the next prime \n",
        "  number found in the range (2 through n) that iterates upward to the indicated \n",
        "  range limit (n). 2,5,7,11...last prime number before (n). \n",
        "  Elements 2 and 3 in each tuple = prime number + 6 and prime \n",
        "  number + 12 respectively. Tuples will only be included if all three elements\n",
        "  are prime numbers.\n",
        "\n",
        "\n",
        "  ---\n",
        "  ## - Input:\n",
        "  a(int): a number whether a prime number or not\n",
        "  n(int): a number representing a range to iterate through with prime numbers\n",
        "  i.e prime numbers between 2 and 50.\n",
        "\n",
        "  Note: Even if n is a prime number it will not be included in a tuple.\n",
        "  ---\n",
        "  ## - Output:\n",
        "  A list of tuples with 3 elements up to the indicated range (n )with a prime \n",
        "  number as the first element and the following elements as prime number + 6 \n",
        "  and prime number + 12.\n",
        "  \"\"\"\n",
        "\n",
        "  try:\n",
        "    type(a) == int()\n",
        "    type(n) == int()\n",
        "  except:\n",
        "    return \"Error: Both parameters of the function must be integers.\"\n",
        "\n",
        "  lst = [] # Empty list for appending tuples\n",
        "\n",
        "  #A for loop that iterates through numbers in a range and returns the prime \n",
        "  #as the first element in each tuple of prime numbers appended to the list.\n",
        "  if a < n:\n",
        "    for i in range(a, n): \n",
        "        if is_prime(i) == True: #if i is a prime number\n",
        "\n",
        "        # Alt: if is_prime(a) == True: non-prime numbers wont return anything \n",
        "        #in list\n",
        "\n",
        "          lst_x = i, i+6, i +12 #elements to be appended as a tuple\n",
        "\n",
        "          #will only append tuples whose elements are all prime numbers.\n",
        "          if is_prime(lst_x[1]) == True and is_prime(lst_x[2]) == True:\n",
        "\n",
        "            lst.append(tuple(lst_x)) #appending a tuple will ensure parentheses\n",
        "    return lst      \n",
        "  else: \n",
        "    return \"Error: Number (a) must be less than range (n)\"\n",
        "    \n",
        "  '''\n",
        "  * Function will print the prime number argument entered in the function as the\n",
        "  very first element. If the number is not prime the next prime number will be \n",
        "  the first element in the list of tuples.\n",
        "  '''\n",
        "   \n",
        "#Tests\n",
        "#a = prime\n",
        "print('Testing with prime number:', sexy_prime_triplets(5, 50)) \n",
        "# a not prime\n",
        "print('Testing without prime number:', sexy_prime_triplets(6, 50))\n",
        "# if a greater than n\n",
        "print('Testing a > n:', sexy_prime_triplets(60, 50))\n",
        "\n",
        "\n"
      ],
      "metadata": {
        "colab": {
          "base_uri": "https://localhost:8080/"
        },
        "id": "st2h0iwMNHxv",
        "outputId": "dd0d92b9-8734-4c45-ca3e-5097e6eab8fd"
      },
      "execution_count": null,
      "outputs": [
        {
          "output_type": "stream",
          "name": "stdout",
          "text": [
            "Testing with prime number: [(5, 11, 17), (7, 13, 19), (11, 17, 23), (17, 23, 29), (31, 37, 43), (41, 47, 53), (47, 53, 59)]\n",
            "Testing without prime number: [(7, 13, 19), (11, 17, 23), (17, 23, 29), (31, 37, 43), (41, 47, 53), (47, 53, 59)]\n",
            "Testing a > n: Error: Number (a) must be less than range (n)\n"
          ]
        }
      ]
    },
    {
      "cell_type": "markdown",
      "source": [
        "# Modified sexy_prime_triplets : Modified to take only one argument (n).\n",
        "\n",
        "## Note: The function will work without input() but will always start the list with 5."
      ],
      "metadata": {
        "id": "BEAR_4asJ6uY"
      }
    },
    {
      "cell_type": "code",
      "source": [
        "def sexy_prime_triplets2 (n): \n",
        "\n",
        "  \n",
        "  \"\"\"\n",
        "  # Sexy Prime Triplets\n",
        "  This function will handle a number and create a list of tuples with\n",
        "  3 elements where the first element of the first tuple is aprime number.\n",
        "  The first element in each subsequent tuple is the next prime \n",
        "  number found in the range (2 through n) that iterates upward to the indicated \n",
        "  range limit (n). 2,5,7,11...last prime number before (n). \n",
        "  Elements 2 and 3 in each tuple = prime number + 6 and prime \n",
        "  number + 12 respectively. Tuples will only be included if all three elements\n",
        "  are prime numbers.\n",
        "\n",
        "\n",
        "  ---\n",
        "  ## - Input:\n",
        "  n(int): a number representing a range to iterate through with prime numbers\n",
        "  i.e prime numbers between 2 and 50.\n",
        "\n",
        "  Note: Even if n is a prime number it will not be included in a tuple.\n",
        "  ---\n",
        "  ## - Output:\n",
        "  A list of tuples with 3 elements up to the indicated range (n )with a prime \n",
        "  number as the first element and the following elements as prime number + 6 \n",
        "  and prime number + 12.\n",
        "  \"\"\"\n",
        "  inp = input('Enter a number: ') #acceptd input as a string\n",
        "  intinp = int(inp) #As an integer for loop\n",
        "\n",
        "\n",
        "  try:\n",
        "    type(n) == int() #checking type of n is int\n",
        "  except:\n",
        "    return \"Error: Both parameters of the function must be integers.\"\n",
        "\n",
        "  lst = [] # Empty list for appending tuples\n",
        "\n",
        "  #A for loop that iterates through numbers in a range and returns the prime \n",
        "  #as the first element in each tuple of prime numbers appended to the list.\n",
        "  if intinp < n:\n",
        "    for i in range(intinp, n): \n",
        "        if is_prime(intinp) == True: #if i is a prime number\n",
        "\n",
        "          lst_x = i, i+6, i +12 #elements to be appended as a tuple\n",
        "        \n",
        "\n",
        "          #will only append tuples whose elements are all prime numbers.\n",
        "          if is_prime(lst_x[1]) == True and is_prime(lst_x[2]) == True:\n",
        "\n",
        "            lst.append(tuple(lst_x)) #appending a tuple will ensure parentheses\n",
        "    return lst if is_prime(intinp) == True else 'Number entered is not prime or is greater than the range.'\n",
        "\n",
        "    \n",
        "   \n",
        "#Tests\n",
        "\n",
        "print('Testing with prime number up to 50:', sexy_prime_triplets2(50)) \n",
        "print('Testing with prime number up to 100:', sexy_prime_triplets2(100)) \n",
        "print('Testing with non-prime number: ', sexy_prime_triplets2(0))\n",
        "print(\"Testing if number entered is greater than range.\", sexy_prime_triplets2(50) )\n",
        "\n",
        "\n",
        "\n",
        "\n",
        "\n",
        "\n"
      ],
      "metadata": {
        "colab": {
          "base_uri": "https://localhost:8080/",
          "height": 389
        },
        "id": "ClGemT1KJapv",
        "outputId": "a7add886-c9f7-4e07-89fa-dc206bb4ee97"
      },
      "execution_count": null,
      "outputs": [
        {
          "output_type": "error",
          "ename": "KeyboardInterrupt",
          "evalue": "ignored",
          "traceback": [
            "\u001b[0;31m---------------------------------------------------------------------------\u001b[0m",
            "\u001b[0;31mKeyboardInterrupt\u001b[0m                         Traceback (most recent call last)",
            "\u001b[0;32m<ipython-input-79-0c5f1f537711>\u001b[0m in \u001b[0;36m<module>\u001b[0;34m\u001b[0m\n\u001b[1;32m     54\u001b[0m \u001b[0;31m#Tests\u001b[0m\u001b[0;34m\u001b[0m\u001b[0;34m\u001b[0m\u001b[0;34m\u001b[0m\u001b[0m\n\u001b[1;32m     55\u001b[0m \u001b[0;34m\u001b[0m\u001b[0m\n\u001b[0;32m---> 56\u001b[0;31m \u001b[0mprint\u001b[0m\u001b[0;34m(\u001b[0m\u001b[0;34m'Testing with prime number up to 50:'\u001b[0m\u001b[0;34m,\u001b[0m \u001b[0msexy_prime_triplets2\u001b[0m\u001b[0;34m(\u001b[0m\u001b[0;36m50\u001b[0m\u001b[0;34m)\u001b[0m\u001b[0;34m)\u001b[0m\u001b[0;34m\u001b[0m\u001b[0;34m\u001b[0m\u001b[0m\n\u001b[0m\u001b[1;32m     57\u001b[0m \u001b[0mprint\u001b[0m\u001b[0;34m(\u001b[0m\u001b[0;34m'Testing with prime number up to 100:'\u001b[0m\u001b[0;34m,\u001b[0m \u001b[0msexy_prime_triplets2\u001b[0m\u001b[0;34m(\u001b[0m\u001b[0;36m100\u001b[0m\u001b[0;34m)\u001b[0m\u001b[0;34m)\u001b[0m\u001b[0;34m\u001b[0m\u001b[0;34m\u001b[0m\u001b[0m\n\u001b[1;32m     58\u001b[0m \u001b[0mprint\u001b[0m\u001b[0;34m(\u001b[0m\u001b[0;34m'Testing with non-prime number: '\u001b[0m\u001b[0;34m,\u001b[0m \u001b[0msexy_prime_triplets2\u001b[0m\u001b[0;34m(\u001b[0m\u001b[0;36m0\u001b[0m\u001b[0;34m)\u001b[0m\u001b[0;34m)\u001b[0m\u001b[0;34m\u001b[0m\u001b[0;34m\u001b[0m\u001b[0m\n",
            "\u001b[0;32m<ipython-input-79-0c5f1f537711>\u001b[0m in \u001b[0;36msexy_prime_triplets2\u001b[0;34m(n)\u001b[0m\n\u001b[1;32m     24\u001b[0m   \u001b[0;32mand\u001b[0m \u001b[0mprime\u001b[0m \u001b[0mnumber\u001b[0m \u001b[0;34m+\u001b[0m \u001b[0;36m12.\u001b[0m\u001b[0;34m\u001b[0m\u001b[0;34m\u001b[0m\u001b[0m\n\u001b[1;32m     25\u001b[0m   \"\"\"\n\u001b[0;32m---> 26\u001b[0;31m   \u001b[0minp\u001b[0m \u001b[0;34m=\u001b[0m \u001b[0minput\u001b[0m\u001b[0;34m(\u001b[0m\u001b[0;34m'Enter a number: '\u001b[0m\u001b[0;34m)\u001b[0m \u001b[0;31m#acceptd input as a string\u001b[0m\u001b[0;34m\u001b[0m\u001b[0;34m\u001b[0m\u001b[0m\n\u001b[0m\u001b[1;32m     27\u001b[0m   \u001b[0mintinp\u001b[0m \u001b[0;34m=\u001b[0m \u001b[0mint\u001b[0m\u001b[0;34m(\u001b[0m\u001b[0minp\u001b[0m\u001b[0;34m)\u001b[0m\u001b[0;34m\u001b[0m\u001b[0;34m\u001b[0m\u001b[0m\n\u001b[1;32m     28\u001b[0m \u001b[0;34m\u001b[0m\u001b[0m\n",
            "\u001b[0;32m/usr/local/lib/python3.7/dist-packages/ipykernel/kernelbase.py\u001b[0m in \u001b[0;36mraw_input\u001b[0;34m(self, prompt)\u001b[0m\n\u001b[1;32m    861\u001b[0m             \u001b[0mself\u001b[0m\u001b[0;34m.\u001b[0m\u001b[0m_parent_ident\u001b[0m\u001b[0;34m,\u001b[0m\u001b[0;34m\u001b[0m\u001b[0;34m\u001b[0m\u001b[0m\n\u001b[1;32m    862\u001b[0m             \u001b[0mself\u001b[0m\u001b[0;34m.\u001b[0m\u001b[0m_parent_header\u001b[0m\u001b[0;34m,\u001b[0m\u001b[0;34m\u001b[0m\u001b[0;34m\u001b[0m\u001b[0m\n\u001b[0;32m--> 863\u001b[0;31m             \u001b[0mpassword\u001b[0m\u001b[0;34m=\u001b[0m\u001b[0;32mFalse\u001b[0m\u001b[0;34m,\u001b[0m\u001b[0;34m\u001b[0m\u001b[0;34m\u001b[0m\u001b[0m\n\u001b[0m\u001b[1;32m    864\u001b[0m         )\n\u001b[1;32m    865\u001b[0m \u001b[0;34m\u001b[0m\u001b[0m\n",
            "\u001b[0;32m/usr/local/lib/python3.7/dist-packages/ipykernel/kernelbase.py\u001b[0m in \u001b[0;36m_input_request\u001b[0;34m(self, prompt, ident, parent, password)\u001b[0m\n\u001b[1;32m    902\u001b[0m             \u001b[0;32mexcept\u001b[0m \u001b[0mKeyboardInterrupt\u001b[0m\u001b[0;34m:\u001b[0m\u001b[0;34m\u001b[0m\u001b[0;34m\u001b[0m\u001b[0m\n\u001b[1;32m    903\u001b[0m                 \u001b[0;31m# re-raise KeyboardInterrupt, to truncate traceback\u001b[0m\u001b[0;34m\u001b[0m\u001b[0;34m\u001b[0m\u001b[0;34m\u001b[0m\u001b[0m\n\u001b[0;32m--> 904\u001b[0;31m                 \u001b[0;32mraise\u001b[0m \u001b[0mKeyboardInterrupt\u001b[0m\u001b[0;34m(\u001b[0m\u001b[0;34m\"Interrupted by user\"\u001b[0m\u001b[0;34m)\u001b[0m \u001b[0;32mfrom\u001b[0m \u001b[0;32mNone\u001b[0m\u001b[0;34m\u001b[0m\u001b[0;34m\u001b[0m\u001b[0m\n\u001b[0m\u001b[1;32m    905\u001b[0m             \u001b[0;32mexcept\u001b[0m \u001b[0mException\u001b[0m \u001b[0;32mas\u001b[0m \u001b[0me\u001b[0m\u001b[0;34m:\u001b[0m\u001b[0;34m\u001b[0m\u001b[0;34m\u001b[0m\u001b[0m\n\u001b[1;32m    906\u001b[0m                 \u001b[0mself\u001b[0m\u001b[0;34m.\u001b[0m\u001b[0mlog\u001b[0m\u001b[0;34m.\u001b[0m\u001b[0mwarning\u001b[0m\u001b[0;34m(\u001b[0m\u001b[0;34m\"Invalid Message:\"\u001b[0m\u001b[0;34m,\u001b[0m \u001b[0mexc_info\u001b[0m\u001b[0;34m=\u001b[0m\u001b[0;32mTrue\u001b[0m\u001b[0;34m)\u001b[0m\u001b[0;34m\u001b[0m\u001b[0;34m\u001b[0m\u001b[0m\n",
            "\u001b[0;31mKeyboardInterrupt\u001b[0m: Interrupted by user"
          ]
        }
      ]
    },
    {
      "cell_type": "markdown",
      "source": [
        "# **Challenge 2C: A Pseudo-Random Polyalphabetic Caesar Cypher**"
      ],
      "metadata": {
        "id": "A3ly94v2oeH3"
      }
    },
    {
      "cell_type": "markdown",
      "source": [
        "# random_shuffle_decrypt\n",
        "\n",
        "  ### A function that takes two parameters **cyphertext** and **passphrase** and return a deiphered plain text.\n",
        "\n",
        "  ### **cyphertext**: is what is to be decrypted.\n",
        "\n",
        "  ### **passphrase**: used to guide decryption.\n",
        "\n",
        "  ### **plaintext**: will be returned and can be jiberrish or a real word.\n",
        "\n",
        "  ### **plainset**: A string of allowed chracters.\n",
        "\n",
        "  ### **cypher**: A shuffled list of the plainset characters."
      ],
      "metadata": {
        "id": "AzwNbi6xydUs"
      }
    },
    {
      "cell_type": "code",
      "source": [
        "import random\n",
        "\n",
        "def random_shuffle_decrypt(cyphertext, passphrase):\n",
        "\n",
        "  \"\"\"\n",
        "  # random_shuffle_decrypt():\n",
        "\n",
        "  ###This function takes a cyphertext and passphrase as arguments. It returns\n",
        "  decyphered plain text.\n",
        "  ---\n",
        "  ## Input:\n",
        "  ### - cyphertext(str):** a string that is the result of a shuffled plaintext.\n",
        "  ### - passphrase(str):** An initiator for a pseudo random shuffle sequence. Used \n",
        "  to be able to replicate the same pseudo-random numbers when initiated.\n",
        "  ---\n",
        "  ## Output:\n",
        "  ### - plaintext(str): the result from decyphering the cyphertext.\n",
        "  ---\n",
        "  \"\"\"\n",
        "  try:\n",
        "    type(cyphertext) == str() #both arguments are strings\n",
        "    type(passphrase) == str()\n",
        "  except:\n",
        "    return \"Error: Arguments bust be  strings\"\n",
        "\n",
        "  plainset = 'ABCDEFGHIJKLMNOPQRSTUVWXYZ012345689 !,.' #Possible characters\n",
        "\n",
        "  cypher = list(plainset) #must be mutable to shuffle. converted to listed\n",
        "\n",
        "  plaintext = [] #Accumulates plainset keys for the plaintext\n",
        " \n",
        "  #The for loop below starts from the seed and iterates through indices of the \n",
        "  #cyphertext. It matches each index value to its index in the cypher. \n",
        "  #The index in the cypher will match up to the correct character in plainset\n",
        "  #Each correct character is then appended to plaintext.\n",
        "\n",
        "  random.seed(passphrase) #The phrase is a seed that creates a recurring pattern\n",
        "  for i in range(len(cyphertext)):\n",
        "    random.shuffle(cypher) #shuffles cypher char list in predetermined order\n",
        "\n",
        "    #Appends the plainset index with he correct char using index for false\n",
        "    #character in cyphertext on plainset chars\n",
        "    plaintext.append(plainset[cypher.index(cyphertext[i])]) \n",
        "\n",
        "  return \"\".join(plaintext) #Convert plaintext back to a string\n",
        "\n",
        "\n",
        "#Tests\n",
        "\n",
        "#GO STAGS!\n",
        "print(random_shuffle_decrypt(\"CTIMI.89W\",\"DATA 5405\")) #Answer - > 'GO STAGS!'\n",
        "\n",
        "#PYTHON IS THE BEST THING EVER: #Answer - > 'PYTHON IS THE BEST THING EVER'\n",
        "print(random_shuffle_decrypt(\"JENCT2Z50EAN.KTXCQFUMCKR,DYSD\",\"DATA 5405\")) \n",
        "\n",
        "#Extra Credit: #Answer - > 'WOW, YOU MUST BE A L33T HACKER!'\n",
        "print(random_shuffle_decrypt('IDRQFY9S6GMXH98PIL5X0NCZP,BYYRG', 'Go Stags!')) "
      ],
      "metadata": {
        "colab": {
          "base_uri": "https://localhost:8080/"
        },
        "id": "b3PcfeUYorVJ",
        "outputId": "ff7320b6-0f8a-4a48-f4ed-2f751e6b8347"
      },
      "execution_count": null,
      "outputs": [
        {
          "output_type": "stream",
          "name": "stdout",
          "text": [
            "GO STAGS!\n",
            "PYTHON IS THE BEST THING EVER\n",
            "WOW, YOU MUST BE A L33T HACKER!\n"
          ]
        }
      ]
    },
    {
      "cell_type": "code",
      "source": [],
      "metadata": {
        "id": "rJ1w9FFzGJTj"
      },
      "execution_count": null,
      "outputs": []
    }
  ]
}